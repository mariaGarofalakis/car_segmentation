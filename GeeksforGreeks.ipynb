{
 "cells": [
  {
   "cell_type": "markdown",
   "metadata": {
    "id": "rydXFRmqVTUw"
   },
   "source": [
    "Import necessary libraries."
   ]
  },
  {
   "cell_type": "code",
   "execution_count": null,
   "metadata": {
    "id": "4lXLJ4PdT6H7"
   },
   "outputs": [],
   "source": [
    "import numpy as np\n",
    "import torch\n",
    "import torch.nn as nn\n",
    "import torchvision\n",
    "import torch.optim as optim\n",
    "import torchvision.transforms.functional as TF\n",
    "from torch.utils.data import Dataset\n",
    "from torch.utils.data import DataLoader\n",
    "import csv\n",
    "import cv2\n",
    "from tqdm import tqdm\n",
    "import os\n",
    "import json\n",
    "from os.path import exists\n",
    "import matplotlib.pyplot as plt\n",
    "from skimage import transform\n",
    "\n",
    "DEVICE = \"cuda\" if torch.cuda.is_available() else \"cpu\"\n"
   ]
  },
  {
   "cell_type": "markdown",
   "metadata": {
    "id": "FfQK0fIvZc4I"
   },
   "source": [
    "**Load your path.** \n",
    "\n",
    "Set the path in your drive,the folder need to contain an **empty subfolder \"metrics\"**, one **subfolder \"testset\"** containing the test set and similarly one **subfolder \"trainset\"** for the train set."
   ]
  },
  {
   "cell_type": "code",
   "execution_count": null,
   "metadata": {
    "colab": {
     "base_uri": "https://localhost:8080/"
    },
    "id": "zuctkW8k0qau",
    "outputId": "adb8ddd5-07a0-418d-ff3b-e253ebdae91b"
   },
   "outputs": [
    {
     "name": "stdout",
     "output_type": "stream",
     "text": [
      "Drive already mounted at /content/drive; to attempt to forcibly remount, call drive.mount(\"/content/drive\", force_remount=True).\n"
     ]
    }
   ],
   "source": [
    "import sys\n",
    "## Change it with the place that you have placed the data with the format described above ##\n",
    "from google.colab import drive\n",
    "drive.mount('/content/drive')\n",
    "sys.path.append('drive/My Drive/shared')\n",
    "path='drive/My Drive/shared/'"
   ]
  },
  {
   "cell_type": "markdown",
   "metadata": {
    "id": "DQl9dCr_VFzF"
   },
   "source": [
    "Usefull functions/utils:"
   ]
  },
  {
   "cell_type": "code",
   "execution_count": null,
   "metadata": {
    "id": "0Mfd43flVjkm"
   },
   "outputs": [],
   "source": [
    "DEVICE = \"cuda\" if torch.cuda.is_available() else \"cpu\"\n",
    "\n",
    "\n",
    "def plot_metrics(name: str):\n",
    "    data = []\n",
    "    headers = None\n",
    "    with open(name, 'r') as f:\n",
    "        reader = csv.reader(f, delimiter=',')\n",
    "        for row in reader:\n",
    "            data.append(row)\n",
    "    train_metrics = []\n",
    "    test_metrics = []\n",
    "    for idx,row in enumerate(data):\n",
    "        if idx == 0:\n",
    "            headers = row\n",
    "        elif (idx % 2) == 1:\n",
    "            train_metrics.append(row)\n",
    "        elif (idx % 2) == 0:\n",
    "            test_metrics.append(row)\n",
    "\n",
    "    epochs = []\n",
    "    for i in range(len(train_metrics)):\n",
    "        epochs.append(i)\n",
    "    recall_train = []\n",
    "    recall_test = []\n",
    "    dice_train = []\n",
    "    dice_test = []\n",
    "    for i in train_metrics:\n",
    "        recall_train.append( float(\"{:.2f}\".format(float(i[0]))) )\n",
    "    for i in test_metrics:\n",
    "        recall_test.append(float(\"{:.2f}\".format(float(i[0]))))\n",
    "    for i in train_metrics:\n",
    "        dice_train.append( float(\"{:.2f}\".format(float(i[1]))) )\n",
    "    for i in test_metrics:\n",
    "        dice_test.append(float(\"{:.2f}\".format(float(i[1]))))\n",
    "\n",
    "    fig = plt.figure(figsize=(12, 4))\n",
    "    plt.subplot(1, 2, 1)\n",
    "    plt.plot( epochs , recall_train, label='train_loss')\n",
    "    plt.plot( epochs, recall_test, label='valid_loss')\n",
    "    plt.legend()\n",
    "    plt.subplot(1, 2, 2)\n",
    "    plt.plot( epochs, dice_train, label='train_accs')\n",
    "    plt.plot(epochs, dice_test, label='valid_accs')\n",
    "    plt.legend()\n",
    "    plt.savefig(path+'/metrics/metrics_baseline.png')\n",
    "\n",
    "\n",
    "def save_metrics(metrics,name: str):\n",
    "    data = []\n",
    "    file_exists = exists(name)\n",
    "    header = ['Recal', 'Dice', 'Tversky', 'Cross Entropy', 'Total', 'IoU']\n",
    "    for loader in metrics:\n",
    "        for i in range(len(loader)):\n",
    "            if i ==0:\n",
    "                loader[i] =  float ( \"{:.2f}\".format( float( loader[i].cpu().numpy()) ) )\n",
    "            else:\n",
    "                loader[i] = float(\"{:.4f}\".format(float(loader[i].cpu().numpy())))\n",
    "        data.append(loader)\n",
    "    with open(name, 'a',newline='') as f:\n",
    "        writer = csv.writer(f)\n",
    "        if not file_exists:\n",
    "            writer.writerow(header)\n",
    "        for i in data:\n",
    "            writer.writerow(i)\n",
    "    plot_metrics(name)\n",
    "\n",
    "\n",
    "def save_checkpoint(state, filename=\"my_checkpoint.pth.tar\"):\n",
    "    print(\"=> Saving checkpoint\")\n",
    "    torch.save(state, filename)\n",
    "\n",
    "\n",
    "def load_checkpoint(checkpoint, model):\n",
    "    print(\"=> Loading checkpoint\")\n",
    "    model.load_state_dict(checkpoint[\"state_dict\"])\n",
    "\n",
    "\n",
    "def get_loaders(train_dir , test_dir, batch_size, train_transform, test_transform, num_workers=4, pin_memory=True):\n",
    "    train_ds = create_dataset(image_dir=train_dir, train=True, transform = train_transform)\n",
    "\n",
    "    train_loader = DataLoader(train_ds, batch_size=batch_size,num_workers=num_workers,\n",
    "        pin_memory=pin_memory,\n",
    "        shuffle=True)\n",
    "\n",
    "    test_ds = create_dataset(\n",
    "        image_dir=test_dir, train=False, transform = test_transform\n",
    "    )\n",
    "\n",
    "    test_loader = DataLoader(\n",
    "        test_ds,\n",
    "        batch_size=batch_size,\n",
    "        num_workers=num_workers,\n",
    "        pin_memory=pin_memory,\n",
    "        shuffle=False,\n",
    "    )\n",
    "\n",
    "    return train_loader, test_loader\n",
    "\n",
    "\n",
    "def check_accuracy( train_loader ,test_loader, model, device=\"cuda\"):\n",
    "    TP_test = 0.0\n",
    "    FN_test = 0.0\n",
    "    total_test = 0.0\n",
    "    union_test = 0.0\n",
    "    TP_test_modified = 0.0\n",
    "    FN_test_modified = 0.0\n",
    "    dice_score_test = 0.0\n",
    "    cross_loss_test = 0.0\n",
    "    total_loss_test = 0.0\n",
    "    Tversky_test = 0.0\n",
    "\n",
    "    TP_train = 0.0\n",
    "    FN_train = 0.0\n",
    "    total_train = 0.0\n",
    "    TP_train_modified = 0.0\n",
    "    FN_train_modified = 0.0\n",
    "    dice_score_train = 0.0\n",
    "    cross_loss_train = 0.0\n",
    "    total_loss_train = 0.0\n",
    "    Tversky_train = 0.0\n",
    "\n",
    "    model.eval()\n",
    "\n",
    "    #Set loss function\n",
    "    total = Total_loss()\n",
    "\n",
    "    with torch.no_grad():\n",
    "        for all_data in test_loader:\n",
    "            x = all_data[:, 0, :, :]\n",
    "            y = all_data[:, 1:10, :, :]\n",
    "            x = x.float().unsqueeze(1).to(device=DEVICE)\n",
    "            y = y.float().to(device=DEVICE)\n",
    "\n",
    "            preds = model(x)\n",
    "            loss = total(preds, y)\n",
    "            total_loss_test += loss\n",
    "            cross_loss_test += total.ce\n",
    "            Tversky_test += total.tversky\n",
    "\n",
    "            preds = torch.softmax(preds, 1)\n",
    "            preds = (torch.zeros(preds.shape).scatter(1, preds.argmax(1).unsqueeze(1).cpu(), 1.0)).to(device=DEVICE)\n",
    "\n",
    "            TP_test_modified += (preds[:, 1:9, :, :] * y[:, 1:9, :, :]).sum()\n",
    "            FN_test_modified += (y[:, 1:9, :, :] * (1 - preds[:, 1:9, :, :])).sum()\n",
    "            TP_test += (preds * y).sum()\n",
    "            FN_test += (y * (1 - preds)).sum()\n",
    "            total_test += (preds + y).sum()\n",
    "\n",
    "            dice_score_test += (2 * (preds * y).sum()) / (\n",
    "                (preds + y).sum() + 1e-8\n",
    "            )\n",
    "    union_test += total_test - TP_test\n",
    "    print(\n",
    "        f\"Testing set:...Recall: {TP_test/(TP_test+FN_test)*100:.2f} ,...Car Recall: {TP_test_modified/(TP_test_modified+FN_test_modified)*100} ,...Dice score: {1-dice_score_test/len(test_loader)} \"\n",
    "        f\",...Tversky loss: {Tversky_test/len(test_loader)},...Cross_entropy: {cross_loss_test/len(test_loader)}\"\n",
    "    )\n",
    "\n",
    "    with torch.no_grad():\n",
    "        for all_data in train_loader:\n",
    "            x = all_data[:, 0, :, :]\n",
    "            y = all_data[:, 1:10, :, :]\n",
    "            x = x.float().unsqueeze(1).to(device=DEVICE)\n",
    "            y = y.float().to(device=DEVICE)\n",
    "\n",
    "            preds = model(x)\n",
    "            loss = total(preds, y)\n",
    "            total_loss_train += loss\n",
    "            cross_loss_train += total.ce\n",
    "            Tversky_train += total.tversky\n",
    "\n",
    "            preds = torch.softmax(preds, 1)\n",
    "            preds = (torch.zeros(preds.shape).scatter(1, preds.argmax(1).unsqueeze(1).cpu(), 1.0)).to(device=DEVICE)\n",
    "\n",
    "            TP_train_modified += (preds[:, 1:9, :, :] * y[:, 1:9, :, :]).sum()\n",
    "            FN_train_modified += (y[:, 1:9, :, :] * (1 - preds[:, 1:9, :, :])).sum()\n",
    "            TP_train += (preds * y).sum()\n",
    "            FN_train += (y * (1 - preds)).sum()\n",
    "            total_train += (preds + y).sum()\n",
    "\n",
    "\n",
    "            dice_score_train += (2 * (preds * y).sum()) / (\n",
    "                    (preds + y).sum() + 1e-8\n",
    "            )\n",
    "        union_train = total_train - TP_train\n",
    "        print(\n",
    "            f\"Training set:...Recall: {TP_train / (TP_train + FN_train) * 100:.2f} ,...Car Recall: {TP_train_modified/(TP_train_modified+FN_train_modified)*100} ,...Dice score: {1 - dice_score_train / len(train_loader)} \"\n",
    "            f\",...Tversky loss: {Tversky_train / len(train_loader)},...Cross_entropy: {cross_loss_train / len(train_loader)}\"\n",
    "        )\n",
    "\n",
    "    model.train()\n",
    "\n",
    "    #Return [ [train_metris] , [test_metrics] ] = [ [Recall,Dice,Tversky(used),Cross-Entropy(used),Total(used),IoU, Recall_modified] , [Recall,...,Recall_modified] ]\n",
    "    return [\n",
    "                [(TP_train/(TP_train+FN_train))*100, 1 - (dice_score_train/len(train_loader)),\n",
    "                 (Tversky_train/len(train_loader)),\n",
    "                 (cross_loss_train/len(train_loader)), (total_loss_train/len(train_loader)),\n",
    "                 (TP_train+1e-8)/(union_train+1e-8),\n",
    "                 (TP_train_modified/(TP_train_modified+FN_train_modified))*100],\n",
    "                [(TP_test / (TP_test + FN_test)) * 100, 1 - (dice_score_test / len(test_loader)),\n",
    "                 (Tversky_test / len(test_loader)),\n",
    "                 (cross_loss_test / len(test_loader)), (total_loss_test / len(test_loader)),\n",
    "                 (TP_test + 1e-8) / (union_test + 1e-8),\n",
    "                 (TP_test_modified/(TP_test_modified+FN_test_modified))*100]\n",
    "            ]\n",
    "\n",
    "\n",
    "def check_top_five(dir, name, metric, model_snapshot):\n",
    "    dictionary = {\n",
    "            \"checkpoint_0\": float('inf'),\n",
    "            \"checkpoint_1\": float('inf'),\n",
    "            \"checkpoint_2\": float('inf'),\n",
    "            \"checkpoint_3\": float('inf'),\n",
    "            \"checkpoint_4\": float('inf')\n",
    "    }\n",
    "    if not exists(dir+name):\n",
    "        json_object = json.dumps(dictionary)\n",
    "        with open(dir+name, \"w\") as outfile:\n",
    "            outfile.write(json_object)\n",
    "        outfile.close()\n",
    "\n",
    "    f = open(dir+name, 'r')\n",
    "    data = json.load(f)\n",
    "    data = dict(sorted(data.items(), key=lambda item: item[1], reverse=True))\n",
    "    checkpoint = next(iter(data))\n",
    "    print(f\"{data[checkpoint]} > {metric}????\")\n",
    "    if data[checkpoint] > metric:\n",
    "        data[checkpoint] = metric\n",
    "        save_checkpoint(model_snapshot, filename=dir+checkpoint+\".pth.tar\")\n",
    "    else:\n",
    "        print(\"Checkpoint is not in top 5 :'(\")\n",
    "    f.close()\n",
    "\n",
    "    with open(dir + name, \"w\") as file:\n",
    "        json_object = json.dumps(data)\n",
    "        file.write(json_object)\n",
    "    file.close()\n",
    "\n",
    "\n",
    "def save_predictions_as_imgs(\n",
    "    loader, model, folder=\"saved_images/\", device=\"cuda\"\n",
    "):\n",
    "    model.eval()\n",
    "    for idx, all_data in enumerate(loader):\n",
    "        x = all_data[:, 0, :, :]\n",
    "        y = all_data[:, 1:10, :, :]\n",
    "        x = x.float().unsqueeze(1).to(device=DEVICE)\n",
    "     #   y = y.float().unsqueeze(1)\n",
    "\n",
    "\n",
    "        with torch.no_grad():\n",
    "            preds = torch.softmax(model(x),1)\n",
    "            preds = preds.cpu()\n",
    "            #preds = torch.zeros(preds.shape).scatter(1, preds.argmax(1).unsqueeze(1), 1.0)\n",
    "            #preds = (preds = max_preds).float()\n",
    "            preds = preds.cuda()\n",
    "\n",
    "        for itr in range(9):\n",
    "            torchvision.utils.save_image(\n",
    "                torch.zeros(preds.shape).scatter(1, preds.argmax(1).unsqueeze(1).cpu(), 1.0)[:, itr, :, :].unsqueeze(1).cuda(), f\"{folder}/pred_{idx}_itr_{itr}.png\"\n",
    "            )\n",
    "            torchvision.utils.save_image(preds[:, itr, :, :].unsqueeze(1), f\"{folder}{idx}_grey_{itr}.png\")\n",
    "\n",
    "    model.train()"
   ]
  },
  {
   "cell_type": "markdown",
   "metadata": {
    "id": "iX0r4sQvWUeJ"
   },
   "source": [
    "Create data loaders:"
   ]
  },
  {
   "cell_type": "code",
   "execution_count": null,
   "metadata": {
    "id": "cRgPLSSBWZBy"
   },
   "outputs": [],
   "source": [
    "class create_dataset(Dataset):\n",
    "    def __init__(self, image_dir, train, transform=None):\n",
    "\n",
    "        self.image_dir = image_dir\n",
    "        self.original_images = os.listdir(image_dir)\n",
    "\n",
    "        self.transform = transform\n",
    "\n",
    "\n",
    "    def __len__(self):\n",
    "        return len(self.original_images)\n",
    "\n",
    "    def __getitem__(self, index):\n",
    "        image_path = os.path.join(self.image_dir, self.original_images[index])\n",
    "        image = np.load(image_path)\n",
    "\n",
    "\n",
    "\n",
    "        if self.transform is not None:\n",
    "            image = self.transform(image)\n",
    "\n",
    "        return image"
   ]
  },
  {
   "cell_type": "markdown",
   "metadata": {
    "id": "RgDnw_riWxPF"
   },
   "source": [
    "Set transformations:"
   ]
  },
  {
   "cell_type": "code",
   "execution_count": null,
   "metadata": {
    "id": "KkED5nh-WzcE"
   },
   "outputs": [],
   "source": [
    "class Normalize(object):\n",
    "    \"\"\"Normalize image between 0-1\n",
    "        \"\"\"\n",
    "    def __call__(self,sample):\n",
    "        sample[0, :, :] = 255 * (sample[0, :, :] - np.min(sample[0, :, :])) / np.ptp(sample[0, :, :])\n",
    "        sample[1, :, :] = 255 * (sample[1, :, :] - np.min(sample[1, :, :])) / np.ptp(sample[1, :, :])\n",
    "        sample[2, :, :] = 255 * (sample[2, :, :] - np.min(sample[2, :, :])) / np.ptp(sample[2, :, :])\n",
    "\n",
    "        #sample[0, :, :] = (sample[0, :, :] + 0.485 / 0.229 - 0.485) / 0.229\n",
    "        #sample[1, :, :] = (sample[1, :, :] + 0.456 / 0.224 - 0.456) / 0.224\n",
    "        #sample[2, :, :] = (sample[2, :, :] + 0.406 / 0.225 - 0.406) / 0.225\n",
    "\n",
    "        return sample\n",
    "\n",
    "class Rescale(object):\n",
    "    \"\"\"Rescale the image in a sample to a given size.\n",
    "    Args:\n",
    "        output_size (tuple or int): Desired output size. If tuple, output is\n",
    "            matched to output_size. If int, smaller of image edges is matched\n",
    "            to output_size keeping aspect ratio the same.\n",
    "    \"\"\"\n",
    "\n",
    "    def __init__(self, output_size):\n",
    "        self.output_size = output_size\n",
    "\n",
    "    def __call__(self, sample):\n",
    "        sample = np.transpose(sample, (1, 2, 0))\n",
    "        image = sample[:, :, :3]\n",
    "        masks = sample[:, :, 3:]\n",
    "\n",
    "        h, w = image.shape[:2]\n",
    "\n",
    "        if isinstance(self.output_size, int):\n",
    "            if h > w:\n",
    "                new_h, new_w = self.output_size * h/w, self.output_size\n",
    "            else:\n",
    "                new_h, new_w = self.output_size, self.output_size * w/h\n",
    "        else:\n",
    "            new_h, new_w = self.output_size\n",
    "\n",
    "        new_h, new_w = int(new_h), int(new_w)\n",
    "\n",
    "        image = transform.resize(image, (new_h, new_w))\n",
    "\n",
    "        masks = transform.resize(masks, (new_h, new_w))\n",
    "        rescaled_sample = np.concatenate((image, masks), axis=2)\n",
    "\n",
    "        return rescaled_sample\n",
    "\n",
    "class Grayscale(object):\n",
    "    \"\"\"Convert RBG image in sample to Grayscale.\"\"\"\n",
    "    def __call__(self, sample):\n",
    "\n",
    "        image = sample[:, :, :3]\n",
    "        masks = sample[:, :, 3:]\n",
    "\n",
    "        h, w = image.shape[:2]\n",
    "\n",
    "        gray_image = np.zeros((h,w,11))\n",
    "        gray_image[:,:, 1:] = masks\n",
    "        gray_image[:, :,0] =np.dot(sample[:, :, :3], [0.299, 0.587, 0.144])\n",
    "\n",
    "        return gray_image\n",
    "\n",
    "class ToTensor(object):\n",
    "    \"\"\"Convert ndarrays in sample to Tensors.\"\"\"\n",
    "\n",
    "    def __call__(self, sample):\n",
    "        sample = sample.transpose((2, 0, 1))\n",
    "        return torch.from_numpy(sample)\n",
    "\n",
    "class randomHueSaturationValue(object):\n",
    "\n",
    "    def __init__(self, hue_shift_limit=(-180, 180),\n",
    "                             sat_shift_limit=(-255, 255),\n",
    "                             val_shift_limit=(-255, 255), u=0.5):\n",
    "\n",
    "        self.hue_shift_limit = hue_shift_limit\n",
    "        self.sat_shift_limit = sat_shift_limit\n",
    "        self.val_shift_limit = val_shift_limit\n",
    "        self.u = u\n",
    "\n",
    "    def __call__(self,samples):\n",
    "\n",
    "        image = samples[:,:,:3]\n",
    "\n",
    "        image = np.array(image, np.uint8)\n",
    "        image = image[:, :, ::-1].copy()\n",
    "\n",
    "        if np.random.random() < self.u:\n",
    "            image = cv2.cvtColor(image, cv2.COLOR_RGB2HSV)\n",
    "            h, s, v = cv2.split(image)\n",
    "            hue_shift = np.random.uniform(self.hue_shift_limit[0], self.hue_shift_limit[1])\n",
    "            h = cv2.add(h, hue_shift)\n",
    "            sat_shift = np.random.uniform(self.sat_shift_limit[0], self.sat_shift_limit[1])\n",
    "            s = cv2.add(s, sat_shift)\n",
    "            val_shift = np.random.uniform(self.val_shift_limit[0], self.val_shift_limit[1])\n",
    "            v = cv2.add(v, val_shift)\n",
    "            image = cv2.merge((h, s, v))\n",
    "            image = cv2.cvtColor(image, cv2.COLOR_HSV2RGB)\n",
    "\n",
    "        image = image[:, :, ::-1].copy()\n",
    "\n",
    "        samples[:,:,:3] = image\n",
    "\n",
    "        return samples\n",
    "\n",
    "class randomShiftScaleRotate(object):\n",
    "\n",
    "    def __init__(self,shift_limit=(-0.0625, 0.0625),\n",
    "                           scale_limit=(-0.1, 0.1),\n",
    "                           rotate_limit=(-45, 45), aspect_limit=(0, 0),\n",
    "                           borderMode=cv2.BORDER_CONSTANT, u=0.5):\n",
    "\n",
    "        self.shift_limit = shift_limit\n",
    "        self.scale_limit = scale_limit\n",
    "        self.rotate_limit = rotate_limit\n",
    "        self.aspect_limit = aspect_limit\n",
    "        self.borderMode = borderMode\n",
    "        self.u = u\n",
    "\n",
    "\n",
    "    def __call__(self,samples):\n",
    "\n",
    "\n",
    "        image = np.array(samples[:,:,:3], np.uint8)\n",
    "        mask = np.array(samples[:,:,3:], np.uint8)\n",
    "        image = image[:, :, ::-1].copy()\n",
    "        mask = mask[:, :, ::-1].copy()\n",
    "\n",
    "        if np.random.random() < self.u:\n",
    "            height, width, channel = image.shape\n",
    "\n",
    "            angle = np.random.uniform(self.rotate_limit[0], self.rotate_limit[1])  # degree\n",
    "            scale = np.random.uniform(1 + self.scale_limit[0], 1 + self.scale_limit[1])\n",
    "            aspect = np.random.uniform(1 + self.aspect_limit[0], 1 + self.aspect_limit[1])\n",
    "            sx = scale * aspect / (aspect ** 0.5)\n",
    "            sy = scale / (aspect ** 0.5)\n",
    "            dx = round(np.random.uniform(self.shift_limit[0], self.shift_limit[1]) * width)\n",
    "            dy = round(np.random.uniform(self.shift_limit[0], self.shift_limit[1]) * height)\n",
    "\n",
    "            cc = np.math.cos(angle / 180 * np.math.pi) * sx\n",
    "            ss = np.math.sin(angle / 180 * np.math.pi) * sy\n",
    "            rotate_matrix = np.array([[cc, -ss], [ss, cc]])\n",
    "\n",
    "            box0 = np.array([[0, 0], [width, 0], [width, height], [0, height], ])\n",
    "            box1 = box0 - np.array([width / 2, height / 2])\n",
    "            box1 = np.dot(box1, rotate_matrix.T) + np.array([width / 2 + dx, height / 2 + dy])\n",
    "\n",
    "            box0 = box0.astype(np.float32)\n",
    "            box1 = box1.astype(np.float32)\n",
    "            mat = cv2.getPerspectiveTransform(box0, box1)\n",
    "            image = cv2.warpPerspective(image, mat, (width, height), flags=cv2.INTER_LINEAR, borderMode=self.borderMode,\n",
    "                                        borderValue=(0, 0, 0,))\n",
    "            mask = cv2.warpPerspective(mask, mat, (width, height), flags=cv2.INTER_LINEAR, borderMode=self.borderMode,\n",
    "                                       borderValue=(0, 0, 0,))\n",
    "            if len(mask.shape) == 2:\n",
    "                mask = np.expand_dims(mask, axis=2)\n",
    "            if len(image.shape) == 2:\n",
    "                image = np.expand_dims(image, axis=2)\n",
    "\n",
    "\n",
    "        samples[:, :, :3]=image\n",
    "        samples[:, :, 3:] = mask\n",
    "\n",
    "        return samples\n",
    "\n",
    "class randomHorizontalFlip(object):\n",
    "\n",
    "    def __init__(self, u=0.5):\n",
    "        self.u = u\n",
    "\n",
    "    def __call__(self,samples):\n",
    "        image = np.array(samples[:,:,:3], np.uint8)\n",
    "        mask = np.array(samples[:,:,3:], np.uint8)\n",
    "        image = image[:, :, ::-1].copy()\n",
    "        mask = mask[:, :, ::-1].copy()\n",
    "\n",
    "        if np.random.random() < self.u:\n",
    "            image = cv2.flip(image, 1)\n",
    "            mask = cv2.flip(mask, 1)\n",
    "            if len(image.shape) == 2:\n",
    "                image = np.expand_dims(image, axis=2)\n",
    "\n",
    "\n",
    "        samples[:, :, :3] = image\n",
    "        samples[:, :, 3:] = mask\n",
    "\n",
    "        return samples\n",
    "\n",
    "class randomZoom(object):\n",
    "    def __init__(self, zoom_limit=0.25, u=0.5):\n",
    "\n",
    "        self.zoom_limit = zoom_limit\n",
    "        self.u = u\n",
    "\n",
    "    def __call__(self,samples):\n",
    "        image = np.array(samples[:,:,:3], np.uint8)\n",
    "        mask = np.array(samples[:,:,3:], np.uint8)\n",
    "        image = image[:, :, ::-1].copy()\n",
    "        mask = mask[:, :, ::-1].copy()\n",
    "\n",
    "        if np.random.random() < self.u:\n",
    "            value = np.random.uniform(self.zoom_limit, 1)\n",
    "            h, w = image.shape[:2]\n",
    "            h_taken = int(value * h)\n",
    "            w_taken = int(value * w)\n",
    "            h_start = np.random.randint(0, h - h_taken)\n",
    "            w_start = np.random.randint(0, w - w_taken)\n",
    "            image = image[h_start:h_start + h_taken, w_start:w_start + w_taken, :]\n",
    "            mask = mask[h_start:h_start + h_taken, w_start:w_start + w_taken, :]\n",
    "            image = cv2.resize(image, (h, w), cv2.INTER_CUBIC)\n",
    "            mask = cv2.resize(mask, (h, w), cv2.INTER_CUBIC)\n",
    "            if len(image.shape) == 2:\n",
    "                image = np.expand_dims(image, axis=2)\n",
    "\n",
    "        image = image[:, :, ::-1].copy()\n",
    "        mask = mask[:, :, ::-1].copy()\n",
    "\n",
    "        samples[:, :, :3] = image\n",
    "        samples[:, :, 3:] = mask\n",
    "\n",
    "        return samples"
   ]
  },
  {
   "cell_type": "markdown",
   "metadata": {
    "id": "sh_Z4f-lcZWc"
   },
   "source": [
    "Import model:"
   ]
  },
  {
   "cell_type": "code",
   "execution_count": null,
   "metadata": {
    "colab": {
     "base_uri": "https://localhost:8080/"
    },
    "id": "JXb61geVcbKZ",
    "outputId": "01b4328b-2e06-4eec-a978-e615e6935b16"
   },
   "outputs": [
    {
     "name": "stdout",
     "output_type": "stream",
     "text": [
      "torch.Size([3, 9, 161, 161])\n"
     ]
    }
   ],
   "source": [
    "class DoubleConv(nn.Module):\n",
    "    def __init__(self, in_channels, out_channels):\n",
    "        super(DoubleConv, self).__init__()\n",
    "        self.conv = nn.Sequential(\n",
    "            nn.Conv2d(in_channels, out_channels, 3, 1, 1, bias=False),\n",
    "            nn.BatchNorm2d(out_channels),\n",
    "            nn.ReLU(inplace=True),\n",
    "            nn.Conv2d(out_channels, out_channels, 3, 1, 1, bias=False),\n",
    "            nn.BatchNorm2d(out_channels),\n",
    "            nn.ReLU(inplace=True),\n",
    "        )\n",
    "\n",
    "    def forward(self, x):\n",
    "        return self.conv(x)\n",
    "\n",
    "class UNET(nn.Module):\n",
    "    def __init__(\n",
    "            self, in_channels=1, out_channels=1, features=[64, 128, 256, 512],\n",
    "    ):\n",
    "        super(UNET, self).__init__()\n",
    "        self.ups = nn.ModuleList()\n",
    "        self.downs = nn.ModuleList()\n",
    "        self.pool = nn.MaxPool2d(kernel_size=2, stride=2)\n",
    "\n",
    "        # Down part of UNET\n",
    "        for feature in features:\n",
    "            self.downs.append(DoubleConv(in_channels, feature))\n",
    "            in_channels = feature\n",
    "\n",
    "        # Up part of UNET\n",
    "        for feature in reversed(features):\n",
    "            self.ups.append(\n",
    "                nn.ConvTranspose2d(\n",
    "                    feature*2, feature, kernel_size=2, stride=2,\n",
    "                )\n",
    "            )\n",
    "            self.ups.append(DoubleConv(feature*2, feature))\n",
    "\n",
    "        self.bottleneck = DoubleConv(features[-1], features[-1]*2)\n",
    "        self.final_conv = nn.Conv2d(features[0], out_channels, kernel_size=1)\n",
    "\n",
    "    def forward(self, x):\n",
    "        skip_connections = []\n",
    "\n",
    "        for down in self.downs:\n",
    "            x = down(x)\n",
    "            skip_connections.append(x)\n",
    "            x = self.pool(x)\n",
    "\n",
    "        x = self.bottleneck(x)\n",
    "        skip_connections = skip_connections[::-1]\n",
    "\n",
    "        for idx in range(0, len(self.ups), 2):\n",
    "            x = self.ups[idx](x)\n",
    "            skip_connection = skip_connections[idx//2]\n",
    "\n",
    "            if x.shape != skip_connection.shape:\n",
    "                x = TF.resize(x, size=skip_connection.shape[2:])\n",
    "\n",
    "            concat_skip = torch.cat((skip_connection, x), dim=1)\n",
    "            x = self.ups[idx+1](concat_skip)\n",
    "\n",
    "        return self.final_conv(x)\n",
    "\n",
    "def test():\n",
    "    x = torch.randn((3, 1, 161, 161))\n",
    "    model = UNET(in_channels=1, out_channels=9)\n",
    "    preds = model(x)\n",
    "    print(preds.shape)\n",
    "\n",
    "if __name__ == \"__main__\":\n",
    "    test()"
   ]
  },
  {
   "cell_type": "markdown",
   "metadata": {
    "id": "hyTsoq4sW2Vp"
   },
   "source": [
    "Create costum loss function:"
   ]
  },
  {
   "cell_type": "code",
   "execution_count": null,
   "metadata": {
    "id": "hGBWKGk1W5SS"
   },
   "outputs": [],
   "source": [
    "import torch.nn as nn\n",
    "import torch\n",
    "import torch.nn.functional as F\n",
    "DEVICE = \"cuda\" if torch.cuda.is_available() else \"cpu\"\n",
    "\n",
    "class Total_loss(nn.Module):\n",
    "    def __init__(self, weight=None, size_average=True, alpha=0.3, beta=0.7, sigma=0.4 , theta=0.6  ):\n",
    "        super(Total_loss, self).__init__()\n",
    "        self.tversky = 0.0\n",
    "        self.ce = 0.0\n",
    "        self.alpha = alpha\n",
    "        self.beta = beta\n",
    "        self.sigma = sigma\n",
    "        self.theta = theta\n",
    "\n",
    "    def forward(self, inputs, targets, smooth=1e-4):\n",
    "        #class_weight = torch.tensor([ 0.04, 0.12 , 0.12 , 0.12 , 0.12 , 0.12 , 0.12, 0.12, 0.12])\n",
    "        class_weight = torch.tensor([ 0.5, 1 , 1 , 1 , 1 , 1 , 1, 1, 1])\n",
    "        crossLoss = nn.CrossEntropyLoss(weight= class_weight.cuda() ,reduction='mean', )\n",
    "        self.ce = self.sigma *crossLoss(inputs, targets)\n",
    "\n",
    "        inputs = torch.softmax(inputs, 1)\n",
    "\n",
    "        # flatten label and prediction tensors\n",
    "        inputs_f = inputs.view(-1)\n",
    "        targets_f = targets.view(-1)\n",
    "        inputs = inputs[:, 1:9, :, :].reshape(-1)\n",
    "        targets = targets[:, 1:9, :, :].reshape(-1)\n",
    "\n",
    "        # True Positives, False Positives & False Negatives\n",
    "        TP = (inputs* targets).sum()\n",
    "        FP = ((1 - targets_f) * inputs_f).sum()\n",
    "        FN = (targets_f * (1 - inputs_f)).sum()\n",
    "\n",
    "        self.tversky = self.theta * (1 - (TP + smooth) / (TP + self.alpha * FP + self.beta * FN + smooth))\n",
    "        Dice_BCE = self.ce + self.tversky\n",
    "\n",
    "        return Dice_BCE"
   ]
  },
  {
   "cell_type": "markdown",
   "metadata": {
    "id": "FYoNipeQXHTg"
   },
   "source": [
    "Hyperparameters"
   ]
  },
  {
   "cell_type": "code",
   "execution_count": null,
   "metadata": {
    "id": "xVbBLKPLXOhr"
   },
   "outputs": [],
   "source": [
    "# Hyperparameters etc.\n",
    "LEARNING_RATE = 1e-4\n",
    "TRAIN_IMG_DIR = path+\"trainset\"\n",
    "TEST_IMG_DIR = path+\"testset\"\n",
    "BATCH_SIZE = 6\n",
    "NUM_EPOCHS = 500\n",
    "\n",
    "NUM_WORKERS = 2\n",
    "IMAGE_HEIGHT = 256\n",
    "IMAGE_WIDTH = 256\n",
    "PIN_MEMORY = True\n",
    "LOAD_MODEL = True\n",
    "alpha = 0.3 #Tversky hyperparameters\n",
    "beta = 0.7  #Tversky hyperparameters\n",
    "sigma = 0.4 #Proportion of Cross entropy loss\n",
    "theta = 0.6 #Proportion of Tversk loss"
   ]
  },
  {
   "cell_type": "markdown",
   "metadata": {
    "id": "-R1GXqvwXBpc"
   },
   "source": [
    "Train and check accuracy:"
   ]
  },
  {
   "cell_type": "code",
   "execution_count": null,
   "metadata": {
    "colab": {
     "base_uri": "https://localhost:8080/"
    },
    "id": "UvgoLevKXGLL",
    "outputId": "2d22f8c2-e5f2-437e-a5db-702161bec4e9"
   },
   "outputs": [
    {
     "name": "stdout",
     "output_type": "stream",
     "text": [
      "=> Loading checkpoint\n",
      "Traing epoch: 0.............................\n"
     ]
    },
    {
     "name": "stderr",
     "output_type": "stream",
     "text": [
      "100%|██████████| 24/24 [00:30<00:00,  1.29s/it, loss=0.298]"
     ]
    },
    {
     "name": "stdout",
     "output_type": "stream",
     "text": [
      "Total Loss: 0.2980881929397583...Tversky loss: 0.24781741201877594... Cross Entropy: 0.05027078464627266\n",
      "0.23324386775493622 > 0.24781741201877594????\n",
      "Checkpoint is not in top 5 :'(\n"
     ]
    },
    {
     "name": "stderr",
     "output_type": "stream",
     "text": [
      "\n"
     ]
    },
    {
     "name": "stdout",
     "output_type": "stream",
     "text": [
      "Testing set:...Recall: 86.51 ,...Car Recall: 70.99076843261719 ,...Dice score: 0.1349177360534668 ,...Tversky loss: 0.3484901487827301,...Cross_entropy: 0.13338243961334229\n",
      "Training set:...Recall: 80.96 ,...Car Recall: 53.37736511230469 ,...Dice score: 0.21790534257888794 ,...Tversky loss: 0.4060618281364441,...Cross_entropy: 0.1991739720106125\n",
      "Traing epoch: 1.............................\n"
     ]
    },
    {
     "name": "stderr",
     "output_type": "stream",
     "text": [
      "100%|██████████| 24/24 [00:30<00:00,  1.26s/it, loss=0.771]"
     ]
    },
    {
     "name": "stdout",
     "output_type": "stream",
     "text": [
      "Total Loss: 0.7708918452262878...Tversky loss: 0.5706749558448792... Cross Entropy: 0.2002168893814087\n",
      "0.23324386775493622 > 0.5706749558448792????\n",
      "Checkpoint is not in top 5 :'(\n"
     ]
    },
    {
     "name": "stderr",
     "output_type": "stream",
     "text": [
      "\n"
     ]
    },
    {
     "name": "stdout",
     "output_type": "stream",
     "text": [
      "Testing set:...Recall: 89.67 ,...Car Recall: 60.66289520263672 ,...Dice score: 0.10334062576293945 ,...Tversky loss: 0.3196931481361389,...Cross_entropy: 0.13587042689323425\n",
      "Training set:...Recall: 85.09 ,...Car Recall: 52.827919006347656 ,...Dice score: 0.1801755428314209 ,...Tversky loss: 0.3788549602031708,...Cross_entropy: 0.17688390612602234\n",
      "Traing epoch: 2.............................\n"
     ]
    },
    {
     "name": "stderr",
     "output_type": "stream",
     "text": [
      "100%|██████████| 24/24 [00:30<00:00,  1.05it/s, loss=0.455]Traceback (most recent call last):\n",
      "  File \"/usr/lib/python3.7/multiprocessing/queues.py\", line 242, in _feed\n",
      "    send_bytes(obj)\n",
      "  File \"/usr/lib/python3.7/multiprocessing/connection.py\", line 200, in send_bytes\n",
      "    self._send_bytes(m[offset:offset + size])\n",
      "  File \"/usr/lib/python3.7/multiprocessing/connection.py\", line 404, in _send_bytes\n",
      "    self._send(header + buf)\n",
      "  File \"/usr/lib/python3.7/multiprocessing/connection.py\", line 368, in _send\n",
      "    n = write(self._handle, buf)\n",
      "BrokenPipeError: [Errno 32] Broken pipe\n",
      "100%|██████████| 24/24 [00:30<00:00,  1.26s/it, loss=0.455]"
     ]
    },
    {
     "name": "stdout",
     "output_type": "stream",
     "text": [
      "Total Loss: 0.454839825630188...Tversky loss: 0.37635722756385803... Cross Entropy: 0.07848259806632996\n",
      "0.23324386775493622 > 0.37635722756385803????\n",
      "Checkpoint is not in top 5 :'(\n"
     ]
    },
    {
     "name": "stderr",
     "output_type": "stream",
     "text": [
      "\n"
     ]
    },
    {
     "name": "stdout",
     "output_type": "stream",
     "text": [
      "Testing set:...Recall: 88.40 ,...Car Recall: 65.09123229980469 ,...Dice score: 0.11601150035858154 ,...Tversky loss: 0.3268803358078003,...Cross_entropy: 0.1300140768289566\n",
      "Training set:...Recall: 84.77 ,...Car Recall: 56.29931640625 ,...Dice score: 0.19660097360610962 ,...Tversky loss: 0.37737369537353516,...Cross_entropy: 0.18744057416915894\n",
      "Traing epoch: 3.............................\n"
     ]
    },
    {
     "name": "stderr",
     "output_type": "stream",
     "text": [
      "100%|██████████| 24/24 [00:30<00:00,  1.26s/it, loss=0.952]"
     ]
    },
    {
     "name": "stdout",
     "output_type": "stream",
     "text": [
      "Total Loss: 0.9517896175384521...Tversky loss: 0.5996237397193909... Cross Entropy: 0.3521658480167389\n",
      "0.23324386775493622 > 0.5996237397193909????\n",
      "Checkpoint is not in top 5 :'(\n"
     ]
    },
    {
     "name": "stderr",
     "output_type": "stream",
     "text": [
      "\n"
     ]
    },
    {
     "name": "stdout",
     "output_type": "stream",
     "text": [
      "Testing set:...Recall: 89.96 ,...Car Recall: 64.56281280517578 ,...Dice score: 0.10040843486785889 ,...Tversky loss: 0.3004457950592041,...Cross_entropy: 0.13178899884223938\n",
      "Training set:...Recall: 84.88 ,...Car Recall: 56.00646209716797 ,...Dice score: 0.1934882402420044 ,...Tversky loss: 0.36492401361465454,...Cross_entropy: 0.1888064444065094\n",
      "Traing epoch: 4.............................\n"
     ]
    },
    {
     "name": "stderr",
     "output_type": "stream",
     "text": [
      "100%|██████████| 24/24 [00:30<00:00,  1.26s/it, loss=0.867]"
     ]
    },
    {
     "name": "stdout",
     "output_type": "stream",
     "text": [
      "Total Loss: 0.866874098777771...Tversky loss: 0.5464726686477661... Cross Entropy: 0.3204014003276825\n",
      "0.23324386775493622 > 0.5464726686477661????\n",
      "Checkpoint is not in top 5 :'(\n"
     ]
    },
    {
     "name": "stderr",
     "output_type": "stream",
     "text": [
      "\n"
     ]
    },
    {
     "name": "stdout",
     "output_type": "stream",
     "text": [
      "Testing set:...Recall: 88.73 ,...Car Recall: 66.41975402832031 ,...Dice score: 0.11267697811126709 ,...Tversky loss: 0.3240485191345215,...Cross_entropy: 0.1262364387512207\n",
      "Training set:...Recall: 81.64 ,...Car Recall: 50.71652603149414 ,...Dice score: 0.21987652778625488 ,...Tversky loss: 0.389117568731308,...Cross_entropy: 0.21279379725456238\n",
      "Traing epoch: 5.............................\n"
     ]
    },
    {
     "name": "stderr",
     "output_type": "stream",
     "text": [
      "100%|██████████| 24/24 [00:30<00:00,  1.27s/it, loss=1.2]"
     ]
    },
    {
     "name": "stdout",
     "output_type": "stream",
     "text": [
      "Total Loss: 1.1954960823059082...Tversky loss: 0.5845934748649597... Cross Entropy: 0.6109026074409485\n",
      "0.23324386775493622 > 0.5845934748649597????\n",
      "Checkpoint is not in top 5 :'(\n"
     ]
    },
    {
     "name": "stderr",
     "output_type": "stream",
     "text": [
      "\n"
     ]
    },
    {
     "name": "stdout",
     "output_type": "stream",
     "text": [
      "Testing set:...Recall: 89.09 ,...Car Recall: 62.39003372192383 ,...Dice score: 0.10913997888565063 ,...Tversky loss: 0.3222304582595825,...Cross_entropy: 0.13611550629138947\n",
      "Training set:...Recall: 86.74 ,...Car Recall: 59.90121841430664 ,...Dice score: 0.19458752870559692 ,...Tversky loss: 0.3672160804271698,...Cross_entropy: 0.18005512654781342\n",
      "Traing epoch: 6.............................\n"
     ]
    },
    {
     "name": "stderr",
     "output_type": "stream",
     "text": [
      "100%|██████████| 24/24 [00:30<00:00,  1.26s/it, loss=1.12]"
     ]
    },
    {
     "name": "stdout",
     "output_type": "stream",
     "text": [
      "Total Loss: 1.1159031391143799...Tversky loss: 0.49181652069091797... Cross Entropy: 0.6240865588188171\n",
      "0.23324386775493622 > 0.49181652069091797????\n",
      "Checkpoint is not in top 5 :'(\n"
     ]
    },
    {
     "name": "stderr",
     "output_type": "stream",
     "text": [
      "\n"
     ]
    },
    {
     "name": "stdout",
     "output_type": "stream",
     "text": [
      "Testing set:...Recall: 89.02 ,...Car Recall: 67.42350769042969 ,...Dice score: 0.10977476835250854 ,...Tversky loss: 0.3159523904323578,...Cross_entropy: 0.13418355584144592\n",
      "Training set:...Recall: 84.75 ,...Car Recall: 60.26317596435547 ,...Dice score: 0.19469809532165527 ,...Tversky loss: 0.36598193645477295,...Cross_entropy: 0.1745852828025818\n",
      "Traing epoch: 7.............................\n"
     ]
    },
    {
     "name": "stderr",
     "output_type": "stream",
     "text": [
      "100%|██████████| 24/24 [00:30<00:00,  1.26s/it, loss=0.35]"
     ]
    },
    {
     "name": "stdout",
     "output_type": "stream",
     "text": [
      "Total Loss: 0.3496021032333374...Tversky loss: 0.2743820548057556... Cross Entropy: 0.07522006332874298\n",
      "0.23324386775493622 > 0.2743820548057556????\n",
      "Checkpoint is not in top 5 :'(\n"
     ]
    },
    {
     "name": "stderr",
     "output_type": "stream",
     "text": [
      "\n"
     ]
    },
    {
     "name": "stdout",
     "output_type": "stream",
     "text": [
      "Testing set:...Recall: 90.19 ,...Car Recall: 64.30846405029297 ,...Dice score: 0.09807479381561279 ,...Tversky loss: 0.3052976131439209,...Cross_entropy: 0.1262187510728836\n",
      "Training set:...Recall: 83.47 ,...Car Recall: 50.9844970703125 ,...Dice score: 0.20943617820739746 ,...Tversky loss: 0.3964107036590576,...Cross_entropy: 0.19811129570007324\n",
      "Traing epoch: 8.............................\n"
     ]
    },
    {
     "name": "stderr",
     "output_type": "stream",
     "text": [
      "100%|██████████| 24/24 [00:30<00:00,  1.27s/it, loss=0.37]"
     ]
    },
    {
     "name": "stdout",
     "output_type": "stream",
     "text": [
      "Total Loss: 0.36968865990638733...Tversky loss: 0.2643333077430725... Cross Entropy: 0.10535534471273422\n",
      "0.23324386775493622 > 0.2643333077430725????\n",
      "Checkpoint is not in top 5 :'(\n"
     ]
    },
    {
     "name": "stderr",
     "output_type": "stream",
     "text": [
      "\n"
     ]
    },
    {
     "name": "stdout",
     "output_type": "stream",
     "text": [
      "Testing set:...Recall: 89.65 ,...Car Recall: 65.29198455810547 ,...Dice score: 0.1034892201423645 ,...Tversky loss: 0.30847397446632385,...Cross_entropy: 0.1256527304649353\n",
      "Training set:...Recall: 84.08 ,...Car Recall: 54.420047760009766 ,...Dice score: 0.1926167607307434 ,...Tversky loss: 0.38687393069267273,...Cross_entropy: 0.176531121134758\n",
      "Traing epoch: 9.............................\n"
     ]
    },
    {
     "name": "stderr",
     "output_type": "stream",
     "text": [
      "100%|██████████| 24/24 [00:30<00:00,  1.27s/it, loss=0.21]\n"
     ]
    },
    {
     "name": "stdout",
     "output_type": "stream",
     "text": [
      "Total Loss: 0.2099449187517166...Tversky loss: 0.17323940992355347... Cross Entropy: 0.03670550882816315\n",
      "0.23324386775493622 > 0.17323940992355347????\n",
      "=> Saving checkpoint\n",
      "Testing set:...Recall: 88.81 ,...Car Recall: 65.82354736328125 ,...Dice score: 0.11188966035842896 ,...Tversky loss: 0.3290354013442993,...Cross_entropy: 0.12895943224430084\n",
      "Training set:...Recall: 84.07 ,...Car Recall: 55.08338928222656 ,...Dice score: 0.1926175355911255 ,...Tversky loss: 0.38908177614212036,...Cross_entropy: 0.17642919719219208\n",
      "Traing epoch: 10.............................\n"
     ]
    },
    {
     "name": "stderr",
     "output_type": "stream",
     "text": [
      "100%|██████████| 24/24 [00:30<00:00,  1.26s/it, loss=0.729]"
     ]
    },
    {
     "name": "stdout",
     "output_type": "stream",
     "text": [
      "Total Loss: 0.7289220094680786...Tversky loss: 0.36429643630981445... Cross Entropy: 0.3646255433559418\n",
      "0.2162763625383377 > 0.36429643630981445????\n",
      "Checkpoint is not in top 5 :'(\n"
     ]
    },
    {
     "name": "stderr",
     "output_type": "stream",
     "text": [
      "\n"
     ]
    },
    {
     "name": "stdout",
     "output_type": "stream",
     "text": [
      "Testing set:...Recall: 89.57 ,...Car Recall: 64.64847564697266 ,...Dice score: 0.10434627532958984 ,...Tversky loss: 0.3070889413356781,...Cross_entropy: 0.1297445297241211\n",
      "Training set:...Recall: 83.41 ,...Car Recall: 53.63661575317383 ,...Dice score: 0.1970527172088623 ,...Tversky loss: 0.3866102397441864,...Cross_entropy: 0.19386333227157593\n",
      "Traing epoch: 11.............................\n"
     ]
    },
    {
     "name": "stderr",
     "output_type": "stream",
     "text": [
      "100%|██████████| 24/24 [00:30<00:00,  1.26s/it, loss=0.306]"
     ]
    },
    {
     "name": "stdout",
     "output_type": "stream",
     "text": [
      "Total Loss: 0.30585169792175293...Tversky loss: 0.22985245287418365... Cross Entropy: 0.07599925249814987\n",
      "0.2162763625383377 > 0.22985245287418365????\n",
      "Checkpoint is not in top 5 :'(\n"
     ]
    },
    {
     "name": "stderr",
     "output_type": "stream",
     "text": [
      "\n"
     ]
    },
    {
     "name": "stdout",
     "output_type": "stream",
     "text": [
      "Testing set:...Recall: 88.93 ,...Car Recall: 62.528507232666016 ,...Dice score: 0.11066848039627075 ,...Tversky loss: 0.32505694031715393,...Cross_entropy: 0.13401976227760315\n",
      "Training set:...Recall: 85.99 ,...Car Recall: 53.78615188598633 ,...Dice score: 0.1771913766860962 ,...Tversky loss: 0.3660985827445984,...Cross_entropy: 0.1642393171787262\n",
      "Traing epoch: 12.............................\n"
     ]
    },
    {
     "name": "stderr",
     "output_type": "stream",
     "text": [
      "100%|██████████| 24/24 [00:30<00:00,  1.27s/it, loss=0.285]\n"
     ]
    },
    {
     "name": "stdout",
     "output_type": "stream",
     "text": [
      "Total Loss: 0.28493472933769226...Tversky loss: 0.21165665984153748... Cross Entropy: 0.07327806204557419\n",
      "0.2162763625383377 > 0.21165665984153748????\n",
      "=> Saving checkpoint\n",
      "Testing set:...Recall: 89.31 ,...Car Recall: 65.7058334350586 ,...Dice score: 0.1069377064704895 ,...Tversky loss: 0.3137533366680145,...Cross_entropy: 0.13341271877288818\n",
      "Training set:...Recall: 82.57 ,...Car Recall: 48.899871826171875 ,...Dice score: 0.2079533338546753 ,...Tversky loss: 0.3915422856807709,...Cross_entropy: 0.21007776260375977\n",
      "Traing epoch: 13.............................\n"
     ]
    },
    {
     "name": "stderr",
     "output_type": "stream",
     "text": [
      "100%|██████████| 24/24 [00:30<00:00,  1.27s/it, loss=0.31]"
     ]
    },
    {
     "name": "stdout",
     "output_type": "stream",
     "text": [
      "Total Loss: 0.3097304105758667...Tversky loss: 0.24939477443695068... Cross Entropy: 0.060335636138916016\n",
      "0.21165665984153748 > 0.24939477443695068????\n",
      "Checkpoint is not in top 5 :'(\n"
     ]
    },
    {
     "name": "stderr",
     "output_type": "stream",
     "text": [
      "\n"
     ]
    },
    {
     "name": "stdout",
     "output_type": "stream",
     "text": [
      "Testing set:...Recall: 90.08 ,...Car Recall: 66.86986541748047 ,...Dice score: 0.09919583797454834 ,...Tversky loss: 0.2962917387485504,...Cross_entropy: 0.12718720734119415\n",
      "Training set:...Recall: 84.42 ,...Car Recall: 57.164066314697266 ,...Dice score: 0.20031607151031494 ,...Tversky loss: 0.37011224031448364,...Cross_entropy: 0.1800694316625595\n",
      "Traing epoch: 14.............................\n"
     ]
    },
    {
     "name": "stderr",
     "output_type": "stream",
     "text": [
      "100%|██████████| 24/24 [00:30<00:00,  1.27s/it, loss=0.395]"
     ]
    },
    {
     "name": "stdout",
     "output_type": "stream",
     "text": [
      "Total Loss: 0.39508384466171265...Tversky loss: 0.2839929759502411... Cross Entropy: 0.11109087616205215\n",
      "0.21165665984153748 > 0.2839929759502411????\n",
      "Checkpoint is not in top 5 :'(\n"
     ]
    },
    {
     "name": "stderr",
     "output_type": "stream",
     "text": [
      "\n"
     ]
    },
    {
     "name": "stdout",
     "output_type": "stream",
     "text": [
      "Testing set:...Recall: 88.49 ,...Car Recall: 67.99475860595703 ,...Dice score: 0.11506450176239014 ,...Tversky loss: 0.3247176706790924,...Cross_entropy: 0.13511548936367035\n",
      "Training set:...Recall: 84.09 ,...Car Recall: 57.53128433227539 ,...Dice score: 0.19095027446746826 ,...Tversky loss: 0.36786264181137085,...Cross_entropy: 0.17474721372127533\n",
      "Traing epoch: 15.............................\n"
     ]
    },
    {
     "name": "stderr",
     "output_type": "stream",
     "text": [
      "100%|██████████| 24/24 [00:30<00:00,  1.27s/it, loss=0.236]\n"
     ]
    },
    {
     "name": "stdout",
     "output_type": "stream",
     "text": [
      "Total Loss: 0.23634779453277588...Tversky loss: 0.20360732078552246... Cross Entropy: 0.032740481197834015\n",
      "0.21165665984153748 > 0.20360732078552246????\n",
      "=> Saving checkpoint\n",
      "Testing set:...Recall: 89.07 ,...Car Recall: 66.3493423461914 ,...Dice score: 0.109272301197052 ,...Tversky loss: 0.31302523612976074,...Cross_entropy: 0.12950454652309418\n",
      "Training set:...Recall: 83.76 ,...Car Recall: 51.264156341552734 ,...Dice score: 0.19405484199523926 ,...Tversky loss: 0.3727998435497284,...Cross_entropy: 0.1964874565601349\n",
      "Traing epoch: 16.............................\n"
     ]
    },
    {
     "name": "stderr",
     "output_type": "stream",
     "text": [
      "100%|██████████| 24/24 [00:30<00:00,  1.27s/it, loss=0.576]"
     ]
    },
    {
     "name": "stdout",
     "output_type": "stream",
     "text": [
      "Total Loss: 0.5760044455528259...Tversky loss: 0.4374230206012726... Cross Entropy: 0.13858142495155334\n",
      "0.21023258566856384 > 0.4374230206012726????\n",
      "Checkpoint is not in top 5 :'(\n"
     ]
    },
    {
     "name": "stderr",
     "output_type": "stream",
     "text": [
      "\n"
     ]
    },
    {
     "name": "stdout",
     "output_type": "stream",
     "text": [
      "Testing set:...Recall: 89.94 ,...Car Recall: 63.63105773925781 ,...Dice score: 0.10063368082046509 ,...Tversky loss: 0.3084648549556732,...Cross_entropy: 0.12170086055994034\n",
      "Training set:...Recall: 87.29 ,...Car Recall: 58.37544631958008 ,...Dice score: 0.167069673538208 ,...Tversky loss: 0.3521885871887207,...Cross_entropy: 0.14520667493343353\n",
      "Traing epoch: 17.............................\n"
     ]
    },
    {
     "name": "stderr",
     "output_type": "stream",
     "text": [
      "100%|██████████| 24/24 [00:30<00:00,  1.27s/it, loss=0.97]"
     ]
    },
    {
     "name": "stdout",
     "output_type": "stream",
     "text": [
      "Total Loss: 0.9699103832244873...Tversky loss: 0.5981878638267517... Cross Entropy: 0.371722549200058\n",
      "0.21023258566856384 > 0.5981878638267517????\n",
      "Checkpoint is not in top 5 :'(\n"
     ]
    },
    {
     "name": "stderr",
     "output_type": "stream",
     "text": [
      "\n"
     ]
    },
    {
     "name": "stdout",
     "output_type": "stream",
     "text": [
      "Testing set:...Recall: 88.96 ,...Car Recall: 65.09911346435547 ,...Dice score: 0.11039227247238159 ,...Tversky loss: 0.3106556832790375,...Cross_entropy: 0.1364692896604538\n",
      "Training set:...Recall: 84.16 ,...Car Recall: 55.958168029785156 ,...Dice score: 0.19798052310943604 ,...Tversky loss: 0.37510308623313904,...Cross_entropy: 0.17762425541877747\n",
      "Traing epoch: 18.............................\n"
     ]
    },
    {
     "name": "stderr",
     "output_type": "stream",
     "text": [
      "100%|██████████| 24/24 [00:30<00:00,  1.26s/it, loss=0.913]"
     ]
    },
    {
     "name": "stdout",
     "output_type": "stream",
     "text": [
      "Total Loss: 0.9128377437591553...Tversky loss: 0.3900587260723114... Cross Entropy: 0.5227790474891663\n",
      "0.21023258566856384 > 0.3900587260723114????\n",
      "Checkpoint is not in top 5 :'(\n"
     ]
    },
    {
     "name": "stderr",
     "output_type": "stream",
     "text": [
      "\n"
     ]
    },
    {
     "name": "stdout",
     "output_type": "stream",
     "text": [
      "Testing set:...Recall: 89.43 ,...Car Recall: 62.07735061645508 ,...Dice score: 0.10574948787689209 ,...Tversky loss: 0.31749844551086426,...Cross_entropy: 0.1291963905096054\n",
      "Training set:...Recall: 86.19 ,...Car Recall: 56.3852653503418 ,...Dice score: 0.1773085594177246 ,...Tversky loss: 0.36282727122306824,...Cross_entropy: 0.1669723242521286\n",
      "Traing epoch: 19.............................\n"
     ]
    },
    {
     "name": "stderr",
     "output_type": "stream",
     "text": [
      "100%|██████████| 24/24 [00:30<00:00,  1.27s/it, loss=0.405]"
     ]
    },
    {
     "name": "stdout",
     "output_type": "stream",
     "text": [
      "Total Loss: 0.4046504497528076...Tversky loss: 0.3144761323928833... Cross Entropy: 0.09017432481050491\n",
      "0.21023258566856384 > 0.3144761323928833????\n",
      "Checkpoint is not in top 5 :'(\n"
     ]
    },
    {
     "name": "stderr",
     "output_type": "stream",
     "text": [
      "\n"
     ]
    },
    {
     "name": "stdout",
     "output_type": "stream",
     "text": [
      "Testing set:...Recall: 89.04 ,...Car Recall: 59.879337310791016 ,...Dice score: 0.10958755016326904 ,...Tversky loss: 0.32564714550971985,...Cross_entropy: 0.13471247255802155\n",
      "Training set:...Recall: 84.80 ,...Car Recall: 57.41044998168945 ,...Dice score: 0.18174755573272705 ,...Tversky loss: 0.3602027893066406,...Cross_entropy: 0.1658194661140442\n",
      "Traing epoch: 20.............................\n"
     ]
    },
    {
     "name": "stderr",
     "output_type": "stream",
     "text": [
      "100%|██████████| 24/24 [00:30<00:00,  1.28s/it, loss=1.97]"
     ]
    },
    {
     "name": "stdout",
     "output_type": "stream",
     "text": [
      "Total Loss: 1.9715651273727417...Tversky loss: 0.5845162868499756... Cross Entropy: 1.3870488405227661\n",
      "0.21023258566856384 > 0.5845162868499756????\n",
      "Checkpoint is not in top 5 :'(\n"
     ]
    },
    {
     "name": "stderr",
     "output_type": "stream",
     "text": [
      "\n"
     ]
    },
    {
     "name": "stdout",
     "output_type": "stream",
     "text": [
      "Testing set:...Recall: 88.47 ,...Car Recall: 63.85230255126953 ,...Dice score: 0.11533915996551514 ,...Tversky loss: 0.32327017188072205,...Cross_entropy: 0.136164590716362\n",
      "Training set:...Recall: 80.62 ,...Car Recall: 47.39805603027344 ,...Dice score: 0.22262412309646606 ,...Tversky loss: 0.3872087001800537,...Cross_entropy: 0.24043524265289307\n"
     ]
    },
    {
     "name": "stderr",
     "output_type": "stream",
     "text": [
      "/usr/local/lib/python3.7/dist-packages/ipykernel_launcher.py:37: RuntimeWarning: More than 20 figures have been opened. Figures created through the pyplot interface (`matplotlib.pyplot.figure`) are retained until explicitly closed and may consume too much memory. (To control this warning, see the rcParam `figure.max_open_warning`).\n"
     ]
    },
    {
     "name": "stdout",
     "output_type": "stream",
     "text": [
      "Traing epoch: 21.............................\n"
     ]
    },
    {
     "name": "stderr",
     "output_type": "stream",
     "text": [
      "100%|██████████| 24/24 [00:30<00:00,  1.27s/it, loss=0.507]"
     ]
    },
    {
     "name": "stdout",
     "output_type": "stream",
     "text": [
      "Total Loss: 0.5072981119155884...Tversky loss: 0.42078596353530884... Cross Entropy: 0.08651215583086014\n",
      "0.21023258566856384 > 0.42078596353530884????\n",
      "Checkpoint is not in top 5 :'(\n"
     ]
    },
    {
     "name": "stderr",
     "output_type": "stream",
     "text": [
      "\n"
     ]
    },
    {
     "name": "stdout",
     "output_type": "stream",
     "text": [
      "Testing set:...Recall: 90.44 ,...Car Recall: 64.11165618896484 ,...Dice score: 0.09564512968063354 ,...Tversky loss: 0.2922176122665405,...Cross_entropy: 0.13262934982776642\n",
      "Training set:...Recall: 84.52 ,...Car Recall: 51.618350982666016 ,...Dice score: 0.19273829460144043 ,...Tversky loss: 0.370294988155365,...Cross_entropy: 0.1911192238330841\n",
      "Traing epoch: 22.............................\n"
     ]
    },
    {
     "name": "stderr",
     "output_type": "stream",
     "text": [
      "100%|██████████| 24/24 [00:30<00:00,  1.26s/it, loss=1.02]"
     ]
    },
    {
     "name": "stdout",
     "output_type": "stream",
     "text": [
      "Total Loss: 1.015997290611267...Tversky loss: 0.5680704116821289... Cross Entropy: 0.44792690873146057\n",
      "0.21023258566856384 > 0.5680704116821289????\n",
      "Checkpoint is not in top 5 :'(\n"
     ]
    },
    {
     "name": "stderr",
     "output_type": "stream",
     "text": [
      "\n"
     ]
    },
    {
     "name": "stdout",
     "output_type": "stream",
     "text": [
      "Testing set:...Recall: 87.40 ,...Car Recall: 71.28926849365234 ,...Dice score: 0.1259983777999878 ,...Tversky loss: 0.32915279269218445,...Cross_entropy: 0.13411010801792145\n",
      "Training set:...Recall: 85.81 ,...Car Recall: 68.2305908203125 ,...Dice score: 0.17357075214385986 ,...Tversky loss: 0.3395797908306122,...Cross_entropy: 0.14011427760124207\n",
      "Traing epoch: 23.............................\n"
     ]
    },
    {
     "name": "stderr",
     "output_type": "stream",
     "text": [
      "100%|██████████| 24/24 [00:30<00:00,  1.26s/it, loss=0.361]"
     ]
    },
    {
     "name": "stdout",
     "output_type": "stream",
     "text": [
      "Total Loss: 0.3614642024040222...Tversky loss: 0.29863840341567993... Cross Entropy: 0.06282579153776169\n",
      "0.21023258566856384 > 0.29863840341567993????\n",
      "Checkpoint is not in top 5 :'(\n"
     ]
    },
    {
     "name": "stderr",
     "output_type": "stream",
     "text": [
      "\n"
     ]
    },
    {
     "name": "stdout",
     "output_type": "stream",
     "text": [
      "Testing set:...Recall: 90.11 ,...Car Recall: 65.29119873046875 ,...Dice score: 0.09890180826187134 ,...Tversky loss: 0.293162077665329,...Cross_entropy: 0.1281774491071701\n",
      "Training set:...Recall: 86.16 ,...Car Recall: 57.49260330200195 ,...Dice score: 0.17162156105041504 ,...Tversky loss: 0.3563048839569092,...Cross_entropy: 0.1638103425502777\n",
      "Traing epoch: 24.............................\n"
     ]
    },
    {
     "name": "stderr",
     "output_type": "stream",
     "text": [
      "100%|██████████| 24/24 [00:30<00:00,  1.27s/it, loss=0.527]"
     ]
    },
    {
     "name": "stdout",
     "output_type": "stream",
     "text": [
      "Total Loss: 0.5267994999885559...Tversky loss: 0.3786323368549347... Cross Entropy: 0.14816714823246002\n",
      "0.21023258566856384 > 0.3786323368549347????\n",
      "Checkpoint is not in top 5 :'(\n"
     ]
    },
    {
     "name": "stderr",
     "output_type": "stream",
     "text": [
      "\n"
     ]
    },
    {
     "name": "stdout",
     "output_type": "stream",
     "text": [
      "Testing set:...Recall: 90.44 ,...Car Recall: 69.08863830566406 ,...Dice score: 0.09562283754348755 ,...Tversky loss: 0.2883540093898773,...Cross_entropy: 0.11674206703901291\n",
      "Training set:...Recall: 85.37 ,...Car Recall: 56.63856887817383 ,...Dice score: 0.18503081798553467 ,...Tversky loss: 0.36644721031188965,...Cross_entropy: 0.16433830559253693\n",
      "Traing epoch: 25.............................\n"
     ]
    },
    {
     "name": "stderr",
     "output_type": "stream",
     "text": [
      "100%|██████████| 24/24 [00:30<00:00,  1.27s/it, loss=0.532]"
     ]
    },
    {
     "name": "stdout",
     "output_type": "stream",
     "text": [
      "Total Loss: 0.5320279598236084...Tversky loss: 0.37193816900253296... Cross Entropy: 0.16008980572223663\n",
      "0.21023258566856384 > 0.37193816900253296????\n",
      "Checkpoint is not in top 5 :'(\n"
     ]
    },
    {
     "name": "stderr",
     "output_type": "stream",
     "text": [
      "\n"
     ]
    },
    {
     "name": "stdout",
     "output_type": "stream",
     "text": [
      "Testing set:...Recall: 88.80 ,...Car Recall: 62.962066650390625 ,...Dice score: 0.11204880475997925 ,...Tversky loss: 0.3317684531211853,...Cross_entropy: 0.13312536478042603\n",
      "Training set:...Recall: 84.72 ,...Car Recall: 56.55461120605469 ,...Dice score: 0.1939173936843872 ,...Tversky loss: 0.371578574180603,...Cross_entropy: 0.1716233342885971\n",
      "Traing epoch: 26.............................\n"
     ]
    },
    {
     "name": "stderr",
     "output_type": "stream",
     "text": [
      "100%|██████████| 24/24 [00:30<00:00,  1.27s/it, loss=0.249]\n"
     ]
    },
    {
     "name": "stdout",
     "output_type": "stream",
     "text": [
      "Total Loss: 0.24910539388656616...Tversky loss: 0.20612862706184387... Cross Entropy: 0.04297676682472229\n",
      "0.21023258566856384 > 0.20612862706184387????\n",
      "=> Saving checkpoint\n",
      "Testing set:...Recall: 87.95 ,...Car Recall: 62.0127067565918 ,...Dice score: 0.1204838752746582 ,...Tversky loss: 0.34324631094932556,...Cross_entropy: 0.13931718468666077\n",
      "Training set:...Recall: 82.06 ,...Car Recall: 48.51602554321289 ,...Dice score: 0.21628600358963013 ,...Tversky loss: 0.4144153594970703,...Cross_entropy: 0.2055719941854477\n",
      "Traing epoch: 27.............................\n"
     ]
    },
    {
     "name": "stderr",
     "output_type": "stream",
     "text": [
      "100%|██████████| 24/24 [00:30<00:00,  1.27s/it, loss=0.74]"
     ]
    },
    {
     "name": "stdout",
     "output_type": "stream",
     "text": [
      "Total Loss: 0.7399278283119202...Tversky loss: 0.3843611180782318... Cross Entropy: 0.35556671023368835\n",
      "0.20612862706184387 > 0.3843611180782318????\n",
      "Checkpoint is not in top 5 :'(\n"
     ]
    },
    {
     "name": "stderr",
     "output_type": "stream",
     "text": [
      "\n"
     ]
    },
    {
     "name": "stdout",
     "output_type": "stream",
     "text": [
      "Testing set:...Recall: 88.51 ,...Car Recall: 69.13856506347656 ,...Dice score: 0.11491239070892334 ,...Tversky loss: 0.31626254320144653,...Cross_entropy: 0.1306285709142685\n",
      "Training set:...Recall: 85.69 ,...Car Recall: 62.59284591674805 ,...Dice score: 0.1850336194038391 ,...Tversky loss: 0.3559867739677429,...Cross_entropy: 0.1591130644083023\n",
      "Traing epoch: 28.............................\n"
     ]
    },
    {
     "name": "stderr",
     "output_type": "stream",
     "text": [
      "100%|██████████| 24/24 [00:30<00:00,  1.27s/it, loss=0.73]"
     ]
    },
    {
     "name": "stdout",
     "output_type": "stream",
     "text": [
      "Total Loss: 0.7296141386032104...Tversky loss: 0.5096777677536011... Cross Entropy: 0.21993635594844818\n",
      "0.20612862706184387 > 0.5096777677536011????\n",
      "Checkpoint is not in top 5 :'(\n"
     ]
    },
    {
     "name": "stderr",
     "output_type": "stream",
     "text": [
      "\n"
     ]
    },
    {
     "name": "stdout",
     "output_type": "stream",
     "text": [
      "Testing set:...Recall: 89.36 ,...Car Recall: 63.778472900390625 ,...Dice score: 0.10637921094894409 ,...Tversky loss: 0.3152361512184143,...Cross_entropy: 0.13389524817466736\n",
      "Training set:...Recall: 86.17 ,...Car Recall: 57.473541259765625 ,...Dice score: 0.17265135049819946 ,...Tversky loss: 0.3515133559703827,...Cross_entropy: 0.16513602435588837\n",
      "Traing epoch: 29.............................\n"
     ]
    },
    {
     "name": "stderr",
     "output_type": "stream",
     "text": [
      "100%|██████████| 24/24 [00:30<00:00,  1.26s/it, loss=0.919]"
     ]
    },
    {
     "name": "stdout",
     "output_type": "stream",
     "text": [
      "Total Loss: 0.9188063144683838...Tversky loss: 0.538047194480896... Cross Entropy: 0.3807591199874878\n",
      "0.20612862706184387 > 0.538047194480896????\n",
      "Checkpoint is not in top 5 :'(\n"
     ]
    },
    {
     "name": "stderr",
     "output_type": "stream",
     "text": [
      "\n"
     ]
    },
    {
     "name": "stdout",
     "output_type": "stream",
     "text": [
      "Testing set:...Recall: 88.70 ,...Car Recall: 68.56810760498047 ,...Dice score: 0.113048255443573 ,...Tversky loss: 0.3146248757839203,...Cross_entropy: 0.13425175845623016\n",
      "Training set:...Recall: 80.97 ,...Car Recall: 52.618934631347656 ,...Dice score: 0.23822510242462158 ,...Tversky loss: 0.4056214988231659,...Cross_entropy: 0.2050776332616806\n",
      "Traing epoch: 30.............................\n"
     ]
    },
    {
     "name": "stderr",
     "output_type": "stream",
     "text": [
      "100%|██████████| 24/24 [00:30<00:00,  1.26s/it, loss=0.463]"
     ]
    },
    {
     "name": "stdout",
     "output_type": "stream",
     "text": [
      "Total Loss: 0.4634835422039032...Tversky loss: 0.2985016703605652... Cross Entropy: 0.164981871843338\n",
      "0.20612862706184387 > 0.2985016703605652????\n",
      "Checkpoint is not in top 5 :'(\n"
     ]
    },
    {
     "name": "stderr",
     "output_type": "stream",
     "text": [
      "\n"
     ]
    },
    {
     "name": "stdout",
     "output_type": "stream",
     "text": [
      "Testing set:...Recall: 90.10 ,...Car Recall: 63.89986801147461 ,...Dice score: 0.09900254011154175 ,...Tversky loss: 0.2983987033367157,...Cross_entropy: 0.1354840248823166\n",
      "Training set:...Recall: 84.34 ,...Car Recall: 53.00872802734375 ,...Dice score: 0.1959325075149536 ,...Tversky loss: 0.37483710050582886,...Cross_entropy: 0.19588497281074524\n",
      "Traing epoch: 31.............................\n"
     ]
    },
    {
     "name": "stderr",
     "output_type": "stream",
     "text": [
      "100%|██████████| 24/24 [00:30<00:00,  1.26s/it, loss=0.2]\n"
     ]
    },
    {
     "name": "stdout",
     "output_type": "stream",
     "text": [
      "Total Loss: 0.19954806566238403...Tversky loss: 0.16446168720722198... Cross Entropy: 0.03508637100458145\n",
      "0.20612862706184387 > 0.16446168720722198????\n",
      "=> Saving checkpoint\n",
      "Testing set:...Recall: 89.34 ,...Car Recall: 61.461692810058594 ,...Dice score: 0.1066049337387085 ,...Tversky loss: 0.32118532061576843,...Cross_entropy: 0.13070212304592133\n",
      "Training set:...Recall: 83.55 ,...Car Recall: 50.62485885620117 ,...Dice score: 0.20133382081985474 ,...Tversky loss: 0.3849834203720093,...Cross_entropy: 0.2082163393497467\n",
      "Traing epoch: 32.............................\n"
     ]
    },
    {
     "name": "stderr",
     "output_type": "stream",
     "text": [
      "100%|██████████| 24/24 [00:30<00:00,  1.26s/it, loss=0.566]"
     ]
    },
    {
     "name": "stdout",
     "output_type": "stream",
     "text": [
      "Total Loss: 0.5663298964500427...Tversky loss: 0.4237114489078522... Cross Entropy: 0.14261843264102936\n",
      "0.20360732078552246 > 0.4237114489078522????\n",
      "Checkpoint is not in top 5 :'(\n"
     ]
    },
    {
     "name": "stderr",
     "output_type": "stream",
     "text": [
      "\n"
     ]
    },
    {
     "name": "stdout",
     "output_type": "stream",
     "text": [
      "Testing set:...Recall: 90.23 ,...Car Recall: 68.34133911132812 ,...Dice score: 0.09765070676803589 ,...Tversky loss: 0.2851376533508301,...Cross_entropy: 0.12896962463855743\n",
      "Training set:...Recall: 85.04 ,...Car Recall: 55.568199157714844 ,...Dice score: 0.19045478105545044 ,...Tversky loss: 0.3532768189907074,...Cross_entropy: 0.1871775984764099\n",
      "Traing epoch: 33.............................\n"
     ]
    },
    {
     "name": "stderr",
     "output_type": "stream",
     "text": [
      "100%|██████████| 24/24 [00:30<00:00,  1.26s/it, loss=0.42]"
     ]
    },
    {
     "name": "stdout",
     "output_type": "stream",
     "text": [
      "Total Loss: 0.4200214743614197...Tversky loss: 0.2828233540058136... Cross Entropy: 0.13719813525676727\n",
      "0.20360732078552246 > 0.2828233540058136????\n",
      "Checkpoint is not in top 5 :'(\n"
     ]
    },
    {
     "name": "stderr",
     "output_type": "stream",
     "text": [
      "\n"
     ]
    },
    {
     "name": "stdout",
     "output_type": "stream",
     "text": [
      "Testing set:...Recall: 88.99 ,...Car Recall: 68.07673645019531 ,...Dice score: 0.11011046171188354 ,...Tversky loss: 0.31412383913993835,...Cross_entropy: 0.1298997402191162\n",
      "Training set:...Recall: 83.73 ,...Car Recall: 55.210514068603516 ,...Dice score: 0.19561177492141724 ,...Tversky loss: 0.3857225775718689,...Cross_entropy: 0.18879500031471252\n",
      "Traing epoch: 34.............................\n"
     ]
    },
    {
     "name": "stderr",
     "output_type": "stream",
     "text": [
      "100%|██████████| 24/24 [00:30<00:00,  1.27s/it, loss=0.804]"
     ]
    },
    {
     "name": "stdout",
     "output_type": "stream",
     "text": [
      "Total Loss: 0.8042510747909546...Tversky loss: 0.4430144429206848... Cross Entropy: 0.36123666167259216\n",
      "0.20360732078552246 > 0.4430144429206848????\n",
      "Checkpoint is not in top 5 :'(\n"
     ]
    },
    {
     "name": "stderr",
     "output_type": "stream",
     "text": [
      "\n"
     ]
    },
    {
     "name": "stdout",
     "output_type": "stream",
     "text": [
      "Testing set:...Recall: 90.13 ,...Car Recall: 62.476219177246094 ,...Dice score: 0.0987442135810852 ,...Tversky loss: 0.29805976152420044,...Cross_entropy: 0.14007431268692017\n",
      "Training set:...Recall: 84.41 ,...Car Recall: 47.32080841064453 ,...Dice score: 0.19842231273651123 ,...Tversky loss: 0.38260897994041443,...Cross_entropy: 0.21909567713737488\n",
      "Traing epoch: 35.............................\n"
     ]
    },
    {
     "name": "stderr",
     "output_type": "stream",
     "text": [
      "100%|██████████| 24/24 [00:30<00:00,  1.27s/it, loss=1.2]"
     ]
    },
    {
     "name": "stdout",
     "output_type": "stream",
     "text": [
      "Total Loss: 1.1964201927185059...Tversky loss: 0.5862098336219788... Cross Entropy: 0.6102104187011719\n",
      "0.20360732078552246 > 0.5862098336219788????\n",
      "Checkpoint is not in top 5 :'(\n"
     ]
    },
    {
     "name": "stderr",
     "output_type": "stream",
     "text": [
      "\n"
     ]
    },
    {
     "name": "stdout",
     "output_type": "stream",
     "text": [
      "Testing set:...Recall: 89.10 ,...Car Recall: 66.24528503417969 ,...Dice score: 0.1090240478515625 ,...Tversky loss: 0.3057329058647156,...Cross_entropy: 0.145562082529068\n",
      "Training set:...Recall: 80.84 ,...Car Recall: 53.80636978149414 ,...Dice score: 0.22110342979431152 ,...Tversky loss: 0.3924512565135956,...Cross_entropy: 0.2089618742465973\n",
      "Traing epoch: 36.............................\n"
     ]
    },
    {
     "name": "stderr",
     "output_type": "stream",
     "text": [
      "100%|██████████| 24/24 [00:30<00:00,  1.27s/it, loss=0.446]"
     ]
    },
    {
     "name": "stdout",
     "output_type": "stream",
     "text": [
      "Total Loss: 0.44587746262550354...Tversky loss: 0.33537453413009644... Cross Entropy: 0.1105029359459877\n",
      "0.20360732078552246 > 0.33537453413009644????\n",
      "Checkpoint is not in top 5 :'(\n"
     ]
    },
    {
     "name": "stderr",
     "output_type": "stream",
     "text": [
      "\n"
     ]
    },
    {
     "name": "stdout",
     "output_type": "stream",
     "text": [
      "Testing set:...Recall: 89.25 ,...Car Recall: 71.0075912475586 ,...Dice score: 0.1074899435043335 ,...Tversky loss: 0.30160006880760193,...Cross_entropy: 0.12263736873865128\n",
      "Training set:...Recall: 83.94 ,...Car Recall: 57.05364227294922 ,...Dice score: 0.19739985466003418 ,...Tversky loss: 0.381378710269928,...Cross_entropy: 0.17672482132911682\n",
      "Traing epoch: 37.............................\n"
     ]
    },
    {
     "name": "stderr",
     "output_type": "stream",
     "text": [
      "100%|██████████| 24/24 [00:30<00:00,  1.27s/it, loss=1.06]"
     ]
    },
    {
     "name": "stdout",
     "output_type": "stream",
     "text": [
      "Total Loss: 1.0603485107421875...Tversky loss: 0.4335857331752777... Cross Entropy: 0.6267628073692322\n",
      "0.20360732078552246 > 0.4335857331752777????\n",
      "Checkpoint is not in top 5 :'(\n"
     ]
    },
    {
     "name": "stderr",
     "output_type": "stream",
     "text": [
      "\n"
     ]
    },
    {
     "name": "stdout",
     "output_type": "stream",
     "text": [
      "Testing set:...Recall: 90.64 ,...Car Recall: 67.60875701904297 ,...Dice score: 0.09356689453125 ,...Tversky loss: 0.28111690282821655,...Cross_entropy: 0.12000598758459091\n",
      "Training set:...Recall: 86.40 ,...Car Recall: 56.58386993408203 ,...Dice score: 0.17068004608154297 ,...Tversky loss: 0.35282665491104126,...Cross_entropy: 0.16686999797821045\n",
      "Traing epoch: 38.............................\n"
     ]
    },
    {
     "name": "stderr",
     "output_type": "stream",
     "text": [
      "100%|██████████| 24/24 [00:30<00:00,  1.26s/it, loss=0.654]"
     ]
    },
    {
     "name": "stdout",
     "output_type": "stream",
     "text": [
      "Total Loss: 0.6540306210517883...Tversky loss: 0.49972596764564514... Cross Entropy: 0.15430466830730438\n",
      "0.20360732078552246 > 0.49972596764564514????\n",
      "Checkpoint is not in top 5 :'(\n"
     ]
    },
    {
     "name": "stderr",
     "output_type": "stream",
     "text": [
      "\n"
     ]
    },
    {
     "name": "stdout",
     "output_type": "stream",
     "text": [
      "Testing set:...Recall: 90.39 ,...Car Recall: 69.77706909179688 ,...Dice score: 0.09607589244842529 ,...Tversky loss: 0.28399908542633057,...Cross_entropy: 0.12149295955896378\n",
      "Training set:...Recall: 86.29 ,...Car Recall: 63.12847900390625 ,...Dice score: 0.18006110191345215 ,...Tversky loss: 0.3388453423976898,...Cross_entropy: 0.1531652808189392\n",
      "Traing epoch: 39.............................\n"
     ]
    },
    {
     "name": "stderr",
     "output_type": "stream",
     "text": [
      "100%|██████████| 24/24 [00:30<00:00,  1.27s/it, loss=0.721]"
     ]
    },
    {
     "name": "stdout",
     "output_type": "stream",
     "text": [
      "Total Loss: 0.7212129831314087...Tversky loss: 0.4175439178943634... Cross Entropy: 0.3036690354347229\n",
      "0.20360732078552246 > 0.4175439178943634????\n",
      "Checkpoint is not in top 5 :'(\n"
     ]
    },
    {
     "name": "stderr",
     "output_type": "stream",
     "text": [
      "\n"
     ]
    },
    {
     "name": "stdout",
     "output_type": "stream",
     "text": [
      "Testing set:...Recall: 88.98 ,...Car Recall: 65.07073974609375 ,...Dice score: 0.1102035641670227 ,...Tversky loss: 0.31124401092529297,...Cross_entropy: 0.14113794267177582\n",
      "Training set:...Recall: 85.14 ,...Car Recall: 56.75880432128906 ,...Dice score: 0.191209077835083 ,...Tversky loss: 0.3584878444671631,...Cross_entropy: 0.17959365248680115\n",
      "Traing epoch: 40.............................\n"
     ]
    },
    {
     "name": "stderr",
     "output_type": "stream",
     "text": [
      "100%|██████████| 24/24 [00:30<00:00,  1.27s/it, loss=1.15]"
     ]
    },
    {
     "name": "stdout",
     "output_type": "stream",
     "text": [
      "Total Loss: 1.1510446071624756...Tversky loss: 0.5905467867851257... Cross Entropy: 0.5604977607727051\n",
      "0.20360732078552246 > 0.5905467867851257????\n",
      "Checkpoint is not in top 5 :'(\n"
     ]
    },
    {
     "name": "stderr",
     "output_type": "stream",
     "text": [
      "\n"
     ]
    },
    {
     "name": "stdout",
     "output_type": "stream",
     "text": [
      "Testing set:...Recall: 88.32 ,...Car Recall: 70.01251220703125 ,...Dice score: 0.11676222085952759 ,...Tversky loss: 0.3097529411315918,...Cross_entropy: 0.1263837069272995\n",
      "Training set:...Recall: 83.84 ,...Car Recall: 59.91431427001953 ,...Dice score: 0.19755566120147705 ,...Tversky loss: 0.38008198142051697,...Cross_entropy: 0.16400250792503357\n",
      "Traing epoch: 41.............................\n"
     ]
    },
    {
     "name": "stderr",
     "output_type": "stream",
     "text": [
      "100%|██████████| 24/24 [00:30<00:00,  1.27s/it, loss=0.262]\n"
     ]
    },
    {
     "name": "stdout",
     "output_type": "stream",
     "text": [
      "Total Loss: 0.2622281610965729...Tversky loss: 0.20206229388713837... Cross Entropy: 0.06016587093472481\n",
      "0.20360732078552246 > 0.20206229388713837????\n",
      "=> Saving checkpoint\n",
      "Testing set:...Recall: 90.04 ,...Car Recall: 67.61270141601562 ,...Dice score: 0.09956008195877075 ,...Tversky loss: 0.2915538251399994,...Cross_entropy: 0.12410350143909454\n",
      "Training set:...Recall: 85.93 ,...Car Recall: 58.434913635253906 ,...Dice score: 0.17870104312896729 ,...Tversky loss: 0.35080060362815857,...Cross_entropy: 0.16083289682865143\n",
      "Traing epoch: 42.............................\n"
     ]
    },
    {
     "name": "stderr",
     "output_type": "stream",
     "text": [
      "100%|██████████| 24/24 [00:30<00:00,  1.27s/it, loss=0.174]\n"
     ]
    },
    {
     "name": "stdout",
     "output_type": "stream",
     "text": [
      "Total Loss: 0.17416435480117798...Tversky loss: 0.14229509234428406... Cross Entropy: 0.03186926618218422\n",
      "0.20206229388713837 > 0.14229509234428406????\n",
      "=> Saving checkpoint\n",
      "Testing set:...Recall: 88.70 ,...Car Recall: 72.93311309814453 ,...Dice score: 0.1130029559135437 ,...Tversky loss: 0.3038561940193176,...Cross_entropy: 0.12216422706842422\n",
      "Training set:...Recall: 82.30 ,...Car Recall: 56.952877044677734 ,...Dice score: 0.2084130048751831 ,...Tversky loss: 0.3659406900405884,...Cross_entropy: 0.21238264441490173\n",
      "Traing epoch: 43.............................\n"
     ]
    },
    {
     "name": "stderr",
     "output_type": "stream",
     "text": [
      "100%|██████████| 24/24 [00:30<00:00,  1.27s/it, loss=1.43]"
     ]
    },
    {
     "name": "stdout",
     "output_type": "stream",
     "text": [
      "Total Loss: 1.4311341047286987...Tversky loss: 0.49141183495521545... Cross Entropy: 0.9397222399711609\n",
      "0.1929406374692917 > 0.49141183495521545????\n",
      "Checkpoint is not in top 5 :'(\n"
     ]
    },
    {
     "name": "stderr",
     "output_type": "stream",
     "text": [
      "\n"
     ]
    },
    {
     "name": "stdout",
     "output_type": "stream",
     "text": [
      "Testing set:...Recall: 90.89 ,...Car Recall: 67.61138153076172 ,...Dice score: 0.09113460779190063 ,...Tversky loss: 0.27130141854286194,...Cross_entropy: 0.1269576996564865\n",
      "Training set:...Recall: 85.31 ,...Car Recall: 56.37073516845703 ,...Dice score: 0.1853625774383545 ,...Tversky loss: 0.3482987880706787,...Cross_entropy: 0.18307475745677948\n",
      "Traing epoch: 44.............................\n"
     ]
    },
    {
     "name": "stderr",
     "output_type": "stream",
     "text": [
      "100%|██████████| 24/24 [00:30<00:00,  1.27s/it, loss=1.01]"
     ]
    },
    {
     "name": "stdout",
     "output_type": "stream",
     "text": [
      "Total Loss: 1.013504981994629...Tversky loss: 0.5833473801612854... Cross Entropy: 0.4301576316356659\n",
      "0.1929406374692917 > 0.5833473801612854????\n",
      "Checkpoint is not in top 5 :'(\n"
     ]
    },
    {
     "name": "stderr",
     "output_type": "stream",
     "text": [
      "\n"
     ]
    },
    {
     "name": "stdout",
     "output_type": "stream",
     "text": [
      "Testing set:...Recall: 87.99 ,...Car Recall: 70.78581237792969 ,...Dice score: 0.12011927366256714 ,...Tversky loss: 0.3165275454521179,...Cross_entropy: 0.13653835654258728\n",
      "Training set:...Recall: 83.82 ,...Car Recall: 58.67670822143555 ,...Dice score: 0.19997310638427734 ,...Tversky loss: 0.3814430832862854,...Cross_entropy: 0.1721312701702118\n",
      "Traing epoch: 45.............................\n"
     ]
    },
    {
     "name": "stderr",
     "output_type": "stream",
     "text": [
      "100%|██████████| 24/24 [00:30<00:00,  1.26s/it, loss=0.376]"
     ]
    },
    {
     "name": "stdout",
     "output_type": "stream",
     "text": [
      "Total Loss: 0.3756300210952759...Tversky loss: 0.27313536405563354... Cross Entropy: 0.10249467194080353\n",
      "0.1929406374692917 > 0.27313536405563354????\n",
      "Checkpoint is not in top 5 :'(\n"
     ]
    },
    {
     "name": "stderr",
     "output_type": "stream",
     "text": [
      "\n"
     ]
    },
    {
     "name": "stdout",
     "output_type": "stream",
     "text": [
      "Testing set:...Recall: 90.44 ,...Car Recall: 60.69837188720703 ,...Dice score: 0.0955694317817688 ,...Tversky loss: 0.2992802858352661,...Cross_entropy: 0.14076009392738342\n",
      "Training set:...Recall: 88.57 ,...Car Recall: 61.700775146484375 ,...Dice score: 0.1541074514389038 ,...Tversky loss: 0.3380694091320038,...Cross_entropy: 0.14065498113632202\n",
      "Traing epoch: 46.............................\n"
     ]
    },
    {
     "name": "stderr",
     "output_type": "stream",
     "text": [
      "100%|██████████| 24/24 [00:30<00:00,  1.27s/it, loss=1.38]"
     ]
    },
    {
     "name": "stdout",
     "output_type": "stream",
     "text": [
      "Total Loss: 1.3823115825653076...Tversky loss: 0.571099042892456... Cross Entropy: 0.8112125396728516\n",
      "0.1929406374692917 > 0.571099042892456????\n",
      "Checkpoint is not in top 5 :'(\n"
     ]
    },
    {
     "name": "stderr",
     "output_type": "stream",
     "text": [
      "\n"
     ]
    },
    {
     "name": "stdout",
     "output_type": "stream",
     "text": [
      "Testing set:...Recall: 88.93 ,...Car Recall: 72.05601501464844 ,...Dice score: 0.11069440841674805 ,...Tversky loss: 0.3047526478767395,...Cross_entropy: 0.12296753376722336\n",
      "Training set:...Recall: 82.80 ,...Car Recall: 58.3493537902832 ,...Dice score: 0.20881158113479614 ,...Tversky loss: 0.3579804599285126,...Cross_entropy: 0.19260117411613464\n",
      "Traing epoch: 47.............................\n"
     ]
    },
    {
     "name": "stderr",
     "output_type": "stream",
     "text": [
      "100%|██████████| 24/24 [00:30<00:00,  1.27s/it, loss=0.237]"
     ]
    },
    {
     "name": "stdout",
     "output_type": "stream",
     "text": [
      "Total Loss: 0.23679132759571075...Tversky loss: 0.20315581560134888... Cross Entropy: 0.03363550826907158\n",
      "0.1929406374692917 > 0.20315581560134888????\n",
      "Checkpoint is not in top 5 :'(\n"
     ]
    },
    {
     "name": "stderr",
     "output_type": "stream",
     "text": [
      "\n"
     ]
    },
    {
     "name": "stdout",
     "output_type": "stream",
     "text": [
      "Testing set:...Recall: 90.02 ,...Car Recall: 69.30147552490234 ,...Dice score: 0.099822998046875 ,...Tversky loss: 0.29827186465263367,...Cross_entropy: 0.11761369556188583\n",
      "Training set:...Recall: 86.50 ,...Car Recall: 65.03782653808594 ,...Dice score: 0.16889506578445435 ,...Tversky loss: 0.3326568603515625,...Cross_entropy: 0.14532470703125\n",
      "Traing epoch: 48.............................\n"
     ]
    },
    {
     "name": "stderr",
     "output_type": "stream",
     "text": [
      "100%|██████████| 24/24 [00:30<00:00,  1.27s/it, loss=0.547]"
     ]
    },
    {
     "name": "stdout",
     "output_type": "stream",
     "text": [
      "Total Loss: 0.5466703772544861...Tversky loss: 0.41581451892852783... Cross Entropy: 0.13085587322711945\n",
      "0.1929406374692917 > 0.41581451892852783????\n",
      "Checkpoint is not in top 5 :'(\n"
     ]
    },
    {
     "name": "stderr",
     "output_type": "stream",
     "text": [
      "\n"
     ]
    },
    {
     "name": "stdout",
     "output_type": "stream",
     "text": [
      "Testing set:...Recall: 90.04 ,...Car Recall: 69.82804870605469 ,...Dice score: 0.09961795806884766 ,...Tversky loss: 0.2827898859977722,...Cross_entropy: 0.12902213633060455\n",
      "Training set:...Recall: 83.58 ,...Car Recall: 54.94245910644531 ,...Dice score: 0.20465373992919922 ,...Tversky loss: 0.3802889585494995,...Cross_entropy: 0.18379943072795868\n",
      "Traing epoch: 49.............................\n"
     ]
    },
    {
     "name": "stderr",
     "output_type": "stream",
     "text": [
      "100%|██████████| 24/24 [00:30<00:00,  1.27s/it, loss=0.349]"
     ]
    },
    {
     "name": "stdout",
     "output_type": "stream",
     "text": [
      "Total Loss: 0.34906578063964844...Tversky loss: 0.2791801393032074... Cross Entropy: 0.06988564878702164\n",
      "0.1929406374692917 > 0.2791801393032074????\n",
      "Checkpoint is not in top 5 :'(\n"
     ]
    },
    {
     "name": "stderr",
     "output_type": "stream",
     "text": [
      "\n"
     ]
    },
    {
     "name": "stdout",
     "output_type": "stream",
     "text": [
      "Testing set:...Recall: 86.95 ,...Car Recall: 66.30072784423828 ,...Dice score: 0.1305079460144043 ,...Tversky loss: 0.34037986397743225,...Cross_entropy: 0.1410246640443802\n",
      "Training set:...Recall: 84.56 ,...Car Recall: 62.81349563598633 ,...Dice score: 0.18757832050323486 ,...Tversky loss: 0.3501152992248535,...Cross_entropy: 0.1542803794145584\n",
      "Traing epoch: 50.............................\n"
     ]
    },
    {
     "name": "stderr",
     "output_type": "stream",
     "text": [
      "100%|██████████| 24/24 [00:30<00:00,  1.27s/it, loss=0.805]"
     ]
    },
    {
     "name": "stdout",
     "output_type": "stream",
     "text": [
      "Total Loss: 0.8047740459442139...Tversky loss: 0.6000000238418579... Cross Entropy: 0.20477400720119476\n",
      "0.1929406374692917 > 0.6000000238418579????\n",
      "Checkpoint is not in top 5 :'(\n"
     ]
    },
    {
     "name": "stderr",
     "output_type": "stream",
     "text": [
      "\n"
     ]
    },
    {
     "name": "stdout",
     "output_type": "stream",
     "text": [
      "Testing set:...Recall: 90.15 ,...Car Recall: 63.82235336303711 ,...Dice score: 0.098491370677948 ,...Tversky loss: 0.29516837000846863,...Cross_entropy: 0.12352707237005234\n",
      "Training set:...Recall: 85.26 ,...Car Recall: 54.64021682739258 ,...Dice score: 0.18643885850906372 ,...Tversky loss: 0.35422664880752563,...Cross_entropy: 0.1816365122795105\n",
      "Traing epoch: 51.............................\n"
     ]
    },
    {
     "name": "stderr",
     "output_type": "stream",
     "text": [
      "100%|██████████| 24/24 [00:30<00:00,  1.27s/it, loss=0.947]"
     ]
    },
    {
     "name": "stdout",
     "output_type": "stream",
     "text": [
      "Total Loss: 0.9467527866363525...Tversky loss: 0.5434675812721252... Cross Entropy: 0.4032852351665497\n",
      "0.1929406374692917 > 0.5434675812721252????\n",
      "Checkpoint is not in top 5 :'(\n"
     ]
    },
    {
     "name": "stderr",
     "output_type": "stream",
     "text": [
      "\n"
     ]
    },
    {
     "name": "stdout",
     "output_type": "stream",
     "text": [
      "Testing set:...Recall: 88.94 ,...Car Recall: 70.07136535644531 ,...Dice score: 0.11058759689331055 ,...Tversky loss: 0.29380354285240173,...Cross_entropy: 0.13704761862754822\n",
      "Training set:...Recall: 84.15 ,...Car Recall: 58.27194595336914 ,...Dice score: 0.19735848903656006 ,...Tversky loss: 0.36024460196495056,...Cross_entropy: 0.1905457079410553\n",
      "Traing epoch: 52.............................\n"
     ]
    },
    {
     "name": "stderr",
     "output_type": "stream",
     "text": [
      "100%|██████████| 24/24 [00:30<00:00,  1.27s/it, loss=0.403]"
     ]
    },
    {
     "name": "stdout",
     "output_type": "stream",
     "text": [
      "Total Loss: 0.4028759002685547...Tversky loss: 0.2791457772254944... Cross Entropy: 0.1237301230430603\n",
      "0.1929406374692917 > 0.2791457772254944????\n",
      "Checkpoint is not in top 5 :'(\n"
     ]
    },
    {
     "name": "stderr",
     "output_type": "stream",
     "text": [
      "\n"
     ]
    },
    {
     "name": "stdout",
     "output_type": "stream",
     "text": [
      "Testing set:...Recall: 87.91 ,...Car Recall: 69.7857437133789 ,...Dice score: 0.12085932493209839 ,...Tversky loss: 0.31535324454307556,...Cross_entropy: 0.1312771737575531\n",
      "Training set:...Recall: 83.27 ,...Car Recall: 57.77091979980469 ,...Dice score: 0.20266252756118774 ,...Tversky loss: 0.361517995595932,...Cross_entropy: 0.1873510479927063\n",
      "Traing epoch: 53.............................\n"
     ]
    },
    {
     "name": "stderr",
     "output_type": "stream",
     "text": [
      "100%|██████████| 24/24 [00:30<00:00,  1.26s/it, loss=0.283]"
     ]
    },
    {
     "name": "stdout",
     "output_type": "stream",
     "text": [
      "Total Loss: 0.28259754180908203...Tversky loss: 0.21621201932430267... Cross Entropy: 0.06638552993535995\n",
      "0.1929406374692917 > 0.21621201932430267????\n",
      "Checkpoint is not in top 5 :'(\n"
     ]
    },
    {
     "name": "stderr",
     "output_type": "stream",
     "text": [
      "\n"
     ]
    },
    {
     "name": "stdout",
     "output_type": "stream",
     "text": [
      "Testing set:...Recall: 87.91 ,...Car Recall: 70.52384185791016 ,...Dice score: 0.1208648681640625 ,...Tversky loss: 0.3270466923713684,...Cross_entropy: 0.12970499694347382\n",
      "Training set:...Recall: 83.15 ,...Car Recall: 57.908748626708984 ,...Dice score: 0.2011117935180664 ,...Tversky loss: 0.38259825110435486,...Cross_entropy: 0.1766957938671112\n",
      "Traing epoch: 54.............................\n"
     ]
    },
    {
     "name": "stderr",
     "output_type": "stream",
     "text": [
      "100%|██████████| 24/24 [00:30<00:00,  1.27s/it, loss=0.826]"
     ]
    },
    {
     "name": "stdout",
     "output_type": "stream",
     "text": [
      "Total Loss: 0.8264164328575134...Tversky loss: 0.4979250133037567... Cross Entropy: 0.3284914195537567\n",
      "0.1929406374692917 > 0.4979250133037567????\n",
      "Checkpoint is not in top 5 :'(\n"
     ]
    },
    {
     "name": "stderr",
     "output_type": "stream",
     "text": [
      "\n"
     ]
    },
    {
     "name": "stdout",
     "output_type": "stream",
     "text": [
      "Testing set:...Recall: 89.95 ,...Car Recall: 71.49527740478516 ,...Dice score: 0.1004684567451477 ,...Tversky loss: 0.28513941168785095,...Cross_entropy: 0.11642378568649292\n",
      "Training set:...Recall: 86.98 ,...Car Recall: 63.944583892822266 ,...Dice score: 0.16787540912628174 ,...Tversky loss: 0.32980668544769287,...Cross_entropy: 0.1435348242521286\n",
      "Traing epoch: 55.............................\n"
     ]
    },
    {
     "name": "stderr",
     "output_type": "stream",
     "text": [
      "100%|██████████| 24/24 [00:30<00:00,  1.05it/s, loss=0.748]Traceback (most recent call last):\n",
      "  File \"/usr/lib/python3.7/multiprocessing/queues.py\", line 242, in _feed\n",
      "    send_bytes(obj)\n",
      "  File \"/usr/lib/python3.7/multiprocessing/connection.py\", line 200, in send_bytes\n",
      "    self._send_bytes(m[offset:offset + size])\n",
      "  File \"/usr/lib/python3.7/multiprocessing/connection.py\", line 404, in _send_bytes\n",
      "    self._send(header + buf)\n",
      "  File \"/usr/lib/python3.7/multiprocessing/connection.py\", line 368, in _send\n",
      "    n = write(self._handle, buf)\n",
      "BrokenPipeError: [Errno 32] Broken pipe\n",
      "100%|██████████| 24/24 [00:30<00:00,  1.27s/it, loss=0.748]"
     ]
    },
    {
     "name": "stdout",
     "output_type": "stream",
     "text": [
      "Total Loss: 0.7482943534851074...Tversky loss: 0.5069337487220764... Cross Entropy: 0.24136057496070862\n",
      "0.1929406374692917 > 0.5069337487220764????\n",
      "Checkpoint is not in top 5 :'(\n"
     ]
    },
    {
     "name": "stderr",
     "output_type": "stream",
     "text": [
      "\n"
     ]
    },
    {
     "name": "stdout",
     "output_type": "stream",
     "text": [
      "Testing set:...Recall: 90.06 ,...Car Recall: 65.21394348144531 ,...Dice score: 0.09937989711761475 ,...Tversky loss: 0.2941538989543915,...Cross_entropy: 0.13078558444976807\n",
      "Training set:...Recall: 84.84 ,...Car Recall: 55.024314880371094 ,...Dice score: 0.18172729015350342 ,...Tversky loss: 0.3645881414413452,...Cross_entropy: 0.1914362907409668\n",
      "Traing epoch: 56.............................\n"
     ]
    },
    {
     "name": "stderr",
     "output_type": "stream",
     "text": [
      "100%|██████████| 24/24 [00:30<00:00,  1.27s/it, loss=0.63]"
     ]
    },
    {
     "name": "stdout",
     "output_type": "stream",
     "text": [
      "Total Loss: 0.6304765939712524...Tversky loss: 0.4315122961997986... Cross Entropy: 0.19896426796913147\n",
      "0.1929406374692917 > 0.4315122961997986????\n",
      "Checkpoint is not in top 5 :'(\n"
     ]
    },
    {
     "name": "stderr",
     "output_type": "stream",
     "text": [
      "\n"
     ]
    },
    {
     "name": "stdout",
     "output_type": "stream",
     "text": [
      "Testing set:...Recall: 90.57 ,...Car Recall: 71.43063354492188 ,...Dice score: 0.09432369470596313 ,...Tversky loss: 0.28075265884399414,...Cross_entropy: 0.11214806884527206\n",
      "Training set:...Recall: 84.79 ,...Car Recall: 57.11060333251953 ,...Dice score: 0.18839871883392334 ,...Tversky loss: 0.3492268919944763,...Cross_entropy: 0.1762261986732483\n",
      "Traing epoch: 57.............................\n"
     ]
    },
    {
     "name": "stderr",
     "output_type": "stream",
     "text": [
      "100%|██████████| 24/24 [00:30<00:00,  1.25s/it, loss=0.18]\n"
     ]
    },
    {
     "name": "stdout",
     "output_type": "stream",
     "text": [
      "Total Loss: 0.1798703521490097...Tversky loss: 0.15818631649017334... Cross Entropy: 0.021684041246771812\n",
      "0.1929406374692917 > 0.15818631649017334????\n",
      "=> Saving checkpoint\n",
      "Testing set:...Recall: 90.28 ,...Car Recall: 67.30237579345703 ,...Dice score: 0.09721070528030396 ,...Tversky loss: 0.2858942449092865,...Cross_entropy: 0.12034443765878677\n",
      "Training set:...Recall: 85.86 ,...Car Recall: 59.709835052490234 ,...Dice score: 0.17805367708206177 ,...Tversky loss: 0.3386344909667969,...Cross_entropy: 0.1636185646057129\n",
      "Traing epoch: 58.............................\n"
     ]
    },
    {
     "name": "stderr",
     "output_type": "stream",
     "text": [
      "100%|██████████| 24/24 [00:30<00:00,  1.26s/it, loss=0.341]"
     ]
    },
    {
     "name": "stdout",
     "output_type": "stream",
     "text": [
      "Total Loss: 0.3410514295101166...Tversky loss: 0.2742389440536499... Cross Entropy: 0.06681247800588608\n",
      "0.17323940992355347 > 0.2742389440536499????\n",
      "Checkpoint is not in top 5 :'(\n"
     ]
    },
    {
     "name": "stderr",
     "output_type": "stream",
     "text": [
      "\n"
     ]
    },
    {
     "name": "stdout",
     "output_type": "stream",
     "text": [
      "Testing set:...Recall: 90.75 ,...Car Recall: 62.00455856323242 ,...Dice score: 0.0924844741821289 ,...Tversky loss: 0.2889793813228607,...Cross_entropy: 0.13081736862659454\n",
      "Training set:...Recall: 85.07 ,...Car Recall: 52.387237548828125 ,...Dice score: 0.1952592134475708 ,...Tversky loss: 0.37254390120506287,...Cross_entropy: 0.2362583875656128\n",
      "Traing epoch: 59.............................\n"
     ]
    },
    {
     "name": "stderr",
     "output_type": "stream",
     "text": [
      "100%|██████████| 24/24 [00:30<00:00,  1.27s/it, loss=1.48]"
     ]
    },
    {
     "name": "stdout",
     "output_type": "stream",
     "text": [
      "Total Loss: 1.4753565788269043...Tversky loss: 0.53367018699646... Cross Entropy: 0.9416864514350891\n",
      "0.17323940992355347 > 0.53367018699646????\n",
      "Checkpoint is not in top 5 :'(\n"
     ]
    },
    {
     "name": "stderr",
     "output_type": "stream",
     "text": [
      "\n"
     ]
    },
    {
     "name": "stdout",
     "output_type": "stream",
     "text": [
      "Testing set:...Recall: 90.95 ,...Car Recall: 66.17039489746094 ,...Dice score: 0.09054774045944214 ,...Tversky loss: 0.279148668050766,...Cross_entropy: 0.11765541881322861\n",
      "Training set:...Recall: 86.39 ,...Car Recall: 57.09110641479492 ,...Dice score: 0.16947531700134277 ,...Tversky loss: 0.34251222014427185,...Cross_entropy: 0.1675535887479782\n",
      "Traing epoch: 60.............................\n"
     ]
    },
    {
     "name": "stderr",
     "output_type": "stream",
     "text": [
      "100%|██████████| 24/24 [00:30<00:00,  1.05it/s, loss=0.479]Traceback (most recent call last):\n",
      "  File \"/usr/lib/python3.7/multiprocessing/queues.py\", line 242, in _feed\n",
      "    send_bytes(obj)\n",
      "  File \"/usr/lib/python3.7/multiprocessing/connection.py\", line 200, in send_bytes\n",
      "    self._send_bytes(m[offset:offset + size])\n",
      "  File \"/usr/lib/python3.7/multiprocessing/connection.py\", line 404, in _send_bytes\n",
      "    self._send(header + buf)\n",
      "  File \"/usr/lib/python3.7/multiprocessing/connection.py\", line 368, in _send\n",
      "    n = write(self._handle, buf)\n",
      "BrokenPipeError: [Errno 32] Broken pipe\n",
      "100%|██████████| 24/24 [00:30<00:00,  1.26s/it, loss=0.479]"
     ]
    },
    {
     "name": "stdout",
     "output_type": "stream",
     "text": [
      "Total Loss: 0.47902432084083557...Tversky loss: 0.2618570327758789... Cross Entropy: 0.21716728806495667\n",
      "0.17323940992355347 > 0.2618570327758789????\n",
      "Checkpoint is not in top 5 :'(\n"
     ]
    },
    {
     "name": "stderr",
     "output_type": "stream",
     "text": [
      "\n"
     ]
    },
    {
     "name": "stdout",
     "output_type": "stream",
     "text": [
      "Testing set:...Recall: 90.77 ,...Car Recall: 68.72602081298828 ,...Dice score: 0.0922708511352539 ,...Tversky loss: 0.27624234557151794,...Cross_entropy: 0.11451798677444458\n",
      "Training set:...Recall: 86.40 ,...Car Recall: 54.69655990600586 ,...Dice score: 0.17390203475952148 ,...Tversky loss: 0.36668893694877625,...Cross_entropy: 0.17081177234649658\n",
      "Traing epoch: 61.............................\n"
     ]
    },
    {
     "name": "stderr",
     "output_type": "stream",
     "text": [
      "100%|██████████| 24/24 [00:30<00:00,  1.27s/it, loss=1.95]"
     ]
    },
    {
     "name": "stdout",
     "output_type": "stream",
     "text": [
      "Total Loss: 1.948336124420166...Tversky loss: 0.5429270267486572... Cross Entropy: 1.4054090976715088\n",
      "0.17323940992355347 > 0.5429270267486572????\n",
      "Checkpoint is not in top 5 :'(\n"
     ]
    },
    {
     "name": "stderr",
     "output_type": "stream",
     "text": [
      "\n"
     ]
    },
    {
     "name": "stdout",
     "output_type": "stream",
     "text": [
      "Testing set:...Recall: 90.55 ,...Car Recall: 64.49765014648438 ,...Dice score: 0.09454953670501709 ,...Tversky loss: 0.2879200875759125,...Cross_entropy: 0.13165679574012756\n",
      "Training set:...Recall: 86.83 ,...Car Recall: 59.32666778564453 ,...Dice score: 0.1632786989212036 ,...Tversky loss: 0.31467023491859436,...Cross_entropy: 0.17571783065795898\n",
      "Traing epoch: 62.............................\n"
     ]
    },
    {
     "name": "stderr",
     "output_type": "stream",
     "text": [
      "100%|██████████| 24/24 [00:30<00:00,  1.26s/it, loss=0.297]"
     ]
    },
    {
     "name": "stdout",
     "output_type": "stream",
     "text": [
      "Total Loss: 0.2965565323829651...Tversky loss: 0.24678029119968414... Cross Entropy: 0.04977625235915184\n",
      "0.17323940992355347 > 0.24678029119968414????\n",
      "Checkpoint is not in top 5 :'(\n"
     ]
    },
    {
     "name": "stderr",
     "output_type": "stream",
     "text": [
      "\n"
     ]
    },
    {
     "name": "stdout",
     "output_type": "stream",
     "text": [
      "Testing set:...Recall: 89.11 ,...Car Recall: 72.98750305175781 ,...Dice score: 0.10891157388687134 ,...Tversky loss: 0.3088550269603729,...Cross_entropy: 0.1224510446190834\n",
      "Training set:...Recall: 85.65 ,...Car Recall: 67.16421508789062 ,...Dice score: 0.17827844619750977 ,...Tversky loss: 0.35283344984054565,...Cross_entropy: 0.14332500100135803\n",
      "Traing epoch: 63.............................\n"
     ]
    },
    {
     "name": "stderr",
     "output_type": "stream",
     "text": [
      "100%|██████████| 24/24 [00:30<00:00,  1.27s/it, loss=0.314]"
     ]
    },
    {
     "name": "stdout",
     "output_type": "stream",
     "text": [
      "Total Loss: 0.31385722756385803...Tversky loss: 0.2639191746711731... Cross Entropy: 0.04993806406855583\n",
      "0.17323940992355347 > 0.2639191746711731????\n",
      "Checkpoint is not in top 5 :'(\n"
     ]
    },
    {
     "name": "stderr",
     "output_type": "stream",
     "text": [
      "\n"
     ]
    },
    {
     "name": "stdout",
     "output_type": "stream",
     "text": [
      "Testing set:...Recall: 90.46 ,...Car Recall: 67.26427459716797 ,...Dice score: 0.0953521728515625 ,...Tversky loss: 0.2868797481060028,...Cross_entropy: 0.12585118412971497\n",
      "Training set:...Recall: 84.82 ,...Car Recall: 56.36027526855469 ,...Dice score: 0.18369817733764648 ,...Tversky loss: 0.34942978620529175,...Cross_entropy: 0.17574292421340942\n",
      "Traing epoch: 64.............................\n"
     ]
    },
    {
     "name": "stderr",
     "output_type": "stream",
     "text": [
      "100%|██████████| 24/24 [00:30<00:00,  1.27s/it, loss=0.407]"
     ]
    },
    {
     "name": "stdout",
     "output_type": "stream",
     "text": [
      "Total Loss: 0.4074710011482239...Tversky loss: 0.2851843535900116... Cross Entropy: 0.12228664010763168\n",
      "0.17323940992355347 > 0.2851843535900116????\n",
      "Checkpoint is not in top 5 :'(\n"
     ]
    },
    {
     "name": "stderr",
     "output_type": "stream",
     "text": [
      "\n"
     ]
    },
    {
     "name": "stdout",
     "output_type": "stream",
     "text": [
      "Testing set:...Recall: 90.18 ,...Car Recall: 72.87741088867188 ,...Dice score: 0.09822797775268555 ,...Tversky loss: 0.27847176790237427,...Cross_entropy: 0.1119779571890831\n",
      "Training set:...Recall: 86.53 ,...Car Recall: 65.23487854003906 ,...Dice score: 0.17559051513671875 ,...Tversky loss: 0.3365907371044159,...Cross_entropy: 0.14723655581474304\n",
      "Traing epoch: 65.............................\n"
     ]
    },
    {
     "name": "stderr",
     "output_type": "stream",
     "text": [
      "100%|██████████| 24/24 [00:30<00:00,  1.27s/it, loss=0.477]"
     ]
    },
    {
     "name": "stdout",
     "output_type": "stream",
     "text": [
      "Total Loss: 0.47748327255249023...Tversky loss: 0.3990514278411865... Cross Entropy: 0.07843183726072311\n",
      "0.17323940992355347 > 0.3990514278411865????\n",
      "Checkpoint is not in top 5 :'(\n"
     ]
    },
    {
     "name": "stderr",
     "output_type": "stream",
     "text": [
      "\n"
     ]
    },
    {
     "name": "stdout",
     "output_type": "stream",
     "text": [
      "Testing set:...Recall: 90.55 ,...Car Recall: 69.12621307373047 ,...Dice score: 0.09446507692337036 ,...Tversky loss: 0.2825060486793518,...Cross_entropy: 0.11955524981021881\n",
      "Training set:...Recall: 85.41 ,...Car Recall: 58.092105865478516 ,...Dice score: 0.1814873218536377 ,...Tversky loss: 0.3470371663570404,...Cross_entropy: 0.17970126867294312\n",
      "Traing epoch: 66.............................\n"
     ]
    },
    {
     "name": "stderr",
     "output_type": "stream",
     "text": [
      "100%|██████████| 24/24 [00:30<00:00,  1.27s/it, loss=0.601]"
     ]
    },
    {
     "name": "stdout",
     "output_type": "stream",
     "text": [
      "Total Loss: 0.601412832736969...Tversky loss: 0.3628639578819275... Cross Entropy: 0.2385488599538803\n",
      "0.17323940992355347 > 0.3628639578819275????\n",
      "Checkpoint is not in top 5 :'(\n"
     ]
    },
    {
     "name": "stderr",
     "output_type": "stream",
     "text": [
      "\n"
     ]
    },
    {
     "name": "stdout",
     "output_type": "stream",
     "text": [
      "Testing set:...Recall: 90.84 ,...Car Recall: 72.74655151367188 ,...Dice score: 0.09160870313644409 ,...Tversky loss: 0.2690597474575043,...Cross_entropy: 0.11420293152332306\n",
      "Training set:...Recall: 84.72 ,...Car Recall: 59.0031852722168 ,...Dice score: 0.18942081928253174 ,...Tversky loss: 0.3471987843513489,...Cross_entropy: 0.18004882335662842\n",
      "Traing epoch: 67.............................\n"
     ]
    },
    {
     "name": "stderr",
     "output_type": "stream",
     "text": [
      "100%|██████████| 24/24 [00:30<00:00,  1.27s/it, loss=0.976]"
     ]
    },
    {
     "name": "stdout",
     "output_type": "stream",
     "text": [
      "Total Loss: 0.9757503271102905...Tversky loss: 0.5571910738945007... Cross Entropy: 0.4185592830181122\n",
      "0.17323940992355347 > 0.5571910738945007????\n",
      "Checkpoint is not in top 5 :'(\n"
     ]
    },
    {
     "name": "stderr",
     "output_type": "stream",
     "text": [
      "\n"
     ]
    },
    {
     "name": "stdout",
     "output_type": "stream",
     "text": [
      "Testing set:...Recall: 88.75 ,...Car Recall: 65.68534088134766 ,...Dice score: 0.11251527070999146 ,...Tversky loss: 0.3103947341442108,...Cross_entropy: 0.1509176343679428\n",
      "Training set:...Recall: 85.57 ,...Car Recall: 61.51047897338867 ,...Dice score: 0.19160199165344238 ,...Tversky loss: 0.3495042324066162,...Cross_entropy: 0.1724681258201599\n",
      "Traing epoch: 68.............................\n"
     ]
    },
    {
     "name": "stderr",
     "output_type": "stream",
     "text": [
      "100%|██████████| 24/24 [00:30<00:00,  1.27s/it, loss=0.827]"
     ]
    },
    {
     "name": "stdout",
     "output_type": "stream",
     "text": [
      "Total Loss: 0.8266174793243408...Tversky loss: 0.6000000238418579... Cross Entropy: 0.22661744058132172\n",
      "0.17323940992355347 > 0.6000000238418579????\n",
      "Checkpoint is not in top 5 :'(\n"
     ]
    },
    {
     "name": "stderr",
     "output_type": "stream",
     "text": [
      "\n"
     ]
    },
    {
     "name": "stdout",
     "output_type": "stream",
     "text": [
      "Testing set:...Recall: 90.30 ,...Car Recall: 70.84046936035156 ,...Dice score: 0.09698134660720825 ,...Tversky loss: 0.27535173296928406,...Cross_entropy: 0.12605220079421997\n",
      "Training set:...Recall: 85.50 ,...Car Recall: 58.81155776977539 ,...Dice score: 0.18708086013793945 ,...Tversky loss: 0.351228803396225,...Cross_entropy: 0.17057588696479797\n",
      "Traing epoch: 69.............................\n"
     ]
    },
    {
     "name": "stderr",
     "output_type": "stream",
     "text": [
      "100%|██████████| 24/24 [00:30<00:00,  1.27s/it, loss=1.31]"
     ]
    },
    {
     "name": "stdout",
     "output_type": "stream",
     "text": [
      "Total Loss: 1.3106353282928467...Tversky loss: 0.5004540681838989... Cross Entropy: 0.8101813197135925\n",
      "0.17323940992355347 > 0.5004540681838989????\n",
      "Checkpoint is not in top 5 :'(\n"
     ]
    },
    {
     "name": "stderr",
     "output_type": "stream",
     "text": [
      "\n"
     ]
    },
    {
     "name": "stdout",
     "output_type": "stream",
     "text": [
      "Testing set:...Recall: 89.47 ,...Car Recall: 62.293338775634766 ,...Dice score: 0.10530191659927368 ,...Tversky loss: 0.3010265827178955,...Cross_entropy: 0.15375931560993195\n",
      "Training set:...Recall: 84.22 ,...Car Recall: 54.088314056396484 ,...Dice score: 0.19784289598464966 ,...Tversky loss: 0.36591896414756775,...Cross_entropy: 0.1899428367614746\n",
      "Traing epoch: 70.............................\n"
     ]
    },
    {
     "name": "stderr",
     "output_type": "stream",
     "text": [
      "100%|██████████| 24/24 [00:30<00:00,  1.27s/it, loss=0.614]"
     ]
    },
    {
     "name": "stdout",
     "output_type": "stream",
     "text": [
      "Total Loss: 0.6141551733016968...Tversky loss: 0.33352115750312805... Cross Entropy: 0.28063398599624634\n",
      "0.17323940992355347 > 0.33352115750312805????\n",
      "Checkpoint is not in top 5 :'(\n"
     ]
    },
    {
     "name": "stderr",
     "output_type": "stream",
     "text": [
      "\n"
     ]
    },
    {
     "name": "stdout",
     "output_type": "stream",
     "text": [
      "Testing set:...Recall: 88.77 ,...Car Recall: 70.83731842041016 ,...Dice score: 0.11232143640518188 ,...Tversky loss: 0.3075732886791229,...Cross_entropy: 0.13442404568195343\n",
      "Training set:...Recall: 86.03 ,...Car Recall: 65.71623992919922 ,...Dice score: 0.16983962059020996 ,...Tversky loss: 0.3378363251686096,...Cross_entropy: 0.14719830453395844\n",
      "Traing epoch: 71.............................\n"
     ]
    },
    {
     "name": "stderr",
     "output_type": "stream",
     "text": [
      "100%|██████████| 24/24 [00:30<00:00,  1.27s/it, loss=0.801]"
     ]
    },
    {
     "name": "stdout",
     "output_type": "stream",
     "text": [
      "Total Loss: 0.8007575273513794...Tversky loss: 0.4664445221424103... Cross Entropy: 0.3343130052089691\n",
      "0.17323940992355347 > 0.4664445221424103????\n",
      "Checkpoint is not in top 5 :'(\n"
     ]
    },
    {
     "name": "stderr",
     "output_type": "stream",
     "text": [
      "\n"
     ]
    },
    {
     "name": "stdout",
     "output_type": "stream",
     "text": [
      "Testing set:...Recall: 89.29 ,...Car Recall: 62.64701461791992 ,...Dice score: 0.10711115598678589 ,...Tversky loss: 0.3023017942905426,...Cross_entropy: 0.14823304116725922\n",
      "Training set:...Recall: 85.23 ,...Car Recall: 56.59416961669922 ,...Dice score: 0.1845947504043579 ,...Tversky loss: 0.3546522557735443,...Cross_entropy: 0.184990793466568\n",
      "Traing epoch: 72.............................\n"
     ]
    },
    {
     "name": "stderr",
     "output_type": "stream",
     "text": [
      "100%|██████████| 24/24 [00:30<00:00,  1.27s/it, loss=0.373]"
     ]
    },
    {
     "name": "stdout",
     "output_type": "stream",
     "text": [
      "Total Loss: 0.3734240233898163...Tversky loss: 0.2548983693122864... Cross Entropy: 0.11852564662694931\n",
      "0.17323940992355347 > 0.2548983693122864????\n",
      "Checkpoint is not in top 5 :'(\n"
     ]
    },
    {
     "name": "stderr",
     "output_type": "stream",
     "text": [
      "\n"
     ]
    },
    {
     "name": "stdout",
     "output_type": "stream",
     "text": [
      "Testing set:...Recall: 89.16 ,...Car Recall: 63.70515823364258 ,...Dice score: 0.10835158824920654 ,...Tversky loss: 0.30983319878578186,...Cross_entropy: 0.1399780660867691\n",
      "Training set:...Recall: 86.71 ,...Car Recall: 59.740684509277344 ,...Dice score: 0.16447412967681885 ,...Tversky loss: 0.3414997458457947,...Cross_entropy: 0.1613491177558899\n",
      "Traing epoch: 73.............................\n"
     ]
    },
    {
     "name": "stderr",
     "output_type": "stream",
     "text": [
      "100%|██████████| 24/24 [00:30<00:00,  1.26s/it, loss=0.267]"
     ]
    },
    {
     "name": "stdout",
     "output_type": "stream",
     "text": [
      "Total Loss: 0.26728910207748413...Tversky loss: 0.21366938948631287... Cross Entropy: 0.053619712591171265\n",
      "0.17323940992355347 > 0.21366938948631287????\n",
      "Checkpoint is not in top 5 :'(\n"
     ]
    },
    {
     "name": "stderr",
     "output_type": "stream",
     "text": [
      "\n"
     ]
    },
    {
     "name": "stdout",
     "output_type": "stream",
     "text": [
      "Testing set:...Recall: 90.31 ,...Car Recall: 67.24640655517578 ,...Dice score: 0.09685468673706055 ,...Tversky loss: 0.2865912616252899,...Cross_entropy: 0.11926611512899399\n",
      "Training set:...Recall: 85.86 ,...Car Recall: 57.5434455871582 ,...Dice score: 0.1808314323425293 ,...Tversky loss: 0.3584582209587097,...Cross_entropy: 0.1674739569425583\n",
      "Traing epoch: 74.............................\n"
     ]
    },
    {
     "name": "stderr",
     "output_type": "stream",
     "text": [
      "100%|██████████| 24/24 [00:30<00:00,  1.27s/it, loss=0.317]"
     ]
    },
    {
     "name": "stdout",
     "output_type": "stream",
     "text": [
      "Total Loss: 0.3168637156486511...Tversky loss: 0.25035014748573303... Cross Entropy: 0.0665135607123375\n",
      "0.17323940992355347 > 0.25035014748573303????\n",
      "Checkpoint is not in top 5 :'(\n"
     ]
    },
    {
     "name": "stderr",
     "output_type": "stream",
     "text": [
      "\n"
     ]
    },
    {
     "name": "stdout",
     "output_type": "stream",
     "text": [
      "Testing set:...Recall: 89.56 ,...Car Recall: 68.15320587158203 ,...Dice score: 0.10441082715988159 ,...Tversky loss: 0.2929440438747406,...Cross_entropy: 0.1257874220609665\n",
      "Training set:...Recall: 85.94 ,...Car Recall: 58.61029815673828 ,...Dice score: 0.17663609981536865 ,...Tversky loss: 0.3398585915565491,...Cross_entropy: 0.1683754175901413\n",
      "Traing epoch: 75.............................\n"
     ]
    },
    {
     "name": "stderr",
     "output_type": "stream",
     "text": [
      "100%|██████████| 24/24 [00:30<00:00,  1.27s/it, loss=0.278]"
     ]
    },
    {
     "name": "stdout",
     "output_type": "stream",
     "text": [
      "Total Loss: 0.27804097533226013...Tversky loss: 0.24686208367347717... Cross Entropy: 0.03117888607084751\n",
      "0.17323940992355347 > 0.24686208367347717????\n",
      "Checkpoint is not in top 5 :'(\n"
     ]
    },
    {
     "name": "stderr",
     "output_type": "stream",
     "text": [
      "\n"
     ]
    },
    {
     "name": "stdout",
     "output_type": "stream",
     "text": [
      "Testing set:...Recall: 90.63 ,...Car Recall: 68.2096939086914 ,...Dice score: 0.09366559982299805 ,...Tversky loss: 0.27958783507347107,...Cross_entropy: 0.11998356878757477\n",
      "Training set:...Recall: 86.12 ,...Car Recall: 61.011844635009766 ,...Dice score: 0.1746731996536255 ,...Tversky loss: 0.33059558272361755,...Cross_entropy: 0.1710709035396576\n",
      "Traing epoch: 76.............................\n"
     ]
    },
    {
     "name": "stderr",
     "output_type": "stream",
     "text": [
      "100%|██████████| 24/24 [00:30<00:00,  1.26s/it, loss=0.431]"
     ]
    },
    {
     "name": "stdout",
     "output_type": "stream",
     "text": [
      "Total Loss: 0.4307422339916229...Tversky loss: 0.3187687397003174... Cross Entropy: 0.11197348684072495\n",
      "0.17323940992355347 > 0.3187687397003174????\n",
      "Checkpoint is not in top 5 :'(\n"
     ]
    },
    {
     "name": "stderr",
     "output_type": "stream",
     "text": [
      "\n"
     ]
    },
    {
     "name": "stdout",
     "output_type": "stream",
     "text": [
      "Testing set:...Recall: 90.38 ,...Car Recall: 64.76856231689453 ,...Dice score: 0.09617000818252563 ,...Tversky loss: 0.28187140822410583,...Cross_entropy: 0.13994444906711578\n",
      "Training set:...Recall: 86.89 ,...Car Recall: 62.77923583984375 ,...Dice score: 0.16872292757034302 ,...Tversky loss: 0.32914429903030396,...Cross_entropy: 0.16388925909996033\n",
      "Traing epoch: 77.............................\n"
     ]
    },
    {
     "name": "stderr",
     "output_type": "stream",
     "text": [
      "100%|██████████| 24/24 [00:30<00:00,  1.27s/it, loss=0.534]"
     ]
    },
    {
     "name": "stdout",
     "output_type": "stream",
     "text": [
      "Total Loss: 0.5344496965408325...Tversky loss: 0.3795834481716156... Cross Entropy: 0.15486624836921692\n",
      "0.17323940992355347 > 0.3795834481716156????\n",
      "Checkpoint is not in top 5 :'(\n"
     ]
    },
    {
     "name": "stderr",
     "output_type": "stream",
     "text": [
      "\n"
     ]
    },
    {
     "name": "stdout",
     "output_type": "stream",
     "text": [
      "Testing set:...Recall: 88.17 ,...Car Recall: 71.39227294921875 ,...Dice score: 0.11833542585372925 ,...Tversky loss: 0.3120022416114807,...Cross_entropy: 0.13328056037425995\n",
      "Training set:...Recall: 85.48 ,...Car Recall: 65.06279754638672 ,...Dice score: 0.18123376369476318 ,...Tversky loss: 0.33771252632141113,...Cross_entropy: 0.15509983897209167\n",
      "Traing epoch: 78.............................\n"
     ]
    },
    {
     "name": "stderr",
     "output_type": "stream",
     "text": [
      "100%|██████████| 24/24 [00:30<00:00,  1.26s/it, loss=0.278]"
     ]
    },
    {
     "name": "stdout",
     "output_type": "stream",
     "text": [
      "Total Loss: 0.278264582157135...Tversky loss: 0.24772311747074127... Cross Entropy: 0.030541470274329185\n",
      "0.17323940992355347 > 0.24772311747074127????\n",
      "Checkpoint is not in top 5 :'(\n"
     ]
    },
    {
     "name": "stderr",
     "output_type": "stream",
     "text": [
      "\n"
     ]
    },
    {
     "name": "stdout",
     "output_type": "stream",
     "text": [
      "Testing set:...Recall: 90.55 ,...Car Recall: 65.80094909667969 ,...Dice score: 0.09447383880615234 ,...Tversky loss: 0.27836450934410095,...Cross_entropy: 0.13223843276500702\n",
      "Training set:...Recall: 86.90 ,...Car Recall: 60.75565719604492 ,...Dice score: 0.17017394304275513 ,...Tversky loss: 0.3390333354473114,...Cross_entropy: 0.1566219925880432\n",
      "Traing epoch: 79.............................\n"
     ]
    },
    {
     "name": "stderr",
     "output_type": "stream",
     "text": [
      "100%|██████████| 24/24 [00:30<00:00,  1.27s/it, loss=0.42]"
     ]
    },
    {
     "name": "stdout",
     "output_type": "stream",
     "text": [
      "Total Loss: 0.4201931059360504...Tversky loss: 0.24850144982337952... Cross Entropy: 0.1716916561126709\n",
      "0.17323940992355347 > 0.24850144982337952????\n",
      "Checkpoint is not in top 5 :'(\n"
     ]
    },
    {
     "name": "stderr",
     "output_type": "stream",
     "text": [
      "\n"
     ]
    },
    {
     "name": "stdout",
     "output_type": "stream",
     "text": [
      "Testing set:...Recall: 89.03 ,...Car Recall: 68.93754577636719 ,...Dice score: 0.10972338914871216 ,...Tversky loss: 0.30077633261680603,...Cross_entropy: 0.13821154832839966\n",
      "Training set:...Recall: 86.22 ,...Car Recall: 63.20231628417969 ,...Dice score: 0.18257743120193481 ,...Tversky loss: 0.34668922424316406,...Cross_entropy: 0.15849828720092773\n",
      "Traing epoch: 80.............................\n"
     ]
    },
    {
     "name": "stderr",
     "output_type": "stream",
     "text": [
      "100%|██████████| 24/24 [00:30<00:00,  1.27s/it, loss=0.334]"
     ]
    },
    {
     "name": "stdout",
     "output_type": "stream",
     "text": [
      "Total Loss: 0.333587646484375...Tversky loss: 0.22308452427387238... Cross Entropy: 0.11050313711166382\n",
      "0.17323940992355347 > 0.22308452427387238????\n",
      "Checkpoint is not in top 5 :'(\n"
     ]
    },
    {
     "name": "stderr",
     "output_type": "stream",
     "text": [
      "\n"
     ]
    },
    {
     "name": "stdout",
     "output_type": "stream",
     "text": [
      "Testing set:...Recall: 90.79 ,...Car Recall: 65.65985107421875 ,...Dice score: 0.09211879968643188 ,...Tversky loss: 0.28033632040023804,...Cross_entropy: 0.1318083554506302\n",
      "Training set:...Recall: 87.84 ,...Car Recall: 59.76065444946289 ,...Dice score: 0.16005945205688477 ,...Tversky loss: 0.3365575969219208,...Cross_entropy: 0.1530659943819046\n",
      "Traing epoch: 81.............................\n"
     ]
    },
    {
     "name": "stderr",
     "output_type": "stream",
     "text": [
      "100%|██████████| 24/24 [00:30<00:00,  1.27s/it, loss=0.842]"
     ]
    },
    {
     "name": "stdout",
     "output_type": "stream",
     "text": [
      "Total Loss: 0.8415743708610535...Tversky loss: 0.5997441411018372... Cross Entropy: 0.24183021485805511\n",
      "0.17323940992355347 > 0.5997441411018372????\n",
      "Checkpoint is not in top 5 :'(\n"
     ]
    },
    {
     "name": "stderr",
     "output_type": "stream",
     "text": [
      "\n"
     ]
    },
    {
     "name": "stdout",
     "output_type": "stream",
     "text": [
      "Testing set:...Recall: 89.18 ,...Car Recall: 70.97868347167969 ,...Dice score: 0.10822999477386475 ,...Tversky loss: 0.2883216142654419,...Cross_entropy: 0.1434255987405777\n",
      "Training set:...Recall: 85.29 ,...Car Recall: 63.005638122558594 ,...Dice score: 0.18060517311096191 ,...Tversky loss: 0.33397310972213745,...Cross_entropy: 0.1633807122707367\n",
      "Traing epoch: 82.............................\n"
     ]
    },
    {
     "name": "stderr",
     "output_type": "stream",
     "text": [
      "100%|██████████| 24/24 [00:30<00:00,  1.27s/it, loss=0.327]"
     ]
    },
    {
     "name": "stdout",
     "output_type": "stream",
     "text": [
      "Total Loss: 0.3265771269798279...Tversky loss: 0.28992292284965515... Cross Entropy: 0.03665419667959213\n",
      "0.17323940992355347 > 0.28992292284965515????\n",
      "Checkpoint is not in top 5 :'(\n"
     ]
    },
    {
     "name": "stderr",
     "output_type": "stream",
     "text": [
      "\n"
     ]
    },
    {
     "name": "stdout",
     "output_type": "stream",
     "text": [
      "Testing set:...Recall: 90.96 ,...Car Recall: 68.84321594238281 ,...Dice score: 0.09041547775268555 ,...Tversky loss: 0.2767891585826874,...Cross_entropy: 0.11073317378759384\n",
      "Training set:...Recall: 86.16 ,...Car Recall: 59.36061096191406 ,...Dice score: 0.1805661916732788 ,...Tversky loss: 0.34283730387687683,...Cross_entropy: 0.16470572352409363\n",
      "Traing epoch: 83.............................\n"
     ]
    },
    {
     "name": "stderr",
     "output_type": "stream",
     "text": [
      "100%|██████████| 24/24 [00:30<00:00,  1.27s/it, loss=0.146]\n"
     ]
    },
    {
     "name": "stdout",
     "output_type": "stream",
     "text": [
      "Total Loss: 0.14587116241455078...Tversky loss: 0.13204368948936462... Cross Entropy: 0.013827472925186157\n",
      "0.17323940992355347 > 0.13204368948936462????\n",
      "=> Saving checkpoint\n",
      "Testing set:...Recall: 89.65 ,...Car Recall: 69.65673065185547 ,...Dice score: 0.103526771068573 ,...Tversky loss: 0.2962430417537689,...Cross_entropy: 0.11871492862701416\n",
      "Training set:...Recall: 83.74 ,...Car Recall: 60.209434509277344 ,...Dice score: 0.19611579179763794 ,...Tversky loss: 0.3559795320034027,...Cross_entropy: 0.16393408179283142\n",
      "Traing epoch: 84.............................\n"
     ]
    },
    {
     "name": "stderr",
     "output_type": "stream",
     "text": [
      "100%|██████████| 24/24 [00:30<00:00,  1.27s/it, loss=0.505]"
     ]
    },
    {
     "name": "stdout",
     "output_type": "stream",
     "text": [
      "Total Loss: 0.5050670504570007...Tversky loss: 0.4359421730041504... Cross Entropy: 0.06912489980459213\n",
      "0.1689448356628418 > 0.4359421730041504????\n",
      "Checkpoint is not in top 5 :'(\n"
     ]
    },
    {
     "name": "stderr",
     "output_type": "stream",
     "text": [
      "\n"
     ]
    },
    {
     "name": "stdout",
     "output_type": "stream",
     "text": [
      "Testing set:...Recall: 88.82 ,...Car Recall: 69.0657730102539 ,...Dice score: 0.11180621385574341 ,...Tversky loss: 0.2985159456729889,...Cross_entropy: 0.14543722569942474\n",
      "Training set:...Recall: 85.02 ,...Car Recall: 63.581878662109375 ,...Dice score: 0.18455326557159424 ,...Tversky loss: 0.3476448059082031,...Cross_entropy: 0.15869297087192535\n",
      "Traing epoch: 85.............................\n"
     ]
    },
    {
     "name": "stderr",
     "output_type": "stream",
     "text": [
      "100%|██████████| 24/24 [00:30<00:00,  1.27s/it, loss=0.224]"
     ]
    },
    {
     "name": "stdout",
     "output_type": "stream",
     "text": [
      "Total Loss: 0.22434782981872559...Tversky loss: 0.1905713528394699... Cross Entropy: 0.03377646952867508\n",
      "0.1689448356628418 > 0.1905713528394699????\n",
      "Checkpoint is not in top 5 :'(\n"
     ]
    },
    {
     "name": "stderr",
     "output_type": "stream",
     "text": [
      "\n"
     ]
    },
    {
     "name": "stdout",
     "output_type": "stream",
     "text": [
      "Testing set:...Recall: 90.98 ,...Car Recall: 70.55142974853516 ,...Dice score: 0.09018188714981079 ,...Tversky loss: 0.27151334285736084,...Cross_entropy: 0.11713407188653946\n",
      "Training set:...Recall: 86.22 ,...Car Recall: 61.4971923828125 ,...Dice score: 0.1787945032119751 ,...Tversky loss: 0.34397250413894653,...Cross_entropy: 0.14934761822223663\n",
      "Traing epoch: 86.............................\n"
     ]
    },
    {
     "name": "stderr",
     "output_type": "stream",
     "text": [
      "100%|██████████| 24/24 [00:30<00:00,  1.26s/it, loss=0.459]"
     ]
    },
    {
     "name": "stdout",
     "output_type": "stream",
     "text": [
      "Total Loss: 0.4586881101131439...Tversky loss: 0.31141215562820435... Cross Entropy: 0.14727595448493958\n",
      "0.1689448356628418 > 0.31141215562820435????\n",
      "Checkpoint is not in top 5 :'(\n"
     ]
    },
    {
     "name": "stderr",
     "output_type": "stream",
     "text": [
      "\n"
     ]
    },
    {
     "name": "stdout",
     "output_type": "stream",
     "text": [
      "Testing set:...Recall: 90.45 ,...Car Recall: 69.57789611816406 ,...Dice score: 0.09550124406814575 ,...Tversky loss: 0.28372788429260254,...Cross_entropy: 0.12286686152219772\n",
      "Training set:...Recall: 88.24 ,...Car Recall: 64.06703186035156 ,...Dice score: 0.1524571180343628 ,...Tversky loss: 0.3132345676422119,...Cross_entropy: 0.143331840634346\n",
      "Traing epoch: 87.............................\n"
     ]
    },
    {
     "name": "stderr",
     "output_type": "stream",
     "text": [
      "100%|██████████| 24/24 [00:30<00:00,  1.26s/it, loss=0.508]"
     ]
    },
    {
     "name": "stdout",
     "output_type": "stream",
     "text": [
      "Total Loss: 0.5084328651428223...Tversky loss: 0.393540620803833... Cross Entropy: 0.11489223688840866\n",
      "0.1689448356628418 > 0.393540620803833????\n",
      "Checkpoint is not in top 5 :'(\n"
     ]
    },
    {
     "name": "stderr",
     "output_type": "stream",
     "text": [
      "\n"
     ]
    },
    {
     "name": "stdout",
     "output_type": "stream",
     "text": [
      "Testing set:...Recall: 89.21 ,...Car Recall: 67.11923217773438 ,...Dice score: 0.10793912410736084 ,...Tversky loss: 0.30297908186912537,...Cross_entropy: 0.13623663783073425\n",
      "Training set:...Recall: 84.22 ,...Car Recall: 61.38277053833008 ,...Dice score: 0.19233465194702148 ,...Tversky loss: 0.3525843024253845,...Cross_entropy: 0.16164585947990417\n",
      "Traing epoch: 88.............................\n"
     ]
    },
    {
     "name": "stderr",
     "output_type": "stream",
     "text": [
      "100%|██████████| 24/24 [00:30<00:00,  1.27s/it, loss=0.303]"
     ]
    },
    {
     "name": "stdout",
     "output_type": "stream",
     "text": [
      "Total Loss: 0.3026891052722931...Tversky loss: 0.21351154148578644... Cross Entropy: 0.08917757123708725\n",
      "0.1689448356628418 > 0.21351154148578644????\n",
      "Checkpoint is not in top 5 :'(\n"
     ]
    },
    {
     "name": "stderr",
     "output_type": "stream",
     "text": [
      "\n"
     ]
    },
    {
     "name": "stdout",
     "output_type": "stream",
     "text": [
      "Testing set:...Recall: 90.47 ,...Car Recall: 63.221675872802734 ,...Dice score: 0.0953373908996582 ,...Tversky loss: 0.2892509996891022,...Cross_entropy: 0.1379135400056839\n",
      "Training set:...Recall: 85.34 ,...Car Recall: 54.345096588134766 ,...Dice score: 0.18109679222106934 ,...Tversky loss: 0.3505561053752899,...Cross_entropy: 0.18173669278621674\n",
      "Traing epoch: 89.............................\n"
     ]
    },
    {
     "name": "stderr",
     "output_type": "stream",
     "text": [
      "100%|██████████| 24/24 [00:30<00:00,  1.27s/it, loss=0.369]"
     ]
    },
    {
     "name": "stdout",
     "output_type": "stream",
     "text": [
      "Total Loss: 0.368818461894989...Tversky loss: 0.319827139377594... Cross Entropy: 0.048991311341524124\n",
      "0.1689448356628418 > 0.319827139377594????\n",
      "Checkpoint is not in top 5 :'(\n"
     ]
    },
    {
     "name": "stderr",
     "output_type": "stream",
     "text": [
      "\n"
     ]
    },
    {
     "name": "stdout",
     "output_type": "stream",
     "text": [
      "Testing set:...Recall: 89.73 ,...Car Recall: 70.2731704711914 ,...Dice score: 0.10267883539199829 ,...Tversky loss: 0.2892695367336273,...Cross_entropy: 0.1304791420698166\n",
      "Training set:...Recall: 84.56 ,...Car Recall: 62.43011474609375 ,...Dice score: 0.1885138750076294 ,...Tversky loss: 0.33886319398880005,...Cross_entropy: 0.16640132665634155\n",
      "Traing epoch: 90.............................\n"
     ]
    },
    {
     "name": "stderr",
     "output_type": "stream",
     "text": [
      "100%|██████████| 24/24 [00:30<00:00,  1.28s/it, loss=0.315]"
     ]
    },
    {
     "name": "stdout",
     "output_type": "stream",
     "text": [
      "Total Loss: 0.31463462114334106...Tversky loss: 0.2514339089393616... Cross Entropy: 0.0632007047533989\n",
      "0.1689448356628418 > 0.2514339089393616????\n",
      "Checkpoint is not in top 5 :'(\n"
     ]
    },
    {
     "name": "stderr",
     "output_type": "stream",
     "text": [
      "\n"
     ]
    },
    {
     "name": "stdout",
     "output_type": "stream",
     "text": [
      "Testing set:...Recall: 89.38 ,...Car Recall: 72.29644012451172 ,...Dice score: 0.10618191957473755 ,...Tversky loss: 0.2896372377872467,...Cross_entropy: 0.12414663285017014\n",
      "Training set:...Recall: 84.22 ,...Car Recall: 55.4676399230957 ,...Dice score: 0.20499908924102783 ,...Tversky loss: 0.3651347756385803,...Cross_entropy: 0.20031891763210297\n",
      "Traing epoch: 91.............................\n"
     ]
    },
    {
     "name": "stderr",
     "output_type": "stream",
     "text": [
      "100%|██████████| 24/24 [00:30<00:00,  1.26s/it, loss=0.521]"
     ]
    },
    {
     "name": "stdout",
     "output_type": "stream",
     "text": [
      "Total Loss: 0.521059513092041...Tversky loss: 0.43830814957618713... Cross Entropy: 0.08275139331817627\n",
      "0.1689448356628418 > 0.43830814957618713????\n",
      "Checkpoint is not in top 5 :'(\n"
     ]
    },
    {
     "name": "stderr",
     "output_type": "stream",
     "text": [
      "\n"
     ]
    },
    {
     "name": "stdout",
     "output_type": "stream",
     "text": [
      "Testing set:...Recall: 91.45 ,...Car Recall: 73.31201171875 ,...Dice score: 0.08546596765518188 ,...Tversky loss: 0.26057857275009155,...Cross_entropy: 0.10404019802808762\n",
      "Training set:...Recall: 86.11 ,...Car Recall: 64.07894134521484 ,...Dice score: 0.17614632844924927 ,...Tversky loss: 0.3228996694087982,...Cross_entropy: 0.1592504233121872\n",
      "Traing epoch: 92.............................\n"
     ]
    },
    {
     "name": "stderr",
     "output_type": "stream",
     "text": [
      "100%|██████████| 24/24 [00:30<00:00,  1.27s/it, loss=0.696]"
     ]
    },
    {
     "name": "stdout",
     "output_type": "stream",
     "text": [
      "Total Loss: 0.696323812007904...Tversky loss: 0.42528992891311646... Cross Entropy: 0.2710338830947876\n",
      "0.1689448356628418 > 0.42528992891311646????\n",
      "Checkpoint is not in top 5 :'(\n"
     ]
    },
    {
     "name": "stderr",
     "output_type": "stream",
     "text": [
      "\n"
     ]
    },
    {
     "name": "stdout",
     "output_type": "stream",
     "text": [
      "Testing set:...Recall: 90.21 ,...Car Recall: 68.59542846679688 ,...Dice score: 0.09794813394546509 ,...Tversky loss: 0.2796129584312439,...Cross_entropy: 0.12699750065803528\n",
      "Training set:...Recall: 85.59 ,...Car Recall: 64.5428466796875 ,...Dice score: 0.17609626054763794 ,...Tversky loss: 0.3222469985485077,...Cross_entropy: 0.1518072634935379\n",
      "Traing epoch: 93.............................\n"
     ]
    },
    {
     "name": "stderr",
     "output_type": "stream",
     "text": [
      "100%|██████████| 24/24 [00:30<00:00,  1.26s/it, loss=0.306]"
     ]
    },
    {
     "name": "stdout",
     "output_type": "stream",
     "text": [
      "Total Loss: 0.3057895004749298...Tversky loss: 0.2531557083129883... Cross Entropy: 0.05263378843665123\n",
      "0.1689448356628418 > 0.2531557083129883????\n",
      "Checkpoint is not in top 5 :'(\n"
     ]
    },
    {
     "name": "stderr",
     "output_type": "stream",
     "text": [
      "\n"
     ]
    },
    {
     "name": "stdout",
     "output_type": "stream",
     "text": [
      "Testing set:...Recall: 90.69 ,...Car Recall: 66.14832305908203 ,...Dice score: 0.093067467212677 ,...Tversky loss: 0.282137006521225,...Cross_entropy: 0.1361183375120163\n",
      "Training set:...Recall: 86.46 ,...Car Recall: 57.562740325927734 ,...Dice score: 0.17693209648132324 ,...Tversky loss: 0.35164815187454224,...Cross_entropy: 0.17366531491279602\n",
      "Traing epoch: 94.............................\n"
     ]
    },
    {
     "name": "stderr",
     "output_type": "stream",
     "text": [
      "100%|██████████| 24/24 [00:30<00:00,  1.27s/it, loss=0.266]"
     ]
    },
    {
     "name": "stdout",
     "output_type": "stream",
     "text": [
      "Total Loss: 0.26605290174484253...Tversky loss: 0.21498055756092072... Cross Entropy: 0.051072340458631516\n",
      "0.1689448356628418 > 0.21498055756092072????\n",
      "Checkpoint is not in top 5 :'(\n"
     ]
    },
    {
     "name": "stderr",
     "output_type": "stream",
     "text": [
      "\n"
     ]
    },
    {
     "name": "stdout",
     "output_type": "stream",
     "text": [
      "Testing set:...Recall: 90.19 ,...Car Recall: 70.72905731201172 ,...Dice score: 0.09814250469207764 ,...Tversky loss: 0.28504204750061035,...Cross_entropy: 0.1256578266620636\n",
      "Training set:...Recall: 86.01 ,...Car Recall: 64.07791900634766 ,...Dice score: 0.18279433250427246 ,...Tversky loss: 0.33925914764404297,...Cross_entropy: 0.15534329414367676\n",
      "Traing epoch: 95.............................\n"
     ]
    },
    {
     "name": "stderr",
     "output_type": "stream",
     "text": [
      "100%|██████████| 24/24 [00:30<00:00,  1.27s/it, loss=0.712]"
     ]
    },
    {
     "name": "stdout",
     "output_type": "stream",
     "text": [
      "Total Loss: 0.7122988104820251...Tversky loss: 0.37246236205101013... Cross Entropy: 0.339836448431015\n",
      "0.1689448356628418 > 0.37246236205101013????\n",
      "Checkpoint is not in top 5 :'(\n"
     ]
    },
    {
     "name": "stderr",
     "output_type": "stream",
     "text": [
      "\n"
     ]
    },
    {
     "name": "stdout",
     "output_type": "stream",
     "text": [
      "Testing set:...Recall: 89.06 ,...Car Recall: 66.3890151977539 ,...Dice score: 0.10939532518386841 ,...Tversky loss: 0.3022952973842621,...Cross_entropy: 0.1459060162305832\n",
      "Training set:...Recall: 85.88 ,...Car Recall: 65.07667541503906 ,...Dice score: 0.18076497316360474 ,...Tversky loss: 0.33096086978912354,...Cross_entropy: 0.15232045948505402\n",
      "Traing epoch: 96.............................\n"
     ]
    },
    {
     "name": "stderr",
     "output_type": "stream",
     "text": [
      "100%|██████████| 24/24 [00:30<00:00,  1.27s/it, loss=1.6]"
     ]
    },
    {
     "name": "stdout",
     "output_type": "stream",
     "text": [
      "Total Loss: 1.6044597625732422...Tversky loss: 0.5336430668830872... Cross Entropy: 1.0708167552947998\n",
      "0.1689448356628418 > 0.5336430668830872????\n",
      "Checkpoint is not in top 5 :'(\n"
     ]
    },
    {
     "name": "stderr",
     "output_type": "stream",
     "text": [
      "\n"
     ]
    },
    {
     "name": "stdout",
     "output_type": "stream",
     "text": [
      "Testing set:...Recall: 89.84 ,...Car Recall: 66.48046112060547 ,...Dice score: 0.10159450769424438 ,...Tversky loss: 0.2935014069080353,...Cross_entropy: 0.13209858536720276\n",
      "Training set:...Recall: 85.21 ,...Car Recall: 57.771366119384766 ,...Dice score: 0.18514931201934814 ,...Tversky loss: 0.3571177124977112,...Cross_entropy: 0.17920415103435516\n",
      "Traing epoch: 97.............................\n"
     ]
    },
    {
     "name": "stderr",
     "output_type": "stream",
     "text": [
      "100%|██████████| 24/24 [00:30<00:00,  1.27s/it, loss=1.33]"
     ]
    },
    {
     "name": "stdout",
     "output_type": "stream",
     "text": [
      "Total Loss: 1.3260471820831299...Tversky loss: 0.5088951587677002... Cross Entropy: 0.8171520233154297\n",
      "0.1689448356628418 > 0.5088951587677002????\n",
      "Checkpoint is not in top 5 :'(\n"
     ]
    },
    {
     "name": "stderr",
     "output_type": "stream",
     "text": [
      "\n"
     ]
    },
    {
     "name": "stdout",
     "output_type": "stream",
     "text": [
      "Testing set:...Recall: 90.58 ,...Car Recall: 65.26097869873047 ,...Dice score: 0.09416598081588745 ,...Tversky loss: 0.28408581018447876,...Cross_entropy: 0.12763698399066925\n",
      "Training set:...Recall: 85.17 ,...Car Recall: 53.69390869140625 ,...Dice score: 0.18232274055480957 ,...Tversky loss: 0.3485445976257324,...Cross_entropy: 0.1951833963394165\n",
      "Traing epoch: 98.............................\n"
     ]
    },
    {
     "name": "stderr",
     "output_type": "stream",
     "text": [
      "100%|██████████| 24/24 [00:30<00:00,  1.26s/it, loss=0.265]"
     ]
    },
    {
     "name": "stdout",
     "output_type": "stream",
     "text": [
      "Total Loss: 0.26533108949661255...Tversky loss: 0.21728819608688354... Cross Entropy: 0.048042893409729004\n",
      "0.1689448356628418 > 0.21728819608688354????\n",
      "Checkpoint is not in top 5 :'(\n"
     ]
    },
    {
     "name": "stderr",
     "output_type": "stream",
     "text": [
      "\n"
     ]
    },
    {
     "name": "stdout",
     "output_type": "stream",
     "text": [
      "Testing set:...Recall: 88.46 ,...Car Recall: 70.6562728881836 ,...Dice score: 0.11536151170730591 ,...Tversky loss: 0.2999875545501709,...Cross_entropy: 0.130201518535614\n",
      "Training set:...Recall: 86.85 ,...Car Recall: 64.42005920410156 ,...Dice score: 0.1681998372077942 ,...Tversky loss: 0.33016762137413025,...Cross_entropy: 0.14014452695846558\n",
      "Traing epoch: 99.............................\n"
     ]
    },
    {
     "name": "stderr",
     "output_type": "stream",
     "text": [
      "100%|██████████| 24/24 [00:30<00:00,  1.27s/it, loss=1.09]"
     ]
    },
    {
     "name": "stdout",
     "output_type": "stream",
     "text": [
      "Total Loss: 1.085359811782837...Tversky loss: 0.5981787443161011... Cross Entropy: 0.48718103766441345\n",
      "0.1689448356628418 > 0.5981787443161011????\n",
      "Checkpoint is not in top 5 :'(\n"
     ]
    },
    {
     "name": "stderr",
     "output_type": "stream",
     "text": [
      "\n"
     ]
    },
    {
     "name": "stdout",
     "output_type": "stream",
     "text": [
      "Testing set:...Recall: 90.15 ,...Car Recall: 65.94389343261719 ,...Dice score: 0.09852701425552368 ,...Tversky loss: 0.2876652181148529,...Cross_entropy: 0.13430672883987427\n",
      "Training set:...Recall: 84.02 ,...Car Recall: 52.65891647338867 ,...Dice score: 0.20574665069580078 ,...Tversky loss: 0.36676308512687683,...Cross_entropy: 0.20719966292381287\n",
      "Traing epoch: 100.............................\n"
     ]
    },
    {
     "name": "stderr",
     "output_type": "stream",
     "text": [
      "100%|██████████| 24/24 [00:30<00:00,  1.27s/it, loss=0.596]"
     ]
    },
    {
     "name": "stdout",
     "output_type": "stream",
     "text": [
      "Total Loss: 0.5957873463630676...Tversky loss: 0.3430500328540802... Cross Entropy: 0.2527373135089874\n",
      "0.1689448356628418 > 0.3430500328540802????\n",
      "Checkpoint is not in top 5 :'(\n"
     ]
    },
    {
     "name": "stderr",
     "output_type": "stream",
     "text": [
      "\n"
     ]
    },
    {
     "name": "stdout",
     "output_type": "stream",
     "text": [
      "Testing set:...Recall: 90.73 ,...Car Recall: 69.59812927246094 ,...Dice score: 0.09270018339157104 ,...Tversky loss: 0.2802569568157196,...Cross_entropy: 0.11696930974721909\n",
      "Training set:...Recall: 87.34 ,...Car Recall: 63.477294921875 ,...Dice score: 0.16885334253311157 ,...Tversky loss: 0.3365516662597656,...Cross_entropy: 0.15318116545677185\n",
      "Traing epoch: 101.............................\n"
     ]
    },
    {
     "name": "stderr",
     "output_type": "stream",
     "text": [
      "100%|██████████| 24/24 [00:30<00:00,  1.27s/it, loss=1.16]"
     ]
    },
    {
     "name": "stdout",
     "output_type": "stream",
     "text": [
      "Total Loss: 1.1611745357513428...Tversky loss: 0.5520542860031128... Cross Entropy: 0.6091201901435852\n",
      "0.1689448356628418 > 0.5520542860031128????\n",
      "Checkpoint is not in top 5 :'(\n"
     ]
    },
    {
     "name": "stderr",
     "output_type": "stream",
     "text": [
      "\n"
     ]
    },
    {
     "name": "stdout",
     "output_type": "stream",
     "text": [
      "Testing set:...Recall: 90.27 ,...Car Recall: 62.665409088134766 ,...Dice score: 0.09726208448410034 ,...Tversky loss: 0.29106849431991577,...Cross_entropy: 0.14798133075237274\n",
      "Training set:...Recall: 85.25 ,...Car Recall: 53.90058135986328 ,...Dice score: 0.1832418441772461 ,...Tversky loss: 0.34888777136802673,...Cross_entropy: 0.19578096270561218\n",
      "Traing epoch: 102.............................\n"
     ]
    },
    {
     "name": "stderr",
     "output_type": "stream",
     "text": [
      "100%|██████████| 24/24 [00:30<00:00,  1.27s/it, loss=0.867]"
     ]
    },
    {
     "name": "stdout",
     "output_type": "stream",
     "text": [
      "Total Loss: 0.8669314980506897...Tversky loss: 0.5234881639480591... Cross Entropy: 0.3434433341026306\n",
      "0.1689448356628418 > 0.5234881639480591????\n",
      "Checkpoint is not in top 5 :'(\n"
     ]
    },
    {
     "name": "stderr",
     "output_type": "stream",
     "text": [
      "\n"
     ]
    },
    {
     "name": "stdout",
     "output_type": "stream",
     "text": [
      "Testing set:...Recall: 89.73 ,...Car Recall: 72.74996948242188 ,...Dice score: 0.10266673564910889 ,...Tversky loss: 0.28257808089256287,...Cross_entropy: 0.12588481605052948\n",
      "Training set:...Recall: 84.45 ,...Car Recall: 60.8029899597168 ,...Dice score: 0.19446253776550293 ,...Tversky loss: 0.3547954559326172,...Cross_entropy: 0.17618906497955322\n",
      "Traing epoch: 103.............................\n"
     ]
    },
    {
     "name": "stderr",
     "output_type": "stream",
     "text": [
      "100%|██████████| 24/24 [00:30<00:00,  1.26s/it, loss=0.795]"
     ]
    },
    {
     "name": "stdout",
     "output_type": "stream",
     "text": [
      "Total Loss: 0.7949771881103516...Tversky loss: 0.44244134426116943... Cross Entropy: 0.3525358736515045\n",
      "0.1689448356628418 > 0.44244134426116943????\n",
      "Checkpoint is not in top 5 :'(\n"
     ]
    },
    {
     "name": "stderr",
     "output_type": "stream",
     "text": [
      "\n"
     ]
    },
    {
     "name": "stdout",
     "output_type": "stream",
     "text": [
      "Testing set:...Recall: 90.96 ,...Car Recall: 71.76592254638672 ,...Dice score: 0.09040623903274536 ,...Tversky loss: 0.27060389518737793,...Cross_entropy: 0.11538179963827133\n",
      "Training set:...Recall: 87.78 ,...Car Recall: 67.61541748046875 ,...Dice score: 0.16484051942825317 ,...Tversky loss: 0.32771730422973633,...Cross_entropy: 0.13437561690807343\n",
      "Traing epoch: 104.............................\n"
     ]
    },
    {
     "name": "stderr",
     "output_type": "stream",
     "text": [
      "100%|██████████| 24/24 [00:30<00:00,  1.26s/it, loss=1.51]"
     ]
    },
    {
     "name": "stdout",
     "output_type": "stream",
     "text": [
      "Total Loss: 1.5106260776519775...Tversky loss: 0.5950077772140503... Cross Entropy: 0.915618360042572\n",
      "0.1689448356628418 > 0.5950077772140503????\n",
      "Checkpoint is not in top 5 :'(\n"
     ]
    },
    {
     "name": "stderr",
     "output_type": "stream",
     "text": [
      "\n"
     ]
    },
    {
     "name": "stdout",
     "output_type": "stream",
     "text": [
      "Testing set:...Recall: 88.56 ,...Car Recall: 65.65801239013672 ,...Dice score: 0.1143789291381836 ,...Tversky loss: 0.31101638078689575,...Cross_entropy: 0.16050751507282257\n",
      "Training set:...Recall: 83.54 ,...Car Recall: 61.637149810791016 ,...Dice score: 0.2006446123123169 ,...Tversky loss: 0.3465366065502167,...Cross_entropy: 0.18759268522262573\n",
      "Traing epoch: 105.............................\n"
     ]
    },
    {
     "name": "stderr",
     "output_type": "stream",
     "text": [
      "100%|██████████| 24/24 [00:30<00:00,  1.26s/it, loss=0.313]"
     ]
    },
    {
     "name": "stdout",
     "output_type": "stream",
     "text": [
      "Total Loss: 0.31278589367866516...Tversky loss: 0.2690203785896301... Cross Entropy: 0.043765511363744736\n",
      "0.1689448356628418 > 0.2690203785896301????\n",
      "Checkpoint is not in top 5 :'(\n"
     ]
    },
    {
     "name": "stderr",
     "output_type": "stream",
     "text": [
      "\n"
     ]
    },
    {
     "name": "stdout",
     "output_type": "stream",
     "text": [
      "Testing set:...Recall: 90.21 ,...Car Recall: 59.19195556640625 ,...Dice score: 0.0979498028755188 ,...Tversky loss: 0.30370280146598816,...Cross_entropy: 0.1474825143814087\n",
      "Training set:...Recall: 84.97 ,...Car Recall: 50.87470245361328 ,...Dice score: 0.18470335006713867 ,...Tversky loss: 0.3703153729438782,...Cross_entropy: 0.20345096290111542\n",
      "Traing epoch: 106.............................\n"
     ]
    },
    {
     "name": "stderr",
     "output_type": "stream",
     "text": [
      "100%|██████████| 24/24 [00:30<00:00,  1.27s/it, loss=0.161]\n"
     ]
    },
    {
     "name": "stdout",
     "output_type": "stream",
     "text": [
      "Total Loss: 0.16099131107330322...Tversky loss: 0.12856197357177734... Cross Entropy: 0.03242933005094528\n",
      "0.1689448356628418 > 0.12856197357177734????\n",
      "=> Saving checkpoint\n",
      "Testing set:...Recall: 89.58 ,...Car Recall: 66.08893585205078 ,...Dice score: 0.10421186685562134 ,...Tversky loss: 0.2963167130947113,...Cross_entropy: 0.13041618466377258\n",
      "Training set:...Recall: 86.55 ,...Car Recall: 63.569374084472656 ,...Dice score: 0.1771172285079956 ,...Tversky loss: 0.3317645788192749,...Cross_entropy: 0.1692306101322174\n",
      "Traing epoch: 107.............................\n"
     ]
    },
    {
     "name": "stderr",
     "output_type": "stream",
     "text": [
      "100%|██████████| 24/24 [00:30<00:00,  1.26s/it, loss=0.729]"
     ]
    },
    {
     "name": "stdout",
     "output_type": "stream",
     "text": [
      "Total Loss: 0.7294656038284302...Tversky loss: 0.36504194140434265... Cross Entropy: 0.3644236624240875\n",
      "0.16446168720722198 > 0.36504194140434265????\n",
      "Checkpoint is not in top 5 :'(\n"
     ]
    },
    {
     "name": "stderr",
     "output_type": "stream",
     "text": [
      "\n"
     ]
    },
    {
     "name": "stdout",
     "output_type": "stream",
     "text": [
      "Testing set:...Recall: 89.55 ,...Car Recall: 62.35692596435547 ,...Dice score: 0.10446012020111084 ,...Tversky loss: 0.30222588777542114,...Cross_entropy: 0.13866887986660004\n",
      "Training set:...Recall: 88.81 ,...Car Recall: 68.2281265258789 ,...Dice score: 0.15656685829162598 ,...Tversky loss: 0.3063783645629883,...Cross_entropy: 0.13251104950904846\n",
      "Traing epoch: 108.............................\n"
     ]
    },
    {
     "name": "stderr",
     "output_type": "stream",
     "text": [
      "100%|██████████| 24/24 [00:30<00:00,  1.27s/it, loss=0.788]"
     ]
    },
    {
     "name": "stdout",
     "output_type": "stream",
     "text": [
      "Total Loss: 0.7878308296203613...Tversky loss: 0.41477513313293457... Cross Entropy: 0.37305566668510437\n",
      "0.16446168720722198 > 0.41477513313293457????\n",
      "Checkpoint is not in top 5 :'(\n"
     ]
    },
    {
     "name": "stderr",
     "output_type": "stream",
     "text": [
      "\n"
     ]
    },
    {
     "name": "stdout",
     "output_type": "stream",
     "text": [
      "Testing set:...Recall: 91.07 ,...Car Recall: 66.34434509277344 ,...Dice score: 0.08932548761367798 ,...Tversky loss: 0.27065181732177734,...Cross_entropy: 0.12633496522903442\n",
      "Training set:...Recall: 87.08 ,...Car Recall: 61.5551872253418 ,...Dice score: 0.16710853576660156 ,...Tversky loss: 0.3209209144115448,...Cross_entropy: 0.15579083561897278\n",
      "Traing epoch: 109.............................\n"
     ]
    },
    {
     "name": "stderr",
     "output_type": "stream",
     "text": [
      "100%|██████████| 24/24 [00:30<00:00,  1.27s/it, loss=0.332]"
     ]
    },
    {
     "name": "stdout",
     "output_type": "stream",
     "text": [
      "Total Loss: 0.3316742777824402...Tversky loss: 0.24776627123355865... Cross Entropy: 0.08390802145004272\n",
      "0.16446168720722198 > 0.24776627123355865????\n",
      "Checkpoint is not in top 5 :'(\n"
     ]
    },
    {
     "name": "stderr",
     "output_type": "stream",
     "text": [
      "\n"
     ]
    },
    {
     "name": "stdout",
     "output_type": "stream",
     "text": [
      "Testing set:...Recall: 90.45 ,...Car Recall: 65.85218811035156 ,...Dice score: 0.09551793336868286 ,...Tversky loss: 0.28925636410713196,...Cross_entropy: 0.1259208619594574\n",
      "Training set:...Recall: 83.47 ,...Car Recall: 55.83861541748047 ,...Dice score: 0.2046654224395752 ,...Tversky loss: 0.3680611550807953,...Cross_entropy: 0.19795142114162445\n",
      "Traing epoch: 110.............................\n"
     ]
    },
    {
     "name": "stderr",
     "output_type": "stream",
     "text": [
      "100%|██████████| 24/24 [00:30<00:00,  1.27s/it, loss=0.28]"
     ]
    },
    {
     "name": "stdout",
     "output_type": "stream",
     "text": [
      "Total Loss: 0.28046727180480957...Tversky loss: 0.25453639030456543... Cross Entropy: 0.025930875912308693\n",
      "0.16446168720722198 > 0.25453639030456543????\n",
      "Checkpoint is not in top 5 :'(\n"
     ]
    },
    {
     "name": "stderr",
     "output_type": "stream",
     "text": [
      "\n"
     ]
    },
    {
     "name": "stdout",
     "output_type": "stream",
     "text": [
      "Testing set:...Recall: 90.68 ,...Car Recall: 69.19715118408203 ,...Dice score: 0.09323364496231079 ,...Tversky loss: 0.2752523422241211,...Cross_entropy: 0.11886793375015259\n",
      "Training set:...Recall: 85.82 ,...Car Recall: 55.765445709228516 ,...Dice score: 0.177753746509552 ,...Tversky loss: 0.3555360436439514,...Cross_entropy: 0.1693538874387741\n",
      "Traing epoch: 111.............................\n"
     ]
    },
    {
     "name": "stderr",
     "output_type": "stream",
     "text": [
      "100%|██████████| 24/24 [00:30<00:00,  1.26s/it, loss=0.462]"
     ]
    },
    {
     "name": "stdout",
     "output_type": "stream",
     "text": [
      "Total Loss: 0.46161285042762756...Tversky loss: 0.3892451226711273... Cross Entropy: 0.07236772775650024\n",
      "0.16446168720722198 > 0.3892451226711273????\n",
      "Checkpoint is not in top 5 :'(\n"
     ]
    },
    {
     "name": "stderr",
     "output_type": "stream",
     "text": [
      "\n"
     ]
    },
    {
     "name": "stdout",
     "output_type": "stream",
     "text": [
      "Testing set:...Recall: 89.98 ,...Car Recall: 73.09917449951172 ,...Dice score: 0.10020655393600464 ,...Tversky loss: 0.2853308320045471,...Cross_entropy: 0.12021274864673615\n",
      "Training set:...Recall: 85.25 ,...Car Recall: 61.05452346801758 ,...Dice score: 0.19027090072631836 ,...Tversky loss: 0.3585231900215149,...Cross_entropy: 0.16735786199569702\n",
      "Traing epoch: 112.............................\n"
     ]
    },
    {
     "name": "stderr",
     "output_type": "stream",
     "text": [
      "100%|██████████| 24/24 [00:30<00:00,  1.27s/it, loss=0.469]"
     ]
    },
    {
     "name": "stdout",
     "output_type": "stream",
     "text": [
      "Total Loss: 0.46879634261131287...Tversky loss: 0.3901655972003937... Cross Entropy: 0.07863074541091919\n",
      "0.16446168720722198 > 0.3901655972003937????\n",
      "Checkpoint is not in top 5 :'(\n"
     ]
    },
    {
     "name": "stderr",
     "output_type": "stream",
     "text": [
      "\n"
     ]
    },
    {
     "name": "stdout",
     "output_type": "stream",
     "text": [
      "Testing set:...Recall: 91.13 ,...Car Recall: 71.99031829833984 ,...Dice score: 0.08869272470474243 ,...Tversky loss: 0.26680076122283936,...Cross_entropy: 0.1143723875284195\n",
      "Training set:...Recall: 86.69 ,...Car Recall: 61.66552734375 ,...Dice score: 0.17411118745803833 ,...Tversky loss: 0.33680009841918945,...Cross_entropy: 0.14982110261917114\n",
      "Traing epoch: 113.............................\n"
     ]
    },
    {
     "name": "stderr",
     "output_type": "stream",
     "text": [
      "100%|██████████| 24/24 [00:30<00:00,  1.28s/it, loss=0.313]"
     ]
    },
    {
     "name": "stdout",
     "output_type": "stream",
     "text": [
      "Total Loss: 0.3131456673145294...Tversky loss: 0.25291988253593445... Cross Entropy: 0.06022578477859497\n",
      "0.16446168720722198 > 0.25291988253593445????\n",
      "Checkpoint is not in top 5 :'(\n"
     ]
    },
    {
     "name": "stderr",
     "output_type": "stream",
     "text": [
      "\n"
     ]
    },
    {
     "name": "stdout",
     "output_type": "stream",
     "text": [
      "Testing set:...Recall: 91.65 ,...Car Recall: 68.92755889892578 ,...Dice score: 0.08353620767593384 ,...Tversky loss: 0.2643452286720276,...Cross_entropy: 0.10897140949964523\n",
      "Training set:...Recall: 86.91 ,...Car Recall: 59.57887268066406 ,...Dice score: 0.1709582805633545 ,...Tversky loss: 0.3296958804130554,...Cross_entropy: 0.1587476134300232\n",
      "Traing epoch: 114.............................\n"
     ]
    },
    {
     "name": "stderr",
     "output_type": "stream",
     "text": [
      "100%|██████████| 24/24 [00:30<00:00,  1.27s/it, loss=0.511]"
     ]
    },
    {
     "name": "stdout",
     "output_type": "stream",
     "text": [
      "Total Loss: 0.5112754702568054...Tversky loss: 0.3890153765678406... Cross Entropy: 0.12226009368896484\n",
      "0.16446168720722198 > 0.3890153765678406????\n",
      "Checkpoint is not in top 5 :'(\n"
     ]
    },
    {
     "name": "stderr",
     "output_type": "stream",
     "text": [
      "\n"
     ]
    },
    {
     "name": "stdout",
     "output_type": "stream",
     "text": [
      "Testing set:...Recall: 88.22 ,...Car Recall: 67.8210678100586 ,...Dice score: 0.11782485246658325 ,...Tversky loss: 0.30210867524147034,...Cross_entropy: 0.15529130399227142\n",
      "Training set:...Recall: 86.10 ,...Car Recall: 69.73912811279297 ,...Dice score: 0.17495596408843994 ,...Tversky loss: 0.3136088252067566,...Cross_entropy: 0.14750950038433075\n",
      "Traing epoch: 115.............................\n"
     ]
    },
    {
     "name": "stderr",
     "output_type": "stream",
     "text": [
      "100%|██████████| 24/24 [00:30<00:00,  1.27s/it, loss=0.453]"
     ]
    },
    {
     "name": "stdout",
     "output_type": "stream",
     "text": [
      "Total Loss: 0.45254161953926086...Tversky loss: 0.37771254777908325... Cross Entropy: 0.07482907921075821\n",
      "0.16446168720722198 > 0.37771254777908325????\n",
      "Checkpoint is not in top 5 :'(\n"
     ]
    },
    {
     "name": "stderr",
     "output_type": "stream",
     "text": [
      "\n"
     ]
    },
    {
     "name": "stdout",
     "output_type": "stream",
     "text": [
      "Testing set:...Recall: 88.68 ,...Car Recall: 69.60890197753906 ,...Dice score: 0.11316019296646118 ,...Tversky loss: 0.30625149607658386,...Cross_entropy: 0.12218083441257477\n",
      "Training set:...Recall: 85.61 ,...Car Recall: 65.15811920166016 ,...Dice score: 0.19079095125198364 ,...Tversky loss: 0.32743388414382935,...Cross_entropy: 0.16562891006469727\n",
      "Traing epoch: 116.............................\n"
     ]
    },
    {
     "name": "stderr",
     "output_type": "stream",
     "text": [
      "100%|██████████| 24/24 [00:30<00:00,  1.27s/it, loss=0.282]"
     ]
    },
    {
     "name": "stdout",
     "output_type": "stream",
     "text": [
      "Total Loss: 0.2820258140563965...Tversky loss: 0.19288091361522675... Cross Entropy: 0.08914488554000854\n",
      "0.16446168720722198 > 0.19288091361522675????\n",
      "Checkpoint is not in top 5 :'(\n"
     ]
    },
    {
     "name": "stderr",
     "output_type": "stream",
     "text": [
      "\n"
     ]
    },
    {
     "name": "stdout",
     "output_type": "stream",
     "text": [
      "Testing set:...Recall: 91.04 ,...Car Recall: 72.3918228149414 ,...Dice score: 0.08959656953811646 ,...Tversky loss: 0.2631262540817261,...Cross_entropy: 0.11594643443822861\n",
      "Training set:...Recall: 85.01 ,...Car Recall: 60.913490295410156 ,...Dice score: 0.18758511543273926 ,...Tversky loss: 0.33571964502334595,...Cross_entropy: 0.16835825145244598\n",
      "Traing epoch: 117.............................\n"
     ]
    },
    {
     "name": "stderr",
     "output_type": "stream",
     "text": [
      "100%|██████████| 24/24 [00:30<00:00,  1.27s/it, loss=0.977]"
     ]
    },
    {
     "name": "stdout",
     "output_type": "stream",
     "text": [
      "Total Loss: 0.977480411529541...Tversky loss: 0.5823225975036621... Cross Entropy: 0.3951577842235565\n",
      "0.16446168720722198 > 0.5823225975036621????\n",
      "Checkpoint is not in top 5 :'(\n"
     ]
    },
    {
     "name": "stderr",
     "output_type": "stream",
     "text": [
      "\n"
     ]
    },
    {
     "name": "stdout",
     "output_type": "stream",
     "text": [
      "Testing set:...Recall: 90.83 ,...Car Recall: 72.5457992553711 ,...Dice score: 0.0917089581489563 ,...Tversky loss: 0.26929888129234314,...Cross_entropy: 0.113974429666996\n",
      "Training set:...Recall: 86.28 ,...Car Recall: 62.66303253173828 ,...Dice score: 0.1773439645767212 ,...Tversky loss: 0.33997631072998047,...Cross_entropy: 0.15644575655460358\n",
      "Traing epoch: 118.............................\n"
     ]
    },
    {
     "name": "stderr",
     "output_type": "stream",
     "text": [
      "100%|██████████| 24/24 [00:30<00:00,  1.27s/it, loss=1.39]"
     ]
    },
    {
     "name": "stdout",
     "output_type": "stream",
     "text": [
      "Total Loss: 1.3926305770874023...Tversky loss: 0.5884280204772949... Cross Entropy: 0.8042024970054626\n",
      "0.16446168720722198 > 0.5884280204772949????\n",
      "Checkpoint is not in top 5 :'(\n"
     ]
    },
    {
     "name": "stderr",
     "output_type": "stream",
     "text": [
      "\n"
     ]
    },
    {
     "name": "stdout",
     "output_type": "stream",
     "text": [
      "Testing set:...Recall: 90.31 ,...Car Recall: 72.037353515625 ,...Dice score: 0.0968698263168335 ,...Tversky loss: 0.2725638151168823,...Cross_entropy: 0.11932774633169174\n",
      "Training set:...Recall: 82.73 ,...Car Recall: 50.990821838378906 ,...Dice score: 0.20507675409317017 ,...Tversky loss: 0.3843545615673065,...Cross_entropy: 0.2094384878873825\n",
      "Traing epoch: 119.............................\n"
     ]
    },
    {
     "name": "stderr",
     "output_type": "stream",
     "text": [
      "100%|██████████| 24/24 [00:30<00:00,  1.27s/it, loss=0.751]"
     ]
    },
    {
     "name": "stdout",
     "output_type": "stream",
     "text": [
      "Total Loss: 0.7509450912475586...Tversky loss: 0.39876341819763184... Cross Entropy: 0.35218164324760437\n",
      "0.16446168720722198 > 0.39876341819763184????\n",
      "Checkpoint is not in top 5 :'(\n"
     ]
    },
    {
     "name": "stderr",
     "output_type": "stream",
     "text": [
      "\n"
     ]
    },
    {
     "name": "stdout",
     "output_type": "stream",
     "text": [
      "Testing set:...Recall: 89.95 ,...Car Recall: 70.38195037841797 ,...Dice score: 0.1004989743232727 ,...Tversky loss: 0.28078314661979675,...Cross_entropy: 0.12709002196788788\n",
      "Training set:...Recall: 88.32 ,...Car Recall: 69.37489318847656 ,...Dice score: 0.15163111686706543 ,...Tversky loss: 0.32158827781677246,...Cross_entropy: 0.1263081431388855\n",
      "Traing epoch: 120.............................\n"
     ]
    },
    {
     "name": "stderr",
     "output_type": "stream",
     "text": [
      "100%|██████████| 24/24 [00:30<00:00,  1.28s/it, loss=0.329]"
     ]
    },
    {
     "name": "stdout",
     "output_type": "stream",
     "text": [
      "Total Loss: 0.3286941945552826...Tversky loss: 0.2577506899833679... Cross Entropy: 0.07094350457191467\n",
      "0.16446168720722198 > 0.2577506899833679????\n",
      "Checkpoint is not in top 5 :'(\n"
     ]
    },
    {
     "name": "stderr",
     "output_type": "stream",
     "text": [
      "\n"
     ]
    },
    {
     "name": "stdout",
     "output_type": "stream",
     "text": [
      "Testing set:...Recall: 90.26 ,...Car Recall: 67.51731872558594 ,...Dice score: 0.09743040800094604 ,...Tversky loss: 0.2928647994995117,...Cross_entropy: 0.1266930103302002\n",
      "Training set:...Recall: 85.88 ,...Car Recall: 59.44786834716797 ,...Dice score: 0.17673850059509277 ,...Tversky loss: 0.3409578502178192,...Cross_entropy: 0.16659027338027954\n",
      "Traing epoch: 121.............................\n"
     ]
    },
    {
     "name": "stderr",
     "output_type": "stream",
     "text": [
      "100%|██████████| 24/24 [00:30<00:00,  1.27s/it, loss=0.385]"
     ]
    },
    {
     "name": "stdout",
     "output_type": "stream",
     "text": [
      "Total Loss: 0.3847469091415405...Tversky loss: 0.33565250039100647... Cross Entropy: 0.049094416201114655\n",
      "0.16446168720722198 > 0.33565250039100647????\n",
      "Checkpoint is not in top 5 :'(\n"
     ]
    },
    {
     "name": "stderr",
     "output_type": "stream",
     "text": [
      "\n"
     ]
    },
    {
     "name": "stdout",
     "output_type": "stream",
     "text": [
      "Testing set:...Recall: 90.88 ,...Car Recall: 68.92913818359375 ,...Dice score: 0.09119564294815063 ,...Tversky loss: 0.2677144706249237,...Cross_entropy: 0.1172247901558876\n",
      "Training set:...Recall: 86.13 ,...Car Recall: 58.617835998535156 ,...Dice score: 0.1670437455177307 ,...Tversky loss: 0.3310900032520294,...Cross_entropy: 0.17555515468120575\n",
      "Traing epoch: 122.............................\n"
     ]
    },
    {
     "name": "stderr",
     "output_type": "stream",
     "text": [
      "100%|██████████| 24/24 [00:30<00:00,  1.27s/it, loss=0.15]\n"
     ]
    },
    {
     "name": "stdout",
     "output_type": "stream",
     "text": [
      "Total Loss: 0.15027762949466705...Tversky loss: 0.12269128859043121... Cross Entropy: 0.027586346492171288\n",
      "0.16446168720722198 > 0.12269128859043121????\n",
      "=> Saving checkpoint\n",
      "Testing set:...Recall: 90.17 ,...Car Recall: 67.72069549560547 ,...Dice score: 0.09825235605239868 ,...Tversky loss: 0.2894214689731598,...Cross_entropy: 0.13108402490615845\n",
      "Training set:...Recall: 86.92 ,...Car Recall: 63.421607971191406 ,...Dice score: 0.16885483264923096 ,...Tversky loss: 0.32572880387306213,...Cross_entropy: 0.14256426692008972\n",
      "Traing epoch: 123.............................\n"
     ]
    },
    {
     "name": "stderr",
     "output_type": "stream",
     "text": [
      "100%|██████████| 24/24 [00:30<00:00,  1.27s/it, loss=0.292]"
     ]
    },
    {
     "name": "stdout",
     "output_type": "stream",
     "text": [
      "Total Loss: 0.2922407388687134...Tversky loss: 0.20242109894752502... Cross Entropy: 0.08981963247060776\n",
      "0.15818631649017334 > 0.20242109894752502????\n",
      "Checkpoint is not in top 5 :'(\n"
     ]
    },
    {
     "name": "stderr",
     "output_type": "stream",
     "text": [
      "\n"
     ]
    },
    {
     "name": "stdout",
     "output_type": "stream",
     "text": [
      "Testing set:...Recall: 90.65 ,...Car Recall: 70.91667175292969 ,...Dice score: 0.09346359968185425 ,...Tversky loss: 0.274723619222641,...Cross_entropy: 0.11628951132297516\n",
      "Training set:...Recall: 87.65 ,...Car Recall: 64.87995910644531 ,...Dice score: 0.16639423370361328 ,...Tversky loss: 0.31260013580322266,...Cross_entropy: 0.14412200450897217\n",
      "Traing epoch: 124.............................\n"
     ]
    },
    {
     "name": "stderr",
     "output_type": "stream",
     "text": [
      "100%|██████████| 24/24 [00:30<00:00,  1.28s/it, loss=0.217]"
     ]
    },
    {
     "name": "stdout",
     "output_type": "stream",
     "text": [
      "Total Loss: 0.2165144681930542...Tversky loss: 0.1803918331861496... Cross Entropy: 0.0361226350069046\n",
      "0.15818631649017334 > 0.1803918331861496????\n",
      "Checkpoint is not in top 5 :'(\n"
     ]
    },
    {
     "name": "stderr",
     "output_type": "stream",
     "text": [
      "\n"
     ]
    },
    {
     "name": "stdout",
     "output_type": "stream",
     "text": [
      "Testing set:...Recall: 91.19 ,...Car Recall: 70.38090515136719 ,...Dice score: 0.08806759119033813 ,...Tversky loss: 0.26458489894866943,...Cross_entropy: 0.11186541616916656\n",
      "Training set:...Recall: 85.76 ,...Car Recall: 62.32062530517578 ,...Dice score: 0.18478304147720337 ,...Tversky loss: 0.3314513564109802,...Cross_entropy: 0.1714496612548828\n",
      "Traing epoch: 125.............................\n"
     ]
    },
    {
     "name": "stderr",
     "output_type": "stream",
     "text": [
      "100%|██████████| 24/24 [00:30<00:00,  1.26s/it, loss=0.195]"
     ]
    },
    {
     "name": "stdout",
     "output_type": "stream",
     "text": [
      "Total Loss: 0.1952332854270935...Tversky loss: 0.16010087728500366... Cross Entropy: 0.035132404416799545\n",
      "0.15818631649017334 > 0.16010087728500366????\n",
      "Checkpoint is not in top 5 :'(\n"
     ]
    },
    {
     "name": "stderr",
     "output_type": "stream",
     "text": [
      "\n"
     ]
    },
    {
     "name": "stdout",
     "output_type": "stream",
     "text": [
      "Testing set:...Recall: 90.29 ,...Car Recall: 68.15162658691406 ,...Dice score: 0.09709060192108154 ,...Tversky loss: 0.28668591380119324,...Cross_entropy: 0.12342772632837296\n",
      "Training set:...Recall: 85.77 ,...Car Recall: 57.87147903442383 ,...Dice score: 0.18443584442138672 ,...Tversky loss: 0.3549059331417084,...Cross_entropy: 0.19021397829055786\n",
      "Traing epoch: 126.............................\n"
     ]
    },
    {
     "name": "stderr",
     "output_type": "stream",
     "text": [
      "100%|██████████| 24/24 [00:30<00:00,  1.27s/it, loss=0.315]"
     ]
    },
    {
     "name": "stdout",
     "output_type": "stream",
     "text": [
      "Total Loss: 0.3145064115524292...Tversky loss: 0.23114298284053802... Cross Entropy: 0.08336343616247177\n",
      "0.15818631649017334 > 0.23114298284053802????\n",
      "Checkpoint is not in top 5 :'(\n"
     ]
    },
    {
     "name": "stderr",
     "output_type": "stream",
     "text": [
      "\n"
     ]
    },
    {
     "name": "stdout",
     "output_type": "stream",
     "text": [
      "Testing set:...Recall: 90.95 ,...Car Recall: 63.66600799560547 ,...Dice score: 0.0904887318611145 ,...Tversky loss: 0.27170467376708984,...Cross_entropy: 0.14446969330310822\n",
      "Training set:...Recall: 86.89 ,...Car Recall: 57.467140197753906 ,...Dice score: 0.16562294960021973 ,...Tversky loss: 0.32496553659439087,...Cross_entropy: 0.16657060384750366\n",
      "Traing epoch: 127.............................\n"
     ]
    },
    {
     "name": "stderr",
     "output_type": "stream",
     "text": [
      "100%|██████████| 24/24 [00:30<00:00,  1.27s/it, loss=0.506]"
     ]
    },
    {
     "name": "stdout",
     "output_type": "stream",
     "text": [
      "Total Loss: 0.5064771175384521...Tversky loss: 0.33348414301872253... Cross Entropy: 0.17299294471740723\n",
      "0.15818631649017334 > 0.33348414301872253????\n",
      "Checkpoint is not in top 5 :'(\n"
     ]
    },
    {
     "name": "stderr",
     "output_type": "stream",
     "text": [
      "\n"
     ]
    },
    {
     "name": "stdout",
     "output_type": "stream",
     "text": [
      "Testing set:...Recall: 89.33 ,...Car Recall: 72.84770965576172 ,...Dice score: 0.10673767328262329 ,...Tversky loss: 0.2984153926372528,...Cross_entropy: 0.12450380623340607\n",
      "Training set:...Recall: 85.25 ,...Car Recall: 66.94213104248047 ,...Dice score: 0.1830430030822754 ,...Tversky loss: 0.3326904773712158,...Cross_entropy: 0.1518685668706894\n",
      "Traing epoch: 128.............................\n"
     ]
    },
    {
     "name": "stderr",
     "output_type": "stream",
     "text": [
      "100%|██████████| 24/24 [00:30<00:00,  1.27s/it, loss=0.236]"
     ]
    },
    {
     "name": "stdout",
     "output_type": "stream",
     "text": [
      "Total Loss: 0.23563732206821442...Tversky loss: 0.18725016713142395... Cross Entropy: 0.048387154936790466\n",
      "0.15818631649017334 > 0.18725016713142395????\n",
      "Checkpoint is not in top 5 :'(\n"
     ]
    },
    {
     "name": "stderr",
     "output_type": "stream",
     "text": [
      "\n"
     ]
    },
    {
     "name": "stdout",
     "output_type": "stream",
     "text": [
      "Testing set:...Recall: 91.08 ,...Car Recall: 69.28282165527344 ,...Dice score: 0.08920389413833618 ,...Tversky loss: 0.26177284121513367,...Cross_entropy: 0.12380726635456085\n",
      "Training set:...Recall: 88.12 ,...Car Recall: 63.961456298828125 ,...Dice score: 0.15850818157196045 ,...Tversky loss: 0.3273252546787262,...Cross_entropy: 0.14813226461410522\n",
      "Traing epoch: 129.............................\n"
     ]
    },
    {
     "name": "stderr",
     "output_type": "stream",
     "text": [
      "100%|██████████| 24/24 [00:30<00:00,  1.26s/it, loss=0.311]"
     ]
    },
    {
     "name": "stdout",
     "output_type": "stream",
     "text": [
      "Total Loss: 0.31115683913230896...Tversky loss: 0.26436224579811096... Cross Entropy: 0.0467945858836174\n",
      "0.15818631649017334 > 0.26436224579811096????\n",
      "Checkpoint is not in top 5 :'(\n"
     ]
    },
    {
     "name": "stderr",
     "output_type": "stream",
     "text": [
      "\n"
     ]
    },
    {
     "name": "stdout",
     "output_type": "stream",
     "text": [
      "Testing set:...Recall: 90.62 ,...Car Recall: 73.3587875366211 ,...Dice score: 0.0938461422920227 ,...Tversky loss: 0.2687530219554901,...Cross_entropy: 0.1106305718421936\n",
      "Training set:...Recall: 86.83 ,...Car Recall: 63.58977127075195 ,...Dice score: 0.16715246438980103 ,...Tversky loss: 0.31538552045822144,...Cross_entropy: 0.1486358344554901\n",
      "Traing epoch: 130.............................\n"
     ]
    },
    {
     "name": "stderr",
     "output_type": "stream",
     "text": [
      "100%|██████████| 24/24 [00:30<00:00,  1.27s/it, loss=0.327]"
     ]
    },
    {
     "name": "stdout",
     "output_type": "stream",
     "text": [
      "Total Loss: 0.32652178406715393...Tversky loss: 0.24916806817054749... Cross Entropy: 0.07735371589660645\n",
      "0.15818631649017334 > 0.24916806817054749????\n",
      "Checkpoint is not in top 5 :'(\n"
     ]
    },
    {
     "name": "stderr",
     "output_type": "stream",
     "text": [
      "\n"
     ]
    },
    {
     "name": "stdout",
     "output_type": "stream",
     "text": [
      "Testing set:...Recall: 91.10 ,...Car Recall: 64.54967498779297 ,...Dice score: 0.08898866176605225 ,...Tversky loss: 0.2740757167339325,...Cross_entropy: 0.1248442754149437\n",
      "Training set:...Recall: 85.80 ,...Car Recall: 57.428138732910156 ,...Dice score: 0.18085581064224243 ,...Tversky loss: 0.3412160277366638,...Cross_entropy: 0.1702543944120407\n",
      "Traing epoch: 131.............................\n"
     ]
    },
    {
     "name": "stderr",
     "output_type": "stream",
     "text": [
      "100%|██████████| 24/24 [00:30<00:00,  1.26s/it, loss=1.55]"
     ]
    },
    {
     "name": "stdout",
     "output_type": "stream",
     "text": [
      "Total Loss: 1.551482081413269...Tversky loss: 0.5925486087799072... Cross Entropy: 0.9589334726333618\n",
      "0.15818631649017334 > 0.5925486087799072????\n",
      "Checkpoint is not in top 5 :'(\n"
     ]
    },
    {
     "name": "stderr",
     "output_type": "stream",
     "text": [
      "\n"
     ]
    },
    {
     "name": "stdout",
     "output_type": "stream",
     "text": [
      "Testing set:...Recall: 88.62 ,...Car Recall: 74.03119659423828 ,...Dice score: 0.1137811541557312 ,...Tversky loss: 0.2952718436717987,...Cross_entropy: 0.13152901828289032\n",
      "Training set:...Recall: 87.18 ,...Car Recall: 70.5083236694336 ,...Dice score: 0.1643694043159485 ,...Tversky loss: 0.31586986780166626,...Cross_entropy: 0.13129442930221558\n",
      "Traing epoch: 132.............................\n"
     ]
    },
    {
     "name": "stderr",
     "output_type": "stream",
     "text": [
      "100%|██████████| 24/24 [00:30<00:00,  1.27s/it, loss=0.996]"
     ]
    },
    {
     "name": "stdout",
     "output_type": "stream",
     "text": [
      "Total Loss: 0.9955569505691528...Tversky loss: 0.5646001100540161... Cross Entropy: 0.43095681071281433\n",
      "0.15818631649017334 > 0.5646001100540161????\n",
      "Checkpoint is not in top 5 :'(\n"
     ]
    },
    {
     "name": "stderr",
     "output_type": "stream",
     "text": [
      "\n"
     ]
    },
    {
     "name": "stdout",
     "output_type": "stream",
     "text": [
      "Testing set:...Recall: 91.27 ,...Car Recall: 69.4223403930664 ,...Dice score: 0.08727818727493286 ,...Tversky loss: 0.26485976576805115,...Cross_entropy: 0.11783140152692795\n",
      "Training set:...Recall: 86.81 ,...Car Recall: 61.365509033203125 ,...Dice score: 0.17370367050170898 ,...Tversky loss: 0.3201863467693329,...Cross_entropy: 0.1509193480014801\n",
      "Traing epoch: 133.............................\n"
     ]
    },
    {
     "name": "stderr",
     "output_type": "stream",
     "text": [
      "100%|██████████| 24/24 [00:30<00:00,  1.27s/it, loss=0.372]"
     ]
    },
    {
     "name": "stdout",
     "output_type": "stream",
     "text": [
      "Total Loss: 0.3723105788230896...Tversky loss: 0.26638349890708923... Cross Entropy: 0.10592708736658096\n",
      "0.15818631649017334 > 0.26638349890708923????\n",
      "Checkpoint is not in top 5 :'(\n"
     ]
    },
    {
     "name": "stderr",
     "output_type": "stream",
     "text": [
      "\n"
     ]
    },
    {
     "name": "stdout",
     "output_type": "stream",
     "text": [
      "Testing set:...Recall: 90.76 ,...Car Recall: 68.86213684082031 ,...Dice score: 0.09236449003219604 ,...Tversky loss: 0.273576021194458,...Cross_entropy: 0.124761663377285\n",
      "Training set:...Recall: 87.15 ,...Car Recall: 63.32503128051758 ,...Dice score: 0.17103272676467896 ,...Tversky loss: 0.32215338945388794,...Cross_entropy: 0.15462717413902283\n",
      "Traing epoch: 134.............................\n"
     ]
    },
    {
     "name": "stderr",
     "output_type": "stream",
     "text": [
      "100%|██████████| 24/24 [00:30<00:00,  1.28s/it, loss=0.242]"
     ]
    },
    {
     "name": "stdout",
     "output_type": "stream",
     "text": [
      "Total Loss: 0.24211785197257996...Tversky loss: 0.18573786318302155... Cross Entropy: 0.056379981338977814\n",
      "0.15818631649017334 > 0.18573786318302155????\n",
      "Checkpoint is not in top 5 :'(\n"
     ]
    },
    {
     "name": "stderr",
     "output_type": "stream",
     "text": [
      "\n"
     ]
    },
    {
     "name": "stdout",
     "output_type": "stream",
     "text": [
      "Testing set:...Recall: 90.50 ,...Car Recall: 69.8876953125 ,...Dice score: 0.09500628709793091 ,...Tversky loss: 0.2715288996696472,...Cross_entropy: 0.1245744377374649\n",
      "Training set:...Recall: 87.64 ,...Car Recall: 67.73689270019531 ,...Dice score: 0.16451871395111084 ,...Tversky loss: 0.30708420276641846,...Cross_entropy: 0.1528320461511612\n",
      "Traing epoch: 135.............................\n"
     ]
    },
    {
     "name": "stderr",
     "output_type": "stream",
     "text": [
      "100%|██████████| 24/24 [00:30<00:00,  1.27s/it, loss=0.606]"
     ]
    },
    {
     "name": "stdout",
     "output_type": "stream",
     "text": [
      "Total Loss: 0.605807900428772...Tversky loss: 0.3523249626159668... Cross Entropy: 0.2534829378128052\n",
      "0.15818631649017334 > 0.3523249626159668????\n",
      "Checkpoint is not in top 5 :'(\n"
     ]
    },
    {
     "name": "stderr",
     "output_type": "stream",
     "text": [
      "\n"
     ]
    },
    {
     "name": "stdout",
     "output_type": "stream",
     "text": [
      "Testing set:...Recall: 89.97 ,...Car Recall: 71.916748046875 ,...Dice score: 0.1003108024597168 ,...Tversky loss: 0.28413066267967224,...Cross_entropy: 0.12448848783969879\n",
      "Training set:...Recall: 85.06 ,...Car Recall: 62.17769241333008 ,...Dice score: 0.18350017070770264 ,...Tversky loss: 0.33468231558799744,...Cross_entropy: 0.16879722476005554\n",
      "Traing epoch: 136.............................\n"
     ]
    },
    {
     "name": "stderr",
     "output_type": "stream",
     "text": [
      "100%|██████████| 24/24 [00:30<00:00,  1.26s/it, loss=0.314]"
     ]
    },
    {
     "name": "stdout",
     "output_type": "stream",
     "text": [
      "Total Loss: 0.3142206072807312...Tversky loss: 0.24668559432029724... Cross Entropy: 0.06753500550985336\n",
      "0.15818631649017334 > 0.24668559432029724????\n",
      "Checkpoint is not in top 5 :'(\n"
     ]
    },
    {
     "name": "stderr",
     "output_type": "stream",
     "text": [
      "\n"
     ]
    },
    {
     "name": "stdout",
     "output_type": "stream",
     "text": [
      "Testing set:...Recall: 89.86 ,...Car Recall: 67.8210678100586 ,...Dice score: 0.101421058177948 ,...Tversky loss: 0.28890249133110046,...Cross_entropy: 0.13398556411266327\n",
      "Training set:...Recall: 86.25 ,...Car Recall: 60.5421142578125 ,...Dice score: 0.17908936738967896 ,...Tversky loss: 0.3344551920890808,...Cross_entropy: 0.16317422688007355\n",
      "Traing epoch: 137.............................\n"
     ]
    },
    {
     "name": "stderr",
     "output_type": "stream",
     "text": [
      "100%|██████████| 24/24 [00:30<00:00,  1.26s/it, loss=0.752]"
     ]
    },
    {
     "name": "stdout",
     "output_type": "stream",
     "text": [
      "Total Loss: 0.7517127990722656...Tversky loss: 0.43729928135871887... Cross Entropy: 0.31441351771354675\n",
      "0.15818631649017334 > 0.43729928135871887????\n",
      "Checkpoint is not in top 5 :'(\n"
     ]
    },
    {
     "name": "stderr",
     "output_type": "stream",
     "text": [
      "\n"
     ]
    },
    {
     "name": "stdout",
     "output_type": "stream",
     "text": [
      "Testing set:...Recall: 91.25 ,...Car Recall: 69.82962799072266 ,...Dice score: 0.08746391534805298 ,...Tversky loss: 0.2553141713142395,...Cross_entropy: 0.12094762176275253\n",
      "Training set:...Recall: 86.28 ,...Car Recall: 57.960540771484375 ,...Dice score: 0.17243421077728271 ,...Tversky loss: 0.32225674390792847,...Cross_entropy: 0.1822907030582428\n",
      "Traing epoch: 138.............................\n"
     ]
    },
    {
     "name": "stderr",
     "output_type": "stream",
     "text": [
      "100%|██████████| 24/24 [00:30<00:00,  1.26s/it, loss=0.476]"
     ]
    },
    {
     "name": "stdout",
     "output_type": "stream",
     "text": [
      "Total Loss: 0.47573643922805786...Tversky loss: 0.35403579473495483... Cross Entropy: 0.12170064449310303\n",
      "0.15818631649017334 > 0.35403579473495483????\n",
      "Checkpoint is not in top 5 :'(\n"
     ]
    },
    {
     "name": "stderr",
     "output_type": "stream",
     "text": [
      "\n"
     ]
    },
    {
     "name": "stdout",
     "output_type": "stream",
     "text": [
      "Testing set:...Recall: 90.78 ,...Car Recall: 68.6251220703125 ,...Dice score: 0.09215694665908813 ,...Tversky loss: 0.2670993506908417,...Cross_entropy: 0.12559151649475098\n",
      "Training set:...Recall: 85.27 ,...Car Recall: 58.25069046020508 ,...Dice score: 0.1838870644569397 ,...Tversky loss: 0.35937127470970154,...Cross_entropy: 0.17842642962932587\n",
      "Traing epoch: 139.............................\n"
     ]
    },
    {
     "name": "stderr",
     "output_type": "stream",
     "text": [
      "100%|██████████| 24/24 [00:30<00:00,  1.27s/it, loss=0.796]"
     ]
    },
    {
     "name": "stdout",
     "output_type": "stream",
     "text": [
      "Total Loss: 0.7955464124679565...Tversky loss: 0.39454516768455505... Cross Entropy: 0.4010012149810791\n",
      "0.15818631649017334 > 0.39454516768455505????\n",
      "Checkpoint is not in top 5 :'(\n"
     ]
    },
    {
     "name": "stderr",
     "output_type": "stream",
     "text": [
      "\n"
     ]
    },
    {
     "name": "stdout",
     "output_type": "stream",
     "text": [
      "Testing set:...Recall: 90.81 ,...Car Recall: 64.08380126953125 ,...Dice score: 0.09193521738052368 ,...Tversky loss: 0.2758399248123169,...Cross_entropy: 0.14248453080654144\n",
      "Training set:...Recall: 87.19 ,...Car Recall: 58.884864807128906 ,...Dice score: 0.1645277738571167 ,...Tversky loss: 0.33072635531425476,...Cross_entropy: 0.17413347959518433\n",
      "Traing epoch: 140.............................\n"
     ]
    },
    {
     "name": "stderr",
     "output_type": "stream",
     "text": [
      "100%|██████████| 24/24 [00:30<00:00,  1.28s/it, loss=0.759]"
     ]
    },
    {
     "name": "stdout",
     "output_type": "stream",
     "text": [
      "Total Loss: 0.7591651678085327...Tversky loss: 0.5135453939437866... Cross Entropy: 0.24561980366706848\n",
      "0.15818631649017334 > 0.5135453939437866????\n",
      "Checkpoint is not in top 5 :'(\n"
     ]
    },
    {
     "name": "stderr",
     "output_type": "stream",
     "text": [
      "\n"
     ]
    },
    {
     "name": "stdout",
     "output_type": "stream",
     "text": [
      "Testing set:...Recall: 89.14 ,...Car Recall: 71.57068634033203 ,...Dice score: 0.10857188701629639 ,...Tversky loss: 0.2891615331172943,...Cross_entropy: 0.1331559717655182\n",
      "Training set:...Recall: 84.97 ,...Car Recall: 64.94910430908203 ,...Dice score: 0.18425774574279785 ,...Tversky loss: 0.334619402885437,...Cross_entropy: 0.16320757567882538\n",
      "Traing epoch: 141.............................\n"
     ]
    },
    {
     "name": "stderr",
     "output_type": "stream",
     "text": [
      "100%|██████████| 24/24 [00:30<00:00,  1.27s/it, loss=0.721]"
     ]
    },
    {
     "name": "stdout",
     "output_type": "stream",
     "text": [
      "Total Loss: 0.7213822603225708...Tversky loss: 0.49951931834220886... Cross Entropy: 0.22186294198036194\n",
      "0.15818631649017334 > 0.49951931834220886????\n",
      "Checkpoint is not in top 5 :'(\n"
     ]
    },
    {
     "name": "stderr",
     "output_type": "stream",
     "text": [
      "\n"
     ]
    },
    {
     "name": "stdout",
     "output_type": "stream",
     "text": [
      "Testing set:...Recall: 90.50 ,...Car Recall: 66.45864868164062 ,...Dice score: 0.09495437145233154 ,...Tversky loss: 0.27723976969718933,...Cross_entropy: 0.13533054292201996\n",
      "Training set:...Recall: 86.39 ,...Car Recall: 61.35076141357422 ,...Dice score: 0.17279982566833496 ,...Tversky loss: 0.31964316964149475,...Cross_entropy: 0.16907553374767303\n",
      "Traing epoch: 142.............................\n"
     ]
    },
    {
     "name": "stderr",
     "output_type": "stream",
     "text": [
      "100%|██████████| 24/24 [00:30<00:00,  1.27s/it, loss=0.221]"
     ]
    },
    {
     "name": "stdout",
     "output_type": "stream",
     "text": [
      "Total Loss: 0.22115829586982727...Tversky loss: 0.16476893424987793... Cross Entropy: 0.05638935789465904\n",
      "0.15818631649017334 > 0.16476893424987793????\n",
      "Checkpoint is not in top 5 :'(\n"
     ]
    },
    {
     "name": "stderr",
     "output_type": "stream",
     "text": [
      "\n"
     ]
    },
    {
     "name": "stdout",
     "output_type": "stream",
     "text": [
      "Testing set:...Recall: 89.83 ,...Car Recall: 60.889137268066406 ,...Dice score: 0.1016845703125 ,...Tversky loss: 0.30083975195884705,...Cross_entropy: 0.15161608159542084\n",
      "Training set:...Recall: 87.75 ,...Car Recall: 64.3100357055664 ,...Dice score: 0.1590767502784729 ,...Tversky loss: 0.29608291387557983,...Cross_entropy: 0.14920766651630402\n",
      "Traing epoch: 143.............................\n"
     ]
    },
    {
     "name": "stderr",
     "output_type": "stream",
     "text": [
      "100%|██████████| 24/24 [00:30<00:00,  1.26s/it, loss=0.225]"
     ]
    },
    {
     "name": "stdout",
     "output_type": "stream",
     "text": [
      "Total Loss: 0.22466424107551575...Tversky loss: 0.17343783378601074... Cross Entropy: 0.051226403564214706\n",
      "0.15818631649017334 > 0.17343783378601074????\n",
      "Checkpoint is not in top 5 :'(\n"
     ]
    },
    {
     "name": "stderr",
     "output_type": "stream",
     "text": [
      "\n"
     ]
    },
    {
     "name": "stdout",
     "output_type": "stream",
     "text": [
      "Testing set:...Recall: 90.91 ,...Car Recall: 71.27954864501953 ,...Dice score: 0.09091949462890625 ,...Tversky loss: 0.26247087121009827,...Cross_entropy: 0.115555539727211\n",
      "Training set:...Recall: 86.38 ,...Car Recall: 59.0535888671875 ,...Dice score: 0.17773962020874023 ,...Tversky loss: 0.3350523114204407,...Cross_entropy: 0.1870535910129547\n",
      "Traing epoch: 144.............................\n"
     ]
    },
    {
     "name": "stderr",
     "output_type": "stream",
     "text": [
      "100%|██████████| 24/24 [00:30<00:00,  1.27s/it, loss=0.303]"
     ]
    },
    {
     "name": "stdout",
     "output_type": "stream",
     "text": [
      "Total Loss: 0.303223580121994...Tversky loss: 0.21370722353458405... Cross Entropy: 0.08951635658740997\n",
      "0.15818631649017334 > 0.21370722353458405????\n",
      "Checkpoint is not in top 5 :'(\n"
     ]
    },
    {
     "name": "stderr",
     "output_type": "stream",
     "text": [
      "\n"
     ]
    },
    {
     "name": "stdout",
     "output_type": "stream",
     "text": [
      "Testing set:...Recall: 91.17 ,...Car Recall: 70.75349426269531 ,...Dice score: 0.0883132815361023 ,...Tversky loss: 0.2670595049858093,...Cross_entropy: 0.11435580253601074\n",
      "Training set:...Recall: 84.24 ,...Car Recall: 56.60460662841797 ,...Dice score: 0.1993424892425537 ,...Tversky loss: 0.3558957278728485,...Cross_entropy: 0.18697021901607513\n",
      "Traing epoch: 145.............................\n"
     ]
    },
    {
     "name": "stderr",
     "output_type": "stream",
     "text": [
      "100%|██████████| 24/24 [00:30<00:00,  1.27s/it, loss=0.296]"
     ]
    },
    {
     "name": "stdout",
     "output_type": "stream",
     "text": [
      "Total Loss: 0.29592975974082947...Tversky loss: 0.2522009015083313... Cross Entropy: 0.04372885450720787\n",
      "0.15818631649017334 > 0.2522009015083313????\n",
      "Checkpoint is not in top 5 :'(\n"
     ]
    },
    {
     "name": "stderr",
     "output_type": "stream",
     "text": [
      "\n"
     ]
    },
    {
     "name": "stdout",
     "output_type": "stream",
     "text": [
      "Testing set:...Recall: 90.75 ,...Car Recall: 69.04737854003906 ,...Dice score: 0.09247022867202759 ,...Tversky loss: 0.26885321736335754,...Cross_entropy: 0.12504805624485016\n",
      "Training set:...Recall: 88.86 ,...Car Recall: 69.930419921875 ,...Dice score: 0.16351449489593506 ,...Tversky loss: 0.3044273853302002,...Cross_entropy: 0.14006470143795013\n",
      "Traing epoch: 146.............................\n"
     ]
    },
    {
     "name": "stderr",
     "output_type": "stream",
     "text": [
      "100%|██████████| 24/24 [00:30<00:00,  1.27s/it, loss=0.833]"
     ]
    },
    {
     "name": "stdout",
     "output_type": "stream",
     "text": [
      "Total Loss: 0.8332558870315552...Tversky loss: 0.571221649646759... Cross Entropy: 0.26203426718711853\n",
      "0.15818631649017334 > 0.571221649646759????\n",
      "Checkpoint is not in top 5 :'(\n"
     ]
    },
    {
     "name": "stderr",
     "output_type": "stream",
     "text": [
      "\n"
     ]
    },
    {
     "name": "stdout",
     "output_type": "stream",
     "text": [
      "Testing set:...Recall: 90.49 ,...Car Recall: 69.54084777832031 ,...Dice score: 0.09513908624649048 ,...Tversky loss: 0.27255532145500183,...Cross_entropy: 0.12696221470832825\n",
      "Training set:...Recall: 87.00 ,...Car Recall: 66.586669921875 ,...Dice score: 0.17539221048355103 ,...Tversky loss: 0.31628796458244324,...Cross_entropy: 0.1368091106414795\n",
      "Traing epoch: 147.............................\n"
     ]
    },
    {
     "name": "stderr",
     "output_type": "stream",
     "text": [
      "100%|██████████| 24/24 [00:30<00:00,  1.28s/it, loss=1.37]"
     ]
    },
    {
     "name": "stdout",
     "output_type": "stream",
     "text": [
      "Total Loss: 1.3713364601135254...Tversky loss: 0.5410627722740173... Cross Entropy: 0.8302736282348633\n",
      "0.15818631649017334 > 0.5410627722740173????\n",
      "Checkpoint is not in top 5 :'(\n"
     ]
    },
    {
     "name": "stderr",
     "output_type": "stream",
     "text": [
      "\n"
     ]
    },
    {
     "name": "stdout",
     "output_type": "stream",
     "text": [
      "Testing set:...Recall: 90.80 ,...Car Recall: 72.7197494506836 ,...Dice score: 0.0919540524482727 ,...Tversky loss: 0.2598164677619934,...Cross_entropy: 0.11975312232971191\n",
      "Training set:...Recall: 86.49 ,...Car Recall: 67.54613494873047 ,...Dice score: 0.17619860172271729 ,...Tversky loss: 0.32546278834342957,...Cross_entropy: 0.14788159728050232\n",
      "Traing epoch: 148.............................\n"
     ]
    },
    {
     "name": "stderr",
     "output_type": "stream",
     "text": [
      "100%|██████████| 24/24 [00:30<00:00,  1.26s/it, loss=0.503]"
     ]
    },
    {
     "name": "stdout",
     "output_type": "stream",
     "text": [
      "Total Loss: 0.5027400851249695...Tversky loss: 0.4166213870048523... Cross Entropy: 0.08611869812011719\n",
      "0.15818631649017334 > 0.4166213870048523????\n",
      "Checkpoint is not in top 5 :'(\n"
     ]
    },
    {
     "name": "stderr",
     "output_type": "stream",
     "text": [
      "\n"
     ]
    },
    {
     "name": "stdout",
     "output_type": "stream",
     "text": [
      "Testing set:...Recall: 89.86 ,...Car Recall: 73.17353820800781 ,...Dice score: 0.10140687227249146 ,...Tversky loss: 0.2842848002910614,...Cross_entropy: 0.12387587875127792\n",
      "Training set:...Recall: 84.96 ,...Car Recall: 63.26606750488281 ,...Dice score: 0.19482719898223877 ,...Tversky loss: 0.3449041247367859,...Cross_entropy: 0.1827562302350998\n",
      "Traing epoch: 149.............................\n"
     ]
    },
    {
     "name": "stderr",
     "output_type": "stream",
     "text": [
      "100%|██████████| 24/24 [00:30<00:00,  1.27s/it, loss=0.481]"
     ]
    },
    {
     "name": "stdout",
     "output_type": "stream",
     "text": [
      "Total Loss: 0.48059481382369995...Tversky loss: 0.3401319980621338... Cross Entropy: 0.14046280086040497\n",
      "0.15818631649017334 > 0.3401319980621338????\n",
      "Checkpoint is not in top 5 :'(\n"
     ]
    },
    {
     "name": "stderr",
     "output_type": "stream",
     "text": [
      "\n"
     ]
    },
    {
     "name": "stdout",
     "output_type": "stream",
     "text": [
      "Testing set:...Recall: 91.04 ,...Car Recall: 67.72200775146484 ,...Dice score: 0.08963161706924438 ,...Tversky loss: 0.2647136151790619,...Cross_entropy: 0.13489584624767303\n",
      "Training set:...Recall: 88.47 ,...Car Recall: 64.78609466552734 ,...Dice score: 0.15817785263061523 ,...Tversky loss: 0.30953946709632874,...Cross_entropy: 0.14119607210159302\n",
      "Traing epoch: 150.............................\n"
     ]
    },
    {
     "name": "stderr",
     "output_type": "stream",
     "text": [
      "100%|██████████| 24/24 [00:30<00:00,  1.27s/it, loss=0.95]"
     ]
    },
    {
     "name": "stdout",
     "output_type": "stream",
     "text": [
      "Total Loss: 0.9503684043884277...Tversky loss: 0.5247089266777039... Cross Entropy: 0.4256594777107239\n",
      "0.15818631649017334 > 0.5247089266777039????\n",
      "Checkpoint is not in top 5 :'(\n"
     ]
    },
    {
     "name": "stderr",
     "output_type": "stream",
     "text": [
      "\n"
     ]
    },
    {
     "name": "stdout",
     "output_type": "stream",
     "text": [
      "Testing set:...Recall: 91.24 ,...Car Recall: 70.22061157226562 ,...Dice score: 0.08763730525970459 ,...Tversky loss: 0.2585873305797577,...Cross_entropy: 0.11651845276355743\n",
      "Training set:...Recall: 88.08 ,...Car Recall: 66.31298065185547 ,...Dice score: 0.15531927347183228 ,...Tversky loss: 0.30453619360923767,...Cross_entropy: 0.13264115154743195\n",
      "Traing epoch: 151.............................\n"
     ]
    },
    {
     "name": "stderr",
     "output_type": "stream",
     "text": [
      "100%|██████████| 24/24 [00:30<00:00,  1.27s/it, loss=0.894]"
     ]
    },
    {
     "name": "stdout",
     "output_type": "stream",
     "text": [
      "Total Loss: 0.8939306735992432...Tversky loss: 0.4445324242115021... Cross Entropy: 0.4493982493877411\n",
      "0.15818631649017334 > 0.4445324242115021????\n",
      "Checkpoint is not in top 5 :'(\n"
     ]
    },
    {
     "name": "stderr",
     "output_type": "stream",
     "text": [
      "\n"
     ]
    },
    {
     "name": "stdout",
     "output_type": "stream",
     "text": [
      "Testing set:...Recall: 89.90 ,...Car Recall: 71.6587142944336 ,...Dice score: 0.1009979248046875 ,...Tversky loss: 0.2805020809173584,...Cross_entropy: 0.12669190764427185\n",
      "Training set:...Recall: 85.90 ,...Car Recall: 67.58271789550781 ,...Dice score: 0.17329198122024536 ,...Tversky loss: 0.33246317505836487,...Cross_entropy: 0.1522032916545868\n",
      "Traing epoch: 152.............................\n"
     ]
    },
    {
     "name": "stderr",
     "output_type": "stream",
     "text": [
      "100%|██████████| 24/24 [00:30<00:00,  1.28s/it, loss=0.549]"
     ]
    },
    {
     "name": "stdout",
     "output_type": "stream",
     "text": [
      "Total Loss: 0.5487231016159058...Tversky loss: 0.4616263508796692... Cross Entropy: 0.08709674328565598\n",
      "0.15818631649017334 > 0.4616263508796692????\n",
      "Checkpoint is not in top 5 :'(\n"
     ]
    },
    {
     "name": "stderr",
     "output_type": "stream",
     "text": [
      "\n"
     ]
    },
    {
     "name": "stdout",
     "output_type": "stream",
     "text": [
      "Testing set:...Recall: 90.75 ,...Car Recall: 71.4892349243164 ,...Dice score: 0.09248244762420654 ,...Tversky loss: 0.2691643536090851,...Cross_entropy: 0.12206753343343735\n",
      "Training set:...Recall: 86.96 ,...Car Recall: 70.58403778076172 ,...Dice score: 0.16912758350372314 ,...Tversky loss: 0.31035560369491577,...Cross_entropy: 0.1436663269996643\n",
      "Traing epoch: 153.............................\n"
     ]
    },
    {
     "name": "stderr",
     "output_type": "stream",
     "text": [
      "100%|██████████| 24/24 [00:30<00:00,  1.27s/it, loss=0.167]\n"
     ]
    },
    {
     "name": "stdout",
     "output_type": "stream",
     "text": [
      "Total Loss: 0.16707462072372437...Tversky loss: 0.1362375169992447... Cross Entropy: 0.030837101861834526\n",
      "0.15818631649017334 > 0.1362375169992447????\n",
      "=> Saving checkpoint\n",
      "Testing set:...Recall: 90.87 ,...Car Recall: 72.36843872070312 ,...Dice score: 0.0912942886352539 ,...Tversky loss: 0.26777729392051697,...Cross_entropy: 0.11255042999982834\n",
      "Training set:...Recall: 86.16 ,...Car Recall: 62.255306243896484 ,...Dice score: 0.18437731266021729 ,...Tversky loss: 0.35035234689712524,...Cross_entropy: 0.16805022954940796\n",
      "Traing epoch: 154.............................\n"
     ]
    },
    {
     "name": "stderr",
     "output_type": "stream",
     "text": [
      "100%|██████████| 24/24 [00:30<00:00,  1.28s/it, loss=0.295]"
     ]
    },
    {
     "name": "stdout",
     "output_type": "stream",
     "text": [
      "Total Loss: 0.29463306069374084...Tversky loss: 0.22992661595344543... Cross Entropy: 0.06470643728971481\n",
      "0.14229509234428406 > 0.22992661595344543????\n",
      "Checkpoint is not in top 5 :'(\n"
     ]
    },
    {
     "name": "stderr",
     "output_type": "stream",
     "text": [
      "\n"
     ]
    },
    {
     "name": "stdout",
     "output_type": "stream",
     "text": [
      "Testing set:...Recall: 91.70 ,...Car Recall: 70.97500610351562 ,...Dice score: 0.08304488658905029 ,...Tversky loss: 0.2497679740190506,...Cross_entropy: 0.10778108984231949\n",
      "Training set:...Recall: 88.35 ,...Car Recall: 61.580814361572266 ,...Dice score: 0.14693593978881836 ,...Tversky loss: 0.3093164563179016,...Cross_entropy: 0.15089643001556396\n",
      "Traing epoch: 155.............................\n"
     ]
    },
    {
     "name": "stderr",
     "output_type": "stream",
     "text": [
      "100%|██████████| 24/24 [00:30<00:00,  1.28s/it, loss=2.5]"
     ]
    },
    {
     "name": "stdout",
     "output_type": "stream",
     "text": [
      "Total Loss: 2.5026326179504395...Tversky loss: 0.5485170483589172... Cross Entropy: 1.9541155099868774\n",
      "0.14229509234428406 > 0.5485170483589172????\n",
      "Checkpoint is not in top 5 :'(\n"
     ]
    },
    {
     "name": "stderr",
     "output_type": "stream",
     "text": [
      "\n"
     ]
    },
    {
     "name": "stdout",
     "output_type": "stream",
     "text": [
      "Testing set:...Recall: 91.02 ,...Car Recall: 65.8621826171875 ,...Dice score: 0.0897674560546875 ,...Tversky loss: 0.26236531138420105,...Cross_entropy: 0.1380128115415573\n",
      "Training set:...Recall: 86.38 ,...Car Recall: 56.247806549072266 ,...Dice score: 0.16620087623596191 ,...Tversky loss: 0.31886735558509827,...Cross_entropy: 0.18879453837871552\n",
      "Traing epoch: 156.............................\n"
     ]
    },
    {
     "name": "stderr",
     "output_type": "stream",
     "text": [
      "100%|██████████| 24/24 [00:30<00:00,  1.27s/it, loss=0.542]"
     ]
    },
    {
     "name": "stdout",
     "output_type": "stream",
     "text": [
      "Total Loss: 0.5424257516860962...Tversky loss: 0.3238838016986847... Cross Entropy: 0.2185419648885727\n",
      "0.14229509234428406 > 0.3238838016986847????\n",
      "Checkpoint is not in top 5 :'(\n"
     ]
    },
    {
     "name": "stderr",
     "output_type": "stream",
     "text": [
      "\n"
     ]
    },
    {
     "name": "stdout",
     "output_type": "stream",
     "text": [
      "Testing set:...Recall: 90.81 ,...Car Recall: 69.75684356689453 ,...Dice score: 0.09192550182342529 ,...Tversky loss: 0.2701122462749481,...Cross_entropy: 0.12506471574306488\n",
      "Training set:...Recall: 86.87 ,...Car Recall: 66.06002807617188 ,...Dice score: 0.16702592372894287 ,...Tversky loss: 0.317327618598938,...Cross_entropy: 0.14769089221954346\n",
      "Traing epoch: 157.............................\n"
     ]
    },
    {
     "name": "stderr",
     "output_type": "stream",
     "text": [
      "100%|██████████| 24/24 [00:30<00:00,  1.28s/it, loss=0.24]"
     ]
    },
    {
     "name": "stdout",
     "output_type": "stream",
     "text": [
      "Total Loss: 0.23963528871536255...Tversky loss: 0.18208469450473785... Cross Entropy: 0.057550590485334396\n",
      "0.14229509234428406 > 0.18208469450473785????\n",
      "Checkpoint is not in top 5 :'(\n"
     ]
    },
    {
     "name": "stderr",
     "output_type": "stream",
     "text": [
      "\n"
     ]
    },
    {
     "name": "stdout",
     "output_type": "stream",
     "text": [
      "Testing set:...Recall: 91.03 ,...Car Recall: 71.86524200439453 ,...Dice score: 0.08972364664077759 ,...Tversky loss: 0.2621142864227295,...Cross_entropy: 0.11669166386127472\n",
      "Training set:...Recall: 86.59 ,...Car Recall: 60.681365966796875 ,...Dice score: 0.16895818710327148 ,...Tversky loss: 0.3237967789173126,...Cross_entropy: 0.1711137890815735\n",
      "Traing epoch: 158.............................\n"
     ]
    },
    {
     "name": "stderr",
     "output_type": "stream",
     "text": [
      "100%|██████████| 24/24 [00:30<00:00,  1.27s/it, loss=0.504]"
     ]
    },
    {
     "name": "stdout",
     "output_type": "stream",
     "text": [
      "Total Loss: 0.5039569735527039...Tversky loss: 0.401015967130661... Cross Entropy: 0.10294099897146225\n",
      "0.14229509234428406 > 0.401015967130661????\n",
      "Checkpoint is not in top 5 :'(\n"
     ]
    },
    {
     "name": "stderr",
     "output_type": "stream",
     "text": [
      "\n"
     ]
    },
    {
     "name": "stdout",
     "output_type": "stream",
     "text": [
      "Testing set:...Recall: 91.10 ,...Car Recall: 66.24108123779297 ,...Dice score: 0.08903855085372925 ,...Tversky loss: 0.2658331096172333,...Cross_entropy: 0.12836463749408722\n",
      "Training set:...Recall: 87.16 ,...Car Recall: 62.778236389160156 ,...Dice score: 0.17031151056289673 ,...Tversky loss: 0.3096723258495331,...Cross_entropy: 0.16223111748695374\n",
      "Traing epoch: 159.............................\n"
     ]
    },
    {
     "name": "stderr",
     "output_type": "stream",
     "text": [
      "100%|██████████| 24/24 [00:30<00:00,  1.28s/it, loss=0.328]"
     ]
    },
    {
     "name": "stdout",
     "output_type": "stream",
     "text": [
      "Total Loss: 0.3280218243598938...Tversky loss: 0.22787697613239288... Cross Entropy: 0.10014484077692032\n",
      "0.14229509234428406 > 0.22787697613239288????\n",
      "Checkpoint is not in top 5 :'(\n"
     ]
    },
    {
     "name": "stderr",
     "output_type": "stream",
     "text": [
      "\n"
     ]
    },
    {
     "name": "stdout",
     "output_type": "stream",
     "text": [
      "Testing set:...Recall: 90.66 ,...Car Recall: 73.25552368164062 ,...Dice score: 0.09340101480484009 ,...Tversky loss: 0.2710718810558319,...Cross_entropy: 0.11299066990613937\n",
      "Training set:...Recall: 87.35 ,...Car Recall: 70.91216278076172 ,...Dice score: 0.16753816604614258 ,...Tversky loss: 0.31860050559043884,...Cross_entropy: 0.13675403594970703\n",
      "Traing epoch: 160.............................\n"
     ]
    },
    {
     "name": "stderr",
     "output_type": "stream",
     "text": [
      "100%|██████████| 24/24 [00:30<00:00,  1.27s/it, loss=0.656]"
     ]
    },
    {
     "name": "stdout",
     "output_type": "stream",
     "text": [
      "Total Loss: 0.6562505960464478...Tversky loss: 0.3868784010410309... Cross Entropy: 0.26937219500541687\n",
      "0.14229509234428406 > 0.3868784010410309????\n",
      "Checkpoint is not in top 5 :'(\n"
     ]
    },
    {
     "name": "stderr",
     "output_type": "stream",
     "text": [
      "\n"
     ]
    },
    {
     "name": "stdout",
     "output_type": "stream",
     "text": [
      "Testing set:...Recall: 90.56 ,...Car Recall: 73.29414367675781 ,...Dice score: 0.09441477060317993 ,...Tversky loss: 0.27107444405555725,...Cross_entropy: 0.1209215447306633\n",
      "Training set:...Recall: 87.34 ,...Car Recall: 69.76685333251953 ,...Dice score: 0.17793011665344238 ,...Tversky loss: 0.32825765013694763,...Cross_entropy: 0.13799023628234863\n",
      "Traing epoch: 161.............................\n"
     ]
    },
    {
     "name": "stderr",
     "output_type": "stream",
     "text": [
      "100%|██████████| 24/24 [00:30<00:00,  1.28s/it, loss=0.838]"
     ]
    },
    {
     "name": "stdout",
     "output_type": "stream",
     "text": [
      "Total Loss: 0.8377094864845276...Tversky loss: 0.5835216641426086... Cross Entropy: 0.25418782234191895\n",
      "0.14229509234428406 > 0.5835216641426086????\n",
      "Checkpoint is not in top 5 :'(\n"
     ]
    },
    {
     "name": "stderr",
     "output_type": "stream",
     "text": [
      "\n"
     ]
    },
    {
     "name": "stdout",
     "output_type": "stream",
     "text": [
      "Testing set:...Recall: 90.74 ,...Car Recall: 63.66706085205078 ,...Dice score: 0.0925949215888977 ,...Tversky loss: 0.275381863117218,...Cross_entropy: 0.1395300179719925\n",
      "Training set:...Recall: 87.92 ,...Car Recall: 62.54140090942383 ,...Dice score: 0.16311311721801758 ,...Tversky loss: 0.3175932765007019,...Cross_entropy: 0.1555096060037613\n",
      "Traing epoch: 162.............................\n"
     ]
    },
    {
     "name": "stderr",
     "output_type": "stream",
     "text": [
      "100%|██████████| 24/24 [00:30<00:00,  1.27s/it, loss=1.78]"
     ]
    },
    {
     "name": "stdout",
     "output_type": "stream",
     "text": [
      "Total Loss: 1.7795352935791016...Tversky loss: 0.5609216094017029... Cross Entropy: 1.2186137437820435\n",
      "0.14229509234428406 > 0.5609216094017029????\n",
      "Checkpoint is not in top 5 :'(\n"
     ]
    },
    {
     "name": "stderr",
     "output_type": "stream",
     "text": [
      "\n"
     ]
    },
    {
     "name": "stdout",
     "output_type": "stream",
     "text": [
      "Testing set:...Recall: 90.54 ,...Car Recall: 70.01566314697266 ,...Dice score: 0.09463298320770264 ,...Tversky loss: 0.2752685844898224,...Cross_entropy: 0.12071939557790756\n",
      "Training set:...Recall: 87.60 ,...Car Recall: 63.88014602661133 ,...Dice score: 0.16404485702514648 ,...Tversky loss: 0.31756407022476196,...Cross_entropy: 0.1547187715768814\n",
      "Traing epoch: 163.............................\n"
     ]
    },
    {
     "name": "stderr",
     "output_type": "stream",
     "text": [
      "100%|██████████| 24/24 [00:30<00:00,  1.27s/it, loss=0.476]"
     ]
    },
    {
     "name": "stdout",
     "output_type": "stream",
     "text": [
      "Total Loss: 0.47649866342544556...Tversky loss: 0.3385619521141052... Cross Entropy: 0.13793671131134033\n",
      "0.14229509234428406 > 0.3385619521141052????\n",
      "Checkpoint is not in top 5 :'(\n"
     ]
    },
    {
     "name": "stderr",
     "output_type": "stream",
     "text": [
      "\n"
     ]
    },
    {
     "name": "stdout",
     "output_type": "stream",
     "text": [
      "Testing set:...Recall: 90.76 ,...Car Recall: 70.65259552001953 ,...Dice score: 0.09242808818817139 ,...Tversky loss: 0.2721292972564697,...Cross_entropy: 0.12057492882013321\n",
      "Training set:...Recall: 86.03 ,...Car Recall: 58.4940071105957 ,...Dice score: 0.1805487871170044 ,...Tversky loss: 0.3374142050743103,...Cross_entropy: 0.17137345671653748\n",
      "Traing epoch: 164.............................\n"
     ]
    },
    {
     "name": "stderr",
     "output_type": "stream",
     "text": [
      "100%|██████████| 24/24 [00:30<00:00,  1.27s/it, loss=0.168]\n"
     ]
    },
    {
     "name": "stdout",
     "output_type": "stream",
     "text": [
      "Total Loss: 0.16823332011699677...Tversky loss: 0.12310388684272766... Cross Entropy: 0.0451294369995594\n",
      "0.14229509234428406 > 0.12310388684272766????\n",
      "=> Saving checkpoint\n",
      "Testing set:...Recall: 90.12 ,...Car Recall: 69.21082305908203 ,...Dice score: 0.09883677959442139 ,...Tversky loss: 0.28127428889274597,...Cross_entropy: 0.1334417313337326\n",
      "Training set:...Recall: 84.98 ,...Car Recall: 57.577640533447266 ,...Dice score: 0.19436055421829224 ,...Tversky loss: 0.3394382894039154,...Cross_entropy: 0.19832071661949158\n",
      "Traing epoch: 165.............................\n"
     ]
    },
    {
     "name": "stderr",
     "output_type": "stream",
     "text": [
      "100%|██████████| 24/24 [00:30<00:00,  1.27s/it, loss=0.498]"
     ]
    },
    {
     "name": "stdout",
     "output_type": "stream",
     "text": [
      "Total Loss: 0.49757909774780273...Tversky loss: 0.3391082286834717... Cross Entropy: 0.15847086906433105\n",
      "0.1362375169992447 > 0.3391082286834717????\n",
      "Checkpoint is not in top 5 :'(\n"
     ]
    },
    {
     "name": "stderr",
     "output_type": "stream",
     "text": [
      "\n"
     ]
    },
    {
     "name": "stdout",
     "output_type": "stream",
     "text": [
      "Testing set:...Recall: 91.44 ,...Car Recall: 69.65593719482422 ,...Dice score: 0.0855860710144043 ,...Tversky loss: 0.25696200132369995,...Cross_entropy: 0.11562094837427139\n",
      "Training set:...Recall: 87.33 ,...Car Recall: 62.13827896118164 ,...Dice score: 0.166642963886261 ,...Tversky loss: 0.30939266085624695,...Cross_entropy: 0.15651527047157288\n",
      "Traing epoch: 166.............................\n"
     ]
    },
    {
     "name": "stderr",
     "output_type": "stream",
     "text": [
      "100%|██████████| 24/24 [00:30<00:00,  1.28s/it, loss=0.351]"
     ]
    },
    {
     "name": "stdout",
     "output_type": "stream",
     "text": [
      "Total Loss: 0.3513721227645874...Tversky loss: 0.276939332485199... Cross Entropy: 0.07443280518054962\n",
      "0.1362375169992447 > 0.276939332485199????\n",
      "Checkpoint is not in top 5 :'(\n"
     ]
    },
    {
     "name": "stderr",
     "output_type": "stream",
     "text": [
      "\n"
     ]
    },
    {
     "name": "stdout",
     "output_type": "stream",
     "text": [
      "Testing set:...Recall: 88.48 ,...Car Recall: 70.97868347167969 ,...Dice score: 0.11518305540084839 ,...Tversky loss: 0.30295953154563904,...Cross_entropy: 0.1373199075460434\n",
      "Training set:...Recall: 84.49 ,...Car Recall: 66.62755584716797 ,...Dice score: 0.1940634846687317 ,...Tversky loss: 0.3332306742668152,...Cross_entropy: 0.15658803284168243\n",
      "Traing epoch: 167.............................\n"
     ]
    },
    {
     "name": "stderr",
     "output_type": "stream",
     "text": [
      "100%|██████████| 24/24 [00:30<00:00,  1.27s/it, loss=0.407]"
     ]
    },
    {
     "name": "stdout",
     "output_type": "stream",
     "text": [
      "Total Loss: 0.40654489398002625...Tversky loss: 0.3182564079761505... Cross Entropy: 0.08828847855329514\n",
      "0.1362375169992447 > 0.3182564079761505????\n",
      "Checkpoint is not in top 5 :'(\n"
     ]
    },
    {
     "name": "stderr",
     "output_type": "stream",
     "text": [
      "\n"
     ]
    },
    {
     "name": "stdout",
     "output_type": "stream",
     "text": [
      "Testing set:...Recall: 89.75 ,...Car Recall: 69.89479064941406 ,...Dice score: 0.1024850606918335 ,...Tversky loss: 0.2781234085559845,...Cross_entropy: 0.13144829869270325\n",
      "Training set:...Recall: 86.50 ,...Car Recall: 64.6052474975586 ,...Dice score: 0.1805335283279419 ,...Tversky loss: 0.32756170630455017,...Cross_entropy: 0.16960734128952026\n",
      "Traing epoch: 168.............................\n"
     ]
    },
    {
     "name": "stderr",
     "output_type": "stream",
     "text": [
      "100%|██████████| 24/24 [00:30<00:00,  1.27s/it, loss=0.844]"
     ]
    },
    {
     "name": "stdout",
     "output_type": "stream",
     "text": [
      "Total Loss: 0.8441931009292603...Tversky loss: 0.5989011526107788... Cross Entropy: 0.24529194831848145\n",
      "0.1362375169992447 > 0.5989011526107788????\n",
      "Checkpoint is not in top 5 :'(\n"
     ]
    },
    {
     "name": "stderr",
     "output_type": "stream",
     "text": [
      "\n"
     ]
    },
    {
     "name": "stdout",
     "output_type": "stream",
     "text": [
      "Testing set:...Recall: 91.46 ,...Car Recall: 69.73897552490234 ,...Dice score: 0.08540904521942139 ,...Tversky loss: 0.2504914402961731,...Cross_entropy: 0.11757365614175797\n",
      "Training set:...Recall: 86.21 ,...Car Recall: 63.41904830932617 ,...Dice score: 0.17074209451675415 ,...Tversky loss: 0.32496699690818787,...Cross_entropy: 0.169572114944458\n",
      "Traing epoch: 169.............................\n"
     ]
    },
    {
     "name": "stderr",
     "output_type": "stream",
     "text": [
      "100%|██████████| 24/24 [00:30<00:00,  1.28s/it, loss=0.255]"
     ]
    },
    {
     "name": "stdout",
     "output_type": "stream",
     "text": [
      "Total Loss: 0.2553104758262634...Tversky loss: 0.19556820392608643... Cross Entropy: 0.059742271900177\n",
      "0.1362375169992447 > 0.19556820392608643????\n",
      "Checkpoint is not in top 5 :'(\n"
     ]
    },
    {
     "name": "stderr",
     "output_type": "stream",
     "text": [
      "\n"
     ]
    },
    {
     "name": "stdout",
     "output_type": "stream",
     "text": [
      "Testing set:...Recall: 91.10 ,...Car Recall: 67.86022186279297 ,...Dice score: 0.08901625871658325 ,...Tversky loss: 0.2645677924156189,...Cross_entropy: 0.1212700828909874\n",
      "Training set:...Recall: 88.02 ,...Car Recall: 63.60635757446289 ,...Dice score: 0.16108858585357666 ,...Tversky loss: 0.320044606924057,...Cross_entropy: 0.14235273003578186\n",
      "Traing epoch: 170.............................\n"
     ]
    },
    {
     "name": "stderr",
     "output_type": "stream",
     "text": [
      "100%|██████████| 24/24 [00:30<00:00,  1.27s/it, loss=1.94]"
     ]
    },
    {
     "name": "stdout",
     "output_type": "stream",
     "text": [
      "Total Loss: 1.9371299743652344...Tversky loss: 0.5750342011451721... Cross Entropy: 1.3620957136154175\n",
      "0.1362375169992447 > 0.5750342011451721????\n",
      "Checkpoint is not in top 5 :'(\n"
     ]
    },
    {
     "name": "stderr",
     "output_type": "stream",
     "text": [
      "\n"
     ]
    },
    {
     "name": "stdout",
     "output_type": "stream",
     "text": [
      "Testing set:...Recall: 90.34 ,...Car Recall: 59.31492614746094 ,...Dice score: 0.09660583734512329 ,...Tversky loss: 0.29446953535079956,...Cross_entropy: 0.1590668261051178\n",
      "Training set:...Recall: 86.91 ,...Car Recall: 57.51081085205078 ,...Dice score: 0.1655462384223938 ,...Tversky loss: 0.3342535197734833,...Cross_entropy: 0.16966119408607483\n",
      "Traing epoch: 171.............................\n"
     ]
    },
    {
     "name": "stderr",
     "output_type": "stream",
     "text": [
      "100%|██████████| 24/24 [00:30<00:00,  1.27s/it, loss=0.255]"
     ]
    },
    {
     "name": "stdout",
     "output_type": "stream",
     "text": [
      "Total Loss: 0.2552390694618225...Tversky loss: 0.22036364674568176... Cross Entropy: 0.03487542271614075\n",
      "0.1362375169992447 > 0.22036364674568176????\n",
      "Checkpoint is not in top 5 :'(\n"
     ]
    },
    {
     "name": "stderr",
     "output_type": "stream",
     "text": [
      "\n"
     ]
    },
    {
     "name": "stdout",
     "output_type": "stream",
     "text": [
      "Testing set:...Recall: 89.78 ,...Car Recall: 74.31576538085938 ,...Dice score: 0.10218197107315063 ,...Tversky loss: 0.30161842703819275,...Cross_entropy: 0.12556049227714539\n",
      "Training set:...Recall: 83.45 ,...Car Recall: 61.25950241088867 ,...Dice score: 0.21784502267837524 ,...Tversky loss: 0.36780864000320435,...Cross_entropy: 0.19823873043060303\n",
      "Traing epoch: 172.............................\n"
     ]
    },
    {
     "name": "stderr",
     "output_type": "stream",
     "text": [
      "100%|██████████| 24/24 [00:30<00:00,  1.28s/it, loss=0.931]"
     ]
    },
    {
     "name": "stdout",
     "output_type": "stream",
     "text": [
      "Total Loss: 0.9306130409240723...Tversky loss: 0.5111570358276367... Cross Entropy: 0.41945597529411316\n",
      "0.1362375169992447 > 0.5111570358276367????\n",
      "Checkpoint is not in top 5 :'(\n"
     ]
    },
    {
     "name": "stderr",
     "output_type": "stream",
     "text": [
      "\n"
     ]
    },
    {
     "name": "stdout",
     "output_type": "stream",
     "text": [
      "Testing set:...Recall: 90.18 ,...Car Recall: 69.67301940917969 ,...Dice score: 0.09820157289505005 ,...Tversky loss: 0.2768954932689667,...Cross_entropy: 0.13104954361915588\n",
      "Training set:...Recall: 88.48 ,...Car Recall: 67.59497833251953 ,...Dice score: 0.15109902620315552 ,...Tversky loss: 0.3010140061378479,...Cross_entropy: 0.12653686106204987\n",
      "Traing epoch: 173.............................\n"
     ]
    },
    {
     "name": "stderr",
     "output_type": "stream",
     "text": [
      "100%|██████████| 24/24 [00:30<00:00,  1.28s/it, loss=0.874]"
     ]
    },
    {
     "name": "stdout",
     "output_type": "stream",
     "text": [
      "Total Loss: 0.874047040939331...Tversky loss: 0.5661606788635254... Cross Entropy: 0.3078863322734833\n",
      "0.1362375169992447 > 0.5661606788635254????\n",
      "Checkpoint is not in top 5 :'(\n"
     ]
    },
    {
     "name": "stderr",
     "output_type": "stream",
     "text": [
      "\n"
     ]
    },
    {
     "name": "stdout",
     "output_type": "stream",
     "text": [
      "Testing set:...Recall: 90.85 ,...Car Recall: 68.58911895751953 ,...Dice score: 0.09145355224609375 ,...Tversky loss: 0.2680753469467163,...Cross_entropy: 0.1258588284254074\n",
      "Training set:...Recall: 86.81 ,...Car Recall: 61.596073150634766 ,...Dice score: 0.1802857518196106 ,...Tversky loss: 0.3259645104408264,...Cross_entropy: 0.18784038722515106\n",
      "Traing epoch: 174.............................\n"
     ]
    },
    {
     "name": "stderr",
     "output_type": "stream",
     "text": [
      "100%|██████████| 24/24 [00:30<00:00,  1.27s/it, loss=0.327]"
     ]
    },
    {
     "name": "stdout",
     "output_type": "stream",
     "text": [
      "Total Loss: 0.32657766342163086...Tversky loss: 0.2106001228094101... Cross Entropy: 0.11597754806280136\n",
      "0.1362375169992447 > 0.2106001228094101????\n",
      "Checkpoint is not in top 5 :'(\n"
     ]
    },
    {
     "name": "stderr",
     "output_type": "stream",
     "text": [
      "\n"
     ]
    },
    {
     "name": "stdout",
     "output_type": "stream",
     "text": [
      "Testing set:...Recall: 90.71 ,...Car Recall: 70.03142547607422 ,...Dice score: 0.09292346239089966 ,...Tversky loss: 0.26820191740989685,...Cross_entropy: 0.12374377250671387\n",
      "Training set:...Recall: 89.30 ,...Car Recall: 67.94251251220703 ,...Dice score: 0.14379334449768066 ,...Tversky loss: 0.2917826175689697,...Cross_entropy: 0.12906858325004578\n",
      "Traing epoch: 175.............................\n"
     ]
    },
    {
     "name": "stderr",
     "output_type": "stream",
     "text": [
      "100%|██████████| 24/24 [00:30<00:00,  1.27s/it, loss=1.51]"
     ]
    },
    {
     "name": "stdout",
     "output_type": "stream",
     "text": [
      "Total Loss: 1.50783371925354...Tversky loss: 0.5141006112098694... Cross Entropy: 0.9937331080436707\n",
      "0.1362375169992447 > 0.5141006112098694????\n",
      "Checkpoint is not in top 5 :'(\n"
     ]
    },
    {
     "name": "stderr",
     "output_type": "stream",
     "text": [
      "\n"
     ]
    },
    {
     "name": "stdout",
     "output_type": "stream",
     "text": [
      "Testing set:...Recall: 90.20 ,...Car Recall: 72.39629364013672 ,...Dice score: 0.09798938035964966 ,...Tversky loss: 0.2736545503139496,...Cross_entropy: 0.12330317497253418\n",
      "Training set:...Recall: 85.17 ,...Car Recall: 65.20386505126953 ,...Dice score: 0.18779778480529785 ,...Tversky loss: 0.32184213399887085,...Cross_entropy: 0.15939784049987793\n",
      "Traing epoch: 176.............................\n"
     ]
    },
    {
     "name": "stderr",
     "output_type": "stream",
     "text": [
      "100%|██████████| 24/24 [00:30<00:00,  1.27s/it, loss=0.454]"
     ]
    },
    {
     "name": "stdout",
     "output_type": "stream",
     "text": [
      "Total Loss: 0.4543030261993408...Tversky loss: 0.3447965085506439... Cross Entropy: 0.1095065250992775\n",
      "0.1362375169992447 > 0.3447965085506439????\n",
      "Checkpoint is not in top 5 :'(\n"
     ]
    },
    {
     "name": "stderr",
     "output_type": "stream",
     "text": [
      "\n"
     ]
    },
    {
     "name": "stdout",
     "output_type": "stream",
     "text": [
      "Testing set:...Recall: 90.56 ,...Car Recall: 68.24385833740234 ,...Dice score: 0.09441429376602173 ,...Tversky loss: 0.27409154176712036,...Cross_entropy: 0.1383003294467926\n",
      "Training set:...Recall: 87.46 ,...Car Recall: 64.3240966796875 ,...Dice score: 0.16351348161697388 ,...Tversky loss: 0.30623167753219604,...Cross_entropy: 0.14745819568634033\n",
      "Traing epoch: 177.............................\n"
     ]
    },
    {
     "name": "stderr",
     "output_type": "stream",
     "text": [
      "100%|██████████| 24/24 [00:30<00:00,  1.27s/it, loss=0.572]"
     ]
    },
    {
     "name": "stdout",
     "output_type": "stream",
     "text": [
      "Total Loss: 0.5715171098709106...Tversky loss: 0.3411311209201813... Cross Entropy: 0.23038597404956818\n",
      "0.1362375169992447 > 0.3411311209201813????\n",
      "Checkpoint is not in top 5 :'(\n"
     ]
    },
    {
     "name": "stderr",
     "output_type": "stream",
     "text": [
      "\n"
     ]
    },
    {
     "name": "stdout",
     "output_type": "stream",
     "text": [
      "Testing set:...Recall: 90.99 ,...Car Recall: 73.25604248046875 ,...Dice score: 0.09008985757827759 ,...Tversky loss: 0.2625810205936432,...Cross_entropy: 0.11604052037000656\n",
      "Training set:...Recall: 86.26 ,...Car Recall: 63.28374099731445 ,...Dice score: 0.17314636707305908 ,...Tversky loss: 0.31400036811828613,...Cross_entropy: 0.16125068068504333\n",
      "Traing epoch: 178.............................\n"
     ]
    },
    {
     "name": "stderr",
     "output_type": "stream",
     "text": [
      "100%|██████████| 24/24 [00:30<00:00,  1.28s/it, loss=0.313]"
     ]
    },
    {
     "name": "stdout",
     "output_type": "stream",
     "text": [
      "Total Loss: 0.3127474784851074...Tversky loss: 0.23882053792476654... Cross Entropy: 0.07392693310976028\n",
      "0.1362375169992447 > 0.23882053792476654????\n",
      "Checkpoint is not in top 5 :'(\n"
     ]
    },
    {
     "name": "stderr",
     "output_type": "stream",
     "text": [
      "\n"
     ]
    },
    {
     "name": "stdout",
     "output_type": "stream",
     "text": [
      "Testing set:...Recall: 91.24 ,...Car Recall: 72.70030212402344 ,...Dice score: 0.0875697135925293 ,...Tversky loss: 0.25036534667015076,...Cross_entropy: 0.11864675581455231\n",
      "Training set:...Recall: 86.22 ,...Car Recall: 64.37665557861328 ,...Dice score: 0.18308860063552856 ,...Tversky loss: 0.3121435046195984,...Cross_entropy: 0.16048477590084076\n",
      "Traing epoch: 179.............................\n"
     ]
    },
    {
     "name": "stderr",
     "output_type": "stream",
     "text": [
      "100%|██████████| 24/24 [00:30<00:00,  1.28s/it, loss=0.646]"
     ]
    },
    {
     "name": "stdout",
     "output_type": "stream",
     "text": [
      "Total Loss: 0.6455723643302917...Tversky loss: 0.32486215233802795... Cross Entropy: 0.3207102119922638\n",
      "0.1362375169992447 > 0.32486215233802795????\n",
      "Checkpoint is not in top 5 :'(\n"
     ]
    },
    {
     "name": "stderr",
     "output_type": "stream",
     "text": [
      "\n"
     ]
    },
    {
     "name": "stdout",
     "output_type": "stream",
     "text": [
      "Testing set:...Recall: 90.79 ,...Car Recall: 69.88900756835938 ,...Dice score: 0.09209334850311279 ,...Tversky loss: 0.26662296056747437,...Cross_entropy: 0.12094823271036148\n",
      "Training set:...Recall: 90.10 ,...Car Recall: 69.71210479736328 ,...Dice score: 0.13820981979370117 ,...Tversky loss: 0.2933363616466522,...Cross_entropy: 0.11268405616283417\n",
      "Traing epoch: 180.............................\n"
     ]
    },
    {
     "name": "stderr",
     "output_type": "stream",
     "text": [
      "100%|██████████| 24/24 [00:30<00:00,  1.28s/it, loss=0.674]"
     ]
    },
    {
     "name": "stdout",
     "output_type": "stream",
     "text": [
      "Total Loss: 0.6735126972198486...Tversky loss: 0.4689059853553772... Cross Entropy: 0.20460672676563263\n",
      "0.1362375169992447 > 0.4689059853553772????\n",
      "Checkpoint is not in top 5 :'(\n"
     ]
    },
    {
     "name": "stderr",
     "output_type": "stream",
     "text": [
      "\n"
     ]
    },
    {
     "name": "stdout",
     "output_type": "stream",
     "text": [
      "Testing set:...Recall: 90.64 ,...Car Recall: 71.57568359375 ,...Dice score: 0.09359127283096313 ,...Tversky loss: 0.27277320623397827,...Cross_entropy: 0.12201423943042755\n",
      "Training set:...Recall: 87.02 ,...Car Recall: 64.87227630615234 ,...Dice score: 0.17582571506500244 ,...Tversky loss: 0.32655441761016846,...Cross_entropy: 0.15922275185585022\n",
      "Traing epoch: 181.............................\n"
     ]
    },
    {
     "name": "stderr",
     "output_type": "stream",
     "text": [
      "100%|██████████| 24/24 [00:30<00:00,  1.27s/it, loss=0.165]"
     ]
    },
    {
     "name": "stdout",
     "output_type": "stream",
     "text": [
      "Total Loss: 0.1652037352323532...Tversky loss: 0.14969147741794586... Cross Entropy: 0.015512252226471901\n",
      "0.1362375169992447 > 0.14969147741794586????\n",
      "Checkpoint is not in top 5 :'(\n"
     ]
    },
    {
     "name": "stderr",
     "output_type": "stream",
     "text": [
      "\n"
     ]
    },
    {
     "name": "stdout",
     "output_type": "stream",
     "text": [
      "Testing set:...Recall: 91.78 ,...Car Recall: 72.38262176513672 ,...Dice score: 0.08217054605484009 ,...Tversky loss: 0.2493716925382614,...Cross_entropy: 0.11039209365844727\n",
      "Training set:...Recall: 86.45 ,...Car Recall: 59.545127868652344 ,...Dice score: 0.17249441146850586 ,...Tversky loss: 0.32198596000671387,...Cross_entropy: 0.1702665537595749\n",
      "Traing epoch: 182.............................\n"
     ]
    },
    {
     "name": "stderr",
     "output_type": "stream",
     "text": [
      "100%|██████████| 24/24 [00:30<00:00,  1.27s/it, loss=0.697]"
     ]
    },
    {
     "name": "stdout",
     "output_type": "stream",
     "text": [
      "Total Loss: 0.6970770955085754...Tversky loss: 0.37029320001602173... Cross Entropy: 0.3267838954925537\n",
      "0.1362375169992447 > 0.37029320001602173????\n",
      "Checkpoint is not in top 5 :'(\n"
     ]
    },
    {
     "name": "stderr",
     "output_type": "stream",
     "text": [
      "\n"
     ]
    },
    {
     "name": "stdout",
     "output_type": "stream",
     "text": [
      "Testing set:...Recall: 91.11 ,...Car Recall: 73.8283462524414 ,...Dice score: 0.08891040086746216 ,...Tversky loss: 0.2559714913368225,...Cross_entropy: 0.11392296850681305\n",
      "Training set:...Recall: 88.45 ,...Car Recall: 69.44115447998047 ,...Dice score: 0.14929711818695068 ,...Tversky loss: 0.28551745414733887,...Cross_entropy: 0.13623884320259094\n",
      "Traing epoch: 183.............................\n"
     ]
    },
    {
     "name": "stderr",
     "output_type": "stream",
     "text": [
      "100%|██████████| 24/24 [00:30<00:00,  1.28s/it, loss=0.277]"
     ]
    },
    {
     "name": "stdout",
     "output_type": "stream",
     "text": [
      "Total Loss: 0.27716779708862305...Tversky loss: 0.2216571867465973... Cross Entropy: 0.05551061034202576\n",
      "0.1362375169992447 > 0.2216571867465973????\n",
      "Checkpoint is not in top 5 :'(\n"
     ]
    },
    {
     "name": "stderr",
     "output_type": "stream",
     "text": [
      "\n"
     ]
    },
    {
     "name": "stdout",
     "output_type": "stream",
     "text": [
      "Testing set:...Recall: 91.20 ,...Car Recall: 65.31694793701172 ,...Dice score: 0.08801323175430298 ,...Tversky loss: 0.27406036853790283,...Cross_entropy: 0.12872132658958435\n",
      "Training set:...Recall: 87.81 ,...Car Recall: 59.55539321899414 ,...Dice score: 0.15839815139770508 ,...Tversky loss: 0.32070228457450867,...Cross_entropy: 0.15383702516555786\n",
      "Traing epoch: 184.............................\n"
     ]
    },
    {
     "name": "stderr",
     "output_type": "stream",
     "text": [
      "100%|██████████| 24/24 [00:30<00:00,  1.28s/it, loss=0.335]"
     ]
    },
    {
     "name": "stdout",
     "output_type": "stream",
     "text": [
      "Total Loss: 0.3353935182094574...Tversky loss: 0.25556597113609314... Cross Entropy: 0.07982753962278366\n",
      "0.1362375169992447 > 0.25556597113609314????\n",
      "Checkpoint is not in top 5 :'(\n"
     ]
    },
    {
     "name": "stderr",
     "output_type": "stream",
     "text": [
      "\n"
     ]
    },
    {
     "name": "stdout",
     "output_type": "stream",
     "text": [
      "Testing set:...Recall: 89.73 ,...Car Recall: 70.21194458007812 ,...Dice score: 0.10271507501602173 ,...Tversky loss: 0.2871956527233124,...Cross_entropy: 0.1298605352640152\n",
      "Training set:...Recall: 87.84 ,...Car Recall: 70.2861099243164 ,...Dice score: 0.15603697299957275 ,...Tversky loss: 0.29211539030075073,...Cross_entropy: 0.13882996141910553\n",
      "Traing epoch: 185.............................\n"
     ]
    },
    {
     "name": "stderr",
     "output_type": "stream",
     "text": [
      "100%|██████████| 24/24 [00:30<00:00,  1.27s/it, loss=0.611]"
     ]
    },
    {
     "name": "stdout",
     "output_type": "stream",
     "text": [
      "Total Loss: 0.6112770438194275...Tversky loss: 0.3458198010921478... Cross Entropy: 0.26545724272727966\n",
      "0.1362375169992447 > 0.3458198010921478????\n",
      "Checkpoint is not in top 5 :'(\n"
     ]
    },
    {
     "name": "stderr",
     "output_type": "stream",
     "text": [
      "\n"
     ]
    },
    {
     "name": "stdout",
     "output_type": "stream",
     "text": [
      "Testing set:...Recall: 91.51 ,...Car Recall: 70.2818374633789 ,...Dice score: 0.08485513925552368 ,...Tversky loss: 0.25327324867248535,...Cross_entropy: 0.12475568056106567\n",
      "Training set:...Recall: 90.04 ,...Car Recall: 71.69490051269531 ,...Dice score: 0.13812732696533203 ,...Tversky loss: 0.2706620693206787,...Cross_entropy: 0.11743773519992828\n",
      "Traing epoch: 186.............................\n"
     ]
    },
    {
     "name": "stderr",
     "output_type": "stream",
     "text": [
      "100%|██████████| 24/24 [00:30<00:00,  1.26s/it, loss=0.33]"
     ]
    },
    {
     "name": "stdout",
     "output_type": "stream",
     "text": [
      "Total Loss: 0.3301815092563629...Tversky loss: 0.2782733738422394... Cross Entropy: 0.051908135414123535\n",
      "0.1362375169992447 > 0.2782733738422394????\n",
      "Checkpoint is not in top 5 :'(\n"
     ]
    },
    {
     "name": "stderr",
     "output_type": "stream",
     "text": [
      "\n"
     ]
    },
    {
     "name": "stdout",
     "output_type": "stream",
     "text": [
      "Testing set:...Recall: 90.98 ,...Car Recall: 67.44242858886719 ,...Dice score: 0.0902140736579895 ,...Tversky loss: 0.2758355736732483,...Cross_entropy: 0.13106971979141235\n",
      "Training set:...Recall: 88.01 ,...Car Recall: 65.7401123046875 ,...Dice score: 0.1613236665725708 ,...Tversky loss: 0.32060983777046204,...Cross_entropy: 0.1417967677116394\n",
      "Traing epoch: 187.............................\n"
     ]
    },
    {
     "name": "stderr",
     "output_type": "stream",
     "text": [
      "100%|██████████| 24/24 [00:30<00:00,  1.28s/it, loss=0.197]"
     ]
    },
    {
     "name": "stdout",
     "output_type": "stream",
     "text": [
      "Total Loss: 0.19697842001914978...Tversky loss: 0.15708936750888824... Cross Entropy: 0.039889052510261536\n",
      "0.1362375169992447 > 0.15708936750888824????\n",
      "Checkpoint is not in top 5 :'(\n"
     ]
    },
    {
     "name": "stderr",
     "output_type": "stream",
     "text": [
      "\n"
     ]
    },
    {
     "name": "stdout",
     "output_type": "stream",
     "text": [
      "Testing set:...Recall: 89.56 ,...Car Recall: 69.28938293457031 ,...Dice score: 0.10438281297683716 ,...Tversky loss: 0.2909388244152069,...Cross_entropy: 0.13011287152767181\n",
      "Training set:...Recall: 86.02 ,...Car Recall: 65.7082748413086 ,...Dice score: 0.16881996393203735 ,...Tversky loss: 0.32772186398506165,...Cross_entropy: 0.1547563672065735\n",
      "Traing epoch: 188.............................\n"
     ]
    },
    {
     "name": "stderr",
     "output_type": "stream",
     "text": [
      "100%|██████████| 24/24 [00:30<00:00,  1.27s/it, loss=0.405]"
     ]
    },
    {
     "name": "stdout",
     "output_type": "stream",
     "text": [
      "Total Loss: 0.4051576852798462...Tversky loss: 0.3116343021392822... Cross Entropy: 0.09352338314056396\n",
      "0.1362375169992447 > 0.3116343021392822????\n",
      "Checkpoint is not in top 5 :'(\n"
     ]
    },
    {
     "name": "stderr",
     "output_type": "stream",
     "text": [
      "\n"
     ]
    },
    {
     "name": "stdout",
     "output_type": "stream",
     "text": [
      "Testing set:...Recall: 91.65 ,...Car Recall: 71.51787567138672 ,...Dice score: 0.08345794677734375 ,...Tversky loss: 0.2503993809223175,...Cross_entropy: 0.11350579559803009\n",
      "Training set:...Recall: 87.79 ,...Car Recall: 62.66969299316406 ,...Dice score: 0.15700888633728027 ,...Tversky loss: 0.31154492497444153,...Cross_entropy: 0.15476110577583313\n",
      "Traing epoch: 189.............................\n"
     ]
    },
    {
     "name": "stderr",
     "output_type": "stream",
     "text": [
      "100%|██████████| 24/24 [00:30<00:00,  1.28s/it, loss=0.348]"
     ]
    },
    {
     "name": "stdout",
     "output_type": "stream",
     "text": [
      "Total Loss: 0.34754282236099243...Tversky loss: 0.30303433537483215... Cross Entropy: 0.04450848698616028\n",
      "0.1362375169992447 > 0.30303433537483215????\n",
      "Checkpoint is not in top 5 :'(\n"
     ]
    },
    {
     "name": "stderr",
     "output_type": "stream",
     "text": [
      "\n"
     ]
    },
    {
     "name": "stdout",
     "output_type": "stream",
     "text": [
      "Testing set:...Recall: 90.78 ,...Car Recall: 69.71900177001953 ,...Dice score: 0.09218031167984009 ,...Tversky loss: 0.2654542326927185,...Cross_entropy: 0.12322616577148438\n",
      "Training set:...Recall: 84.70 ,...Car Recall: 59.0299186706543 ,...Dice score: 0.1918337345123291 ,...Tversky loss: 0.34452688694000244,...Cross_entropy: 0.194227933883667\n",
      "Traing epoch: 190.............................\n"
     ]
    },
    {
     "name": "stderr",
     "output_type": "stream",
     "text": [
      "100%|██████████| 24/24 [00:30<00:00,  1.27s/it, loss=0.698]"
     ]
    },
    {
     "name": "stdout",
     "output_type": "stream",
     "text": [
      "Total Loss: 0.6977502703666687...Tversky loss: 0.4310849606990814... Cross Entropy: 0.2666653096675873\n",
      "0.1362375169992447 > 0.4310849606990814????\n",
      "Checkpoint is not in top 5 :'(\n"
     ]
    },
    {
     "name": "stderr",
     "output_type": "stream",
     "text": [
      "\n"
     ]
    },
    {
     "name": "stdout",
     "output_type": "stream",
     "text": [
      "Testing set:...Recall: 90.92 ,...Car Recall: 68.66480255126953 ,...Dice score: 0.0907546877861023 ,...Tversky loss: 0.26282572746276855,...Cross_entropy: 0.1293562799692154\n",
      "Training set:...Recall: 88.76 ,...Car Recall: 67.14897155761719 ,...Dice score: 0.1527038812637329 ,...Tversky loss: 0.2955498695373535,...Cross_entropy: 0.13240545988082886\n",
      "Traing epoch: 191.............................\n"
     ]
    },
    {
     "name": "stderr",
     "output_type": "stream",
     "text": [
      "100%|██████████| 24/24 [00:30<00:00,  1.27s/it, loss=1.24]"
     ]
    },
    {
     "name": "stdout",
     "output_type": "stream",
     "text": [
      "Total Loss: 1.2395744323730469...Tversky loss: 0.5956446528434753... Cross Entropy: 0.6439297795295715\n",
      "0.1362375169992447 > 0.5956446528434753????\n",
      "Checkpoint is not in top 5 :'(\n"
     ]
    },
    {
     "name": "stderr",
     "output_type": "stream",
     "text": [
      "\n"
     ]
    },
    {
     "name": "stdout",
     "output_type": "stream",
     "text": [
      "Testing set:...Recall: 91.39 ,...Car Recall: 70.8336410522461 ,...Dice score: 0.0861363410949707 ,...Tversky loss: 0.25261256098747253,...Cross_entropy: 0.12442492693662643\n",
      "Training set:...Recall: 87.58 ,...Car Recall: 63.24768829345703 ,...Dice score: 0.16707980632781982 ,...Tversky loss: 0.3207336664199829,...Cross_entropy: 0.15421167016029358\n",
      "Traing epoch: 192.............................\n"
     ]
    },
    {
     "name": "stderr",
     "output_type": "stream",
     "text": [
      "100%|██████████| 24/24 [00:30<00:00,  1.27s/it, loss=0.477]"
     ]
    },
    {
     "name": "stdout",
     "output_type": "stream",
     "text": [
      "Total Loss: 0.4774828851222992...Tversky loss: 0.3171637952327728... Cross Entropy: 0.16031908988952637\n",
      "0.1362375169992447 > 0.3171637952327728????\n",
      "Checkpoint is not in top 5 :'(\n"
     ]
    },
    {
     "name": "stderr",
     "output_type": "stream",
     "text": [
      "\n"
     ]
    },
    {
     "name": "stdout",
     "output_type": "stream",
     "text": [
      "Testing set:...Recall: 91.58 ,...Car Recall: 70.09632873535156 ,...Dice score: 0.08418470621109009 ,...Tversky loss: 0.2531134784221649,...Cross_entropy: 0.11374493688344955\n",
      "Training set:...Recall: 87.90 ,...Car Recall: 62.87316131591797 ,...Dice score: 0.15524983406066895 ,...Tversky loss: 0.30671942234039307,...Cross_entropy: 0.14265134930610657\n",
      "Traing epoch: 193.............................\n"
     ]
    },
    {
     "name": "stderr",
     "output_type": "stream",
     "text": [
      "100%|██████████| 24/24 [00:30<00:00,  1.27s/it, loss=0.476]"
     ]
    },
    {
     "name": "stdout",
     "output_type": "stream",
     "text": [
      "Total Loss: 0.4762393832206726...Tversky loss: 0.3598160743713379... Cross Entropy: 0.11642330139875412\n",
      "0.1362375169992447 > 0.3598160743713379????\n",
      "Checkpoint is not in top 5 :'(\n"
     ]
    },
    {
     "name": "stderr",
     "output_type": "stream",
     "text": [
      "\n"
     ]
    },
    {
     "name": "stdout",
     "output_type": "stream",
     "text": [
      "Testing set:...Recall: 91.02 ,...Car Recall: 73.7739486694336 ,...Dice score: 0.08982694149017334 ,...Tversky loss: 0.25794532895088196,...Cross_entropy: 0.11749356985092163\n",
      "Training set:...Recall: 87.01 ,...Car Recall: 66.44427490234375 ,...Dice score: 0.17119896411895752 ,...Tversky loss: 0.320974200963974,...Cross_entropy: 0.14149728417396545\n",
      "Traing epoch: 194.............................\n"
     ]
    },
    {
     "name": "stderr",
     "output_type": "stream",
     "text": [
      "100%|██████████| 24/24 [00:30<00:00,  1.27s/it, loss=0.297]"
     ]
    },
    {
     "name": "stdout",
     "output_type": "stream",
     "text": [
      "Total Loss: 0.2967863082885742...Tversky loss: 0.23821017146110535... Cross Entropy: 0.05857614427804947\n",
      "0.1362375169992447 > 0.23821017146110535????\n",
      "Checkpoint is not in top 5 :'(\n"
     ]
    },
    {
     "name": "stderr",
     "output_type": "stream",
     "text": [
      "\n"
     ]
    },
    {
     "name": "stdout",
     "output_type": "stream",
     "text": [
      "Testing set:...Recall: 90.68 ,...Car Recall: 71.82820129394531 ,...Dice score: 0.09323269128799438 ,...Tversky loss: 0.26638463139533997,...Cross_entropy: 0.12126673758029938\n",
      "Training set:...Recall: 88.04 ,...Car Recall: 69.99430084228516 ,...Dice score: 0.1644619107246399 ,...Tversky loss: 0.30560651421546936,...Cross_entropy: 0.12970802187919617\n",
      "Traing epoch: 195.............................\n"
     ]
    },
    {
     "name": "stderr",
     "output_type": "stream",
     "text": [
      "100%|██████████| 24/24 [00:30<00:00,  1.27s/it, loss=0.974]"
     ]
    },
    {
     "name": "stdout",
     "output_type": "stream",
     "text": [
      "Total Loss: 0.9743697047233582...Tversky loss: 0.4777521789073944... Cross Entropy: 0.49661752581596375\n",
      "0.1362375169992447 > 0.4777521789073944????\n",
      "Checkpoint is not in top 5 :'(\n"
     ]
    },
    {
     "name": "stderr",
     "output_type": "stream",
     "text": [
      "\n"
     ]
    },
    {
     "name": "stdout",
     "output_type": "stream",
     "text": [
      "Testing set:...Recall: 90.53 ,...Car Recall: 71.38859558105469 ,...Dice score: 0.09471642971038818 ,...Tversky loss: 0.27580806612968445,...Cross_entropy: 0.12402444332838058\n",
      "Training set:...Recall: 85.96 ,...Car Recall: 65.91796112060547 ,...Dice score: 0.17883050441741943 ,...Tversky loss: 0.3391152620315552,...Cross_entropy: 0.1570448875427246\n",
      "Traing epoch: 196.............................\n"
     ]
    },
    {
     "name": "stderr",
     "output_type": "stream",
     "text": [
      "100%|██████████| 24/24 [00:30<00:00,  1.27s/it, loss=0.425]"
     ]
    },
    {
     "name": "stdout",
     "output_type": "stream",
     "text": [
      "Total Loss: 0.42478498816490173...Tversky loss: 0.3558894395828247... Cross Entropy: 0.06889554113149643\n",
      "0.1362375169992447 > 0.3558894395828247????\n",
      "Checkpoint is not in top 5 :'(\n"
     ]
    },
    {
     "name": "stderr",
     "output_type": "stream",
     "text": [
      "\n"
     ]
    },
    {
     "name": "stdout",
     "output_type": "stream",
     "text": [
      "Testing set:...Recall: 90.22 ,...Car Recall: 69.18402099609375 ,...Dice score: 0.0978042483329773 ,...Tversky loss: 0.283532053232193,...Cross_entropy: 0.12359390407800674\n",
      "Training set:...Recall: 86.79 ,...Car Recall: 62.39365768432617 ,...Dice score: 0.16896915435791016 ,...Tversky loss: 0.3297356069087982,...Cross_entropy: 0.16972488164901733\n",
      "Traing epoch: 197.............................\n"
     ]
    },
    {
     "name": "stderr",
     "output_type": "stream",
     "text": [
      "100%|██████████| 24/24 [00:30<00:00,  1.05it/s, loss=0.389]Traceback (most recent call last):\n",
      "  File \"/usr/lib/python3.7/multiprocessing/queues.py\", line 242, in _feed\n",
      "    send_bytes(obj)\n",
      "  File \"/usr/lib/python3.7/multiprocessing/connection.py\", line 200, in send_bytes\n",
      "    self._send_bytes(m[offset:offset + size])\n",
      "  File \"/usr/lib/python3.7/multiprocessing/connection.py\", line 404, in _send_bytes\n",
      "    self._send(header + buf)\n",
      "  File \"/usr/lib/python3.7/multiprocessing/connection.py\", line 368, in _send\n",
      "    n = write(self._handle, buf)\n",
      "BrokenPipeError: [Errno 32] Broken pipe\n",
      "100%|██████████| 24/24 [00:30<00:00,  1.27s/it, loss=0.389]"
     ]
    },
    {
     "name": "stdout",
     "output_type": "stream",
     "text": [
      "Total Loss: 0.38880181312561035...Tversky loss: 0.28481802344322205... Cross Entropy: 0.10398378223180771\n",
      "0.1362375169992447 > 0.28481802344322205????\n",
      "Checkpoint is not in top 5 :'(\n"
     ]
    },
    {
     "name": "stderr",
     "output_type": "stream",
     "text": [
      "\n"
     ]
    },
    {
     "name": "stdout",
     "output_type": "stream",
     "text": [
      "Testing set:...Recall: 90.41 ,...Car Recall: 67.01728057861328 ,...Dice score: 0.0959310531616211 ,...Tversky loss: 0.2790967524051666,...Cross_entropy: 0.1299266368150711\n",
      "Training set:...Recall: 87.40 ,...Car Recall: 64.28180694580078 ,...Dice score: 0.16610127687454224 ,...Tversky loss: 0.31329071521759033,...Cross_entropy: 0.14519810676574707\n",
      "Traing epoch: 198.............................\n"
     ]
    },
    {
     "name": "stderr",
     "output_type": "stream",
     "text": [
      "100%|██████████| 24/24 [00:30<00:00,  1.26s/it, loss=0.162]"
     ]
    },
    {
     "name": "stdout",
     "output_type": "stream",
     "text": [
      "Total Loss: 0.16238665580749512...Tversky loss: 0.1430714726448059... Cross Entropy: 0.01931517757475376\n",
      "0.1362375169992447 > 0.1430714726448059????\n",
      "Checkpoint is not in top 5 :'(\n"
     ]
    },
    {
     "name": "stderr",
     "output_type": "stream",
     "text": [
      "\n"
     ]
    },
    {
     "name": "stdout",
     "output_type": "stream",
     "text": [
      "Testing set:...Recall: 91.43 ,...Car Recall: 72.61254119873047 ,...Dice score: 0.08567148447036743 ,...Tversky loss: 0.24883107841014862,...Cross_entropy: 0.11118613928556442\n",
      "Training set:...Recall: 87.00 ,...Car Recall: 63.83356475830078 ,...Dice score: 0.16855323314666748 ,...Tversky loss: 0.3061564266681671,...Cross_entropy: 0.15658000111579895\n",
      "Traing epoch: 199.............................\n"
     ]
    },
    {
     "name": "stderr",
     "output_type": "stream",
     "text": [
      "100%|██████████| 24/24 [00:30<00:00,  1.27s/it, loss=1.09]"
     ]
    },
    {
     "name": "stdout",
     "output_type": "stream",
     "text": [
      "Total Loss: 1.0933407545089722...Tversky loss: 0.5921383500099182... Cross Entropy: 0.501202404499054\n",
      "0.1362375169992447 > 0.5921383500099182????\n",
      "Checkpoint is not in top 5 :'(\n"
     ]
    },
    {
     "name": "stderr",
     "output_type": "stream",
     "text": [
      "\n"
     ]
    },
    {
     "name": "stdout",
     "output_type": "stream",
     "text": [
      "Testing set:...Recall: 91.29 ,...Car Recall: 70.4203109741211 ,...Dice score: 0.08705031871795654 ,...Tversky loss: 0.25007981061935425,...Cross_entropy: 0.12970280647277832\n",
      "Training set:...Recall: 86.76 ,...Car Recall: 64.32618713378906 ,...Dice score: 0.1666790246963501 ,...Tversky loss: 0.31117090582847595,...Cross_entropy: 0.1628732532262802\n",
      "Traing epoch: 200.............................\n"
     ]
    },
    {
     "name": "stderr",
     "output_type": "stream",
     "text": [
      "100%|██████████| 24/24 [00:30<00:00,  1.27s/it, loss=0.745]"
     ]
    },
    {
     "name": "stdout",
     "output_type": "stream",
     "text": [
      "Total Loss: 0.7449583411216736...Tversky loss: 0.4311213195323944... Cross Entropy: 0.3138370215892792\n",
      "0.1362375169992447 > 0.4311213195323944????\n",
      "Checkpoint is not in top 5 :'(\n"
     ]
    },
    {
     "name": "stderr",
     "output_type": "stream",
     "text": [
      "\n"
     ]
    },
    {
     "name": "stdout",
     "output_type": "stream",
     "text": [
      "Testing set:...Recall: 90.43 ,...Car Recall: 71.56280517578125 ,...Dice score: 0.09565168619155884 ,...Tversky loss: 0.2702483832836151,...Cross_entropy: 0.13237491250038147\n",
      "Training set:...Recall: 86.03 ,...Car Recall: 61.54631423950195 ,...Dice score: 0.17890989780426025 ,...Tversky loss: 0.32685205340385437,...Cross_entropy: 0.171531081199646\n",
      "Traing epoch: 201.............................\n"
     ]
    },
    {
     "name": "stderr",
     "output_type": "stream",
     "text": [
      "100%|██████████| 24/24 [00:30<00:00,  1.27s/it, loss=0.362]"
     ]
    },
    {
     "name": "stdout",
     "output_type": "stream",
     "text": [
      "Total Loss: 0.36193427443504333...Tversky loss: 0.21876701712608337... Cross Entropy: 0.14316725730895996\n",
      "0.1362375169992447 > 0.21876701712608337????\n",
      "Checkpoint is not in top 5 :'(\n"
     ]
    },
    {
     "name": "stderr",
     "output_type": "stream",
     "text": [
      "\n"
     ]
    },
    {
     "name": "stdout",
     "output_type": "stream",
     "text": [
      "Testing set:...Recall: 87.76 ,...Car Recall: 73.08998107910156 ,...Dice score: 0.12238413095474243 ,...Tversky loss: 0.3079928457736969,...Cross_entropy: 0.14777638018131256\n",
      "Training set:...Recall: 88.01 ,...Car Recall: 73.1218490600586 ,...Dice score: 0.15924513339996338 ,...Tversky loss: 0.3052350878715515,...Cross_entropy: 0.12210293114185333\n",
      "Traing epoch: 202.............................\n"
     ]
    },
    {
     "name": "stderr",
     "output_type": "stream",
     "text": [
      "100%|██████████| 24/24 [00:30<00:00,  1.27s/it, loss=0.436]"
     ]
    },
    {
     "name": "stdout",
     "output_type": "stream",
     "text": [
      "Total Loss: 0.43565088510513306...Tversky loss: 0.3621256351470947... Cross Entropy: 0.07352523505687714\n",
      "0.1362375169992447 > 0.3621256351470947????\n",
      "Checkpoint is not in top 5 :'(\n"
     ]
    },
    {
     "name": "stderr",
     "output_type": "stream",
     "text": [
      "\n"
     ]
    },
    {
     "name": "stdout",
     "output_type": "stream",
     "text": [
      "Testing set:...Recall: 91.14 ,...Car Recall: 69.1025619506836 ,...Dice score: 0.08864343166351318 ,...Tversky loss: 0.2715476453304291,...Cross_entropy: 0.11680185049772263\n",
      "Training set:...Recall: 87.12 ,...Car Recall: 63.14921951293945 ,...Dice score: 0.16295194625854492 ,...Tversky loss: 0.33016765117645264,...Cross_entropy: 0.14552274346351624\n",
      "Traing epoch: 203.............................\n"
     ]
    },
    {
     "name": "stderr",
     "output_type": "stream",
     "text": [
      "100%|██████████| 24/24 [00:30<00:00,  1.27s/it, loss=0.859]"
     ]
    },
    {
     "name": "stdout",
     "output_type": "stream",
     "text": [
      "Total Loss: 0.8588967323303223...Tversky loss: 0.38609936833381653... Cross Entropy: 0.4727973937988281\n",
      "0.1362375169992447 > 0.38609936833381653????\n",
      "Checkpoint is not in top 5 :'(\n"
     ]
    },
    {
     "name": "stderr",
     "output_type": "stream",
     "text": [
      "\n"
     ]
    },
    {
     "name": "stdout",
     "output_type": "stream",
     "text": [
      "Testing set:...Recall: 91.16 ,...Car Recall: 71.93960571289062 ,...Dice score: 0.0883631706237793 ,...Tversky loss: 0.25493940711021423,...Cross_entropy: 0.1151353269815445\n",
      "Training set:...Recall: 87.97 ,...Car Recall: 64.3593521118164 ,...Dice score: 0.1713963747024536 ,...Tversky loss: 0.3201150596141815,...Cross_entropy: 0.155014768242836\n",
      "Traing epoch: 204.............................\n"
     ]
    },
    {
     "name": "stderr",
     "output_type": "stream",
     "text": [
      "100%|██████████| 24/24 [00:30<00:00,  1.27s/it, loss=0.404]"
     ]
    },
    {
     "name": "stdout",
     "output_type": "stream",
     "text": [
      "Total Loss: 0.4038630425930023...Tversky loss: 0.2360689789056778... Cross Entropy: 0.16779406368732452\n",
      "0.1362375169992447 > 0.2360689789056778????\n",
      "Checkpoint is not in top 5 :'(\n"
     ]
    },
    {
     "name": "stderr",
     "output_type": "stream",
     "text": [
      "\n"
     ]
    },
    {
     "name": "stdout",
     "output_type": "stream",
     "text": [
      "Testing set:...Recall: 91.26 ,...Car Recall: 70.59584045410156 ,...Dice score: 0.08743590116500854 ,...Tversky loss: 0.26809781789779663,...Cross_entropy: 0.11686191707849503\n",
      "Training set:...Recall: 86.19 ,...Car Recall: 61.31147766113281 ,...Dice score: 0.17197853326797485 ,...Tversky loss: 0.3222140669822693,...Cross_entropy: 0.16506069898605347\n",
      "Traing epoch: 205.............................\n"
     ]
    },
    {
     "name": "stderr",
     "output_type": "stream",
     "text": [
      "100%|██████████| 24/24 [00:30<00:00,  1.27s/it, loss=1.2]"
     ]
    },
    {
     "name": "stdout",
     "output_type": "stream",
     "text": [
      "Total Loss: 1.2003796100616455...Tversky loss: 0.5154673457145691... Cross Entropy: 0.6849122047424316\n",
      "0.1362375169992447 > 0.5154673457145691????\n",
      "Checkpoint is not in top 5 :'(\n"
     ]
    },
    {
     "name": "stderr",
     "output_type": "stream",
     "text": [
      "\n"
     ]
    },
    {
     "name": "stdout",
     "output_type": "stream",
     "text": [
      "Testing set:...Recall: 89.59 ,...Car Recall: 75.85818481445312 ,...Dice score: 0.10413151979446411 ,...Tversky loss: 0.27721136808395386,...Cross_entropy: 0.12303751707077026\n",
      "Training set:...Recall: 84.74 ,...Car Recall: 66.79985809326172 ,...Dice score: 0.1922311782836914 ,...Tversky loss: 0.32926204800605774,...Cross_entropy: 0.1524139642715454\n",
      "Traing epoch: 206.............................\n"
     ]
    },
    {
     "name": "stderr",
     "output_type": "stream",
     "text": [
      "100%|██████████| 24/24 [00:30<00:00,  1.27s/it, loss=1.12]"
     ]
    },
    {
     "name": "stdout",
     "output_type": "stream",
     "text": [
      "Total Loss: 1.1206631660461426...Tversky loss: 0.5150706768035889... Cross Entropy: 0.6055924296379089\n",
      "0.1362375169992447 > 0.5150706768035889????\n",
      "Checkpoint is not in top 5 :'(\n"
     ]
    },
    {
     "name": "stderr",
     "output_type": "stream",
     "text": [
      "\n"
     ]
    },
    {
     "name": "stdout",
     "output_type": "stream",
     "text": [
      "Testing set:...Recall: 90.41 ,...Car Recall: 65.82722473144531 ,...Dice score: 0.0959324836730957 ,...Tversky loss: 0.27539047598838806,...Cross_entropy: 0.14664924144744873\n",
      "Training set:...Recall: 87.39 ,...Car Recall: 61.59606170654297 ,...Dice score: 0.17681986093521118 ,...Tversky loss: 0.32594165205955505,...Cross_entropy: 0.1740698516368866\n",
      "Traing epoch: 207.............................\n"
     ]
    },
    {
     "name": "stderr",
     "output_type": "stream",
     "text": [
      "100%|██████████| 24/24 [00:30<00:00,  1.27s/it, loss=0.274]"
     ]
    },
    {
     "name": "stdout",
     "output_type": "stream",
     "text": [
      "Total Loss: 0.2742340564727783...Tversky loss: 0.2040913999080658... Cross Entropy: 0.07014265656471252\n",
      "0.1362375169992447 > 0.2040913999080658????\n",
      "Checkpoint is not in top 5 :'(\n"
     ]
    },
    {
     "name": "stderr",
     "output_type": "stream",
     "text": [
      "\n"
     ]
    },
    {
     "name": "stdout",
     "output_type": "stream",
     "text": [
      "Testing set:...Recall: 89.86 ,...Car Recall: 70.65180206298828 ,...Dice score: 0.10144555568695068 ,...Tversky loss: 0.2958444058895111,...Cross_entropy: 0.12443041056394577\n",
      "Training set:...Recall: 88.18 ,...Car Recall: 68.12260437011719 ,...Dice score: 0.1642618179321289 ,...Tversky loss: 0.3186154365539551,...Cross_entropy: 0.15114949643611908\n",
      "Traing epoch: 208.............................\n"
     ]
    },
    {
     "name": "stderr",
     "output_type": "stream",
     "text": [
      "100%|██████████| 24/24 [00:30<00:00,  1.27s/it, loss=0.261]"
     ]
    },
    {
     "name": "stdout",
     "output_type": "stream",
     "text": [
      "Total Loss: 0.26063594222068787...Tversky loss: 0.2046215832233429... Cross Entropy: 0.056014370173215866\n",
      "0.1362375169992447 > 0.2046215832233429????\n",
      "Checkpoint is not in top 5 :'(\n"
     ]
    },
    {
     "name": "stderr",
     "output_type": "stream",
     "text": [
      "\n"
     ]
    },
    {
     "name": "stdout",
     "output_type": "stream",
     "text": [
      "Testing set:...Recall: 91.06 ,...Car Recall: 72.97200012207031 ,...Dice score: 0.0894012451171875 ,...Tversky loss: 0.25578394532203674,...Cross_entropy: 0.11652521044015884\n",
      "Training set:...Recall: 88.24 ,...Car Recall: 67.81565856933594 ,...Dice score: 0.16199380159378052 ,...Tversky loss: 0.30308738350868225,...Cross_entropy: 0.1388738602399826\n",
      "Traing epoch: 209.............................\n"
     ]
    },
    {
     "name": "stderr",
     "output_type": "stream",
     "text": [
      "100%|██████████| 24/24 [00:30<00:00,  1.27s/it, loss=0.908]"
     ]
    },
    {
     "name": "stdout",
     "output_type": "stream",
     "text": [
      "Total Loss: 0.9078332185745239...Tversky loss: 0.5894215106964111... Cross Entropy: 0.3184116780757904\n",
      "0.1362375169992447 > 0.5894215106964111????\n",
      "Checkpoint is not in top 5 :'(\n"
     ]
    },
    {
     "name": "stderr",
     "output_type": "stream",
     "text": [
      "\n"
     ]
    },
    {
     "name": "stdout",
     "output_type": "stream",
     "text": [
      "Testing set:...Recall: 91.19 ,...Car Recall: 70.12444305419922 ,...Dice score: 0.08812457323074341 ,...Tversky loss: 0.2643929421901703,...Cross_entropy: 0.1251833140850067\n",
      "Training set:...Recall: 89.08 ,...Car Recall: 71.9437484741211 ,...Dice score: 0.14738142490386963 ,...Tversky loss: 0.2752133011817932,...Cross_entropy: 0.12405149638652802\n",
      "Traing epoch: 210.............................\n"
     ]
    },
    {
     "name": "stderr",
     "output_type": "stream",
     "text": [
      "100%|██████████| 24/24 [00:30<00:00,  1.26s/it, loss=1.1]"
     ]
    },
    {
     "name": "stdout",
     "output_type": "stream",
     "text": [
      "Total Loss: 1.1017367839813232...Tversky loss: 0.5203715562820435... Cross Entropy: 0.5813652873039246\n",
      "0.1362375169992447 > 0.5203715562820435????\n",
      "Checkpoint is not in top 5 :'(\n"
     ]
    },
    {
     "name": "stderr",
     "output_type": "stream",
     "text": [
      "\n"
     ]
    },
    {
     "name": "stdout",
     "output_type": "stream",
     "text": [
      "Testing set:...Recall: 91.43 ,...Car Recall: 74.17440032958984 ,...Dice score: 0.08569639921188354 ,...Tversky loss: 0.2502039074897766,...Cross_entropy: 0.11316745728254318\n",
      "Training set:...Recall: 87.18 ,...Car Recall: 65.7340087890625 ,...Dice score: 0.16717052459716797 ,...Tversky loss: 0.3030838966369629,...Cross_entropy: 0.13885466754436493\n",
      "Traing epoch: 211.............................\n"
     ]
    },
    {
     "name": "stderr",
     "output_type": "stream",
     "text": [
      "100%|██████████| 24/24 [00:30<00:00,  1.28s/it, loss=0.833]"
     ]
    },
    {
     "name": "stdout",
     "output_type": "stream",
     "text": [
      "Total Loss: 0.8332265019416809...Tversky loss: 0.5695509314537048... Cross Entropy: 0.2636755704879761\n",
      "0.1362375169992447 > 0.5695509314537048????\n",
      "Checkpoint is not in top 5 :'(\n"
     ]
    },
    {
     "name": "stderr",
     "output_type": "stream",
     "text": [
      "\n"
     ]
    },
    {
     "name": "stdout",
     "output_type": "stream",
     "text": [
      "Testing set:...Recall: 89.62 ,...Car Recall: 73.93765258789062 ,...Dice score: 0.1037948727607727 ,...Tversky loss: 0.2774403691291809,...Cross_entropy: 0.1268281638622284\n",
      "Training set:...Recall: 86.88 ,...Car Recall: 66.05205535888672 ,...Dice score: 0.1693440079689026 ,...Tversky loss: 0.30956876277923584,...Cross_entropy: 0.14951026439666748\n",
      "Traing epoch: 212.............................\n"
     ]
    },
    {
     "name": "stderr",
     "output_type": "stream",
     "text": [
      "100%|██████████| 24/24 [00:30<00:00,  1.27s/it, loss=0.777]"
     ]
    },
    {
     "name": "stdout",
     "output_type": "stream",
     "text": [
      "Total Loss: 0.7774004340171814...Tversky loss: 0.5358187556266785... Cross Entropy: 0.24158167839050293\n",
      "0.1362375169992447 > 0.5358187556266785????\n",
      "Checkpoint is not in top 5 :'(\n"
     ]
    },
    {
     "name": "stderr",
     "output_type": "stream",
     "text": [
      "\n"
     ]
    },
    {
     "name": "stdout",
     "output_type": "stream",
     "text": [
      "Testing set:...Recall: 89.68 ,...Car Recall: 70.6318359375 ,...Dice score: 0.10318249464035034 ,...Tversky loss: 0.28929945826530457,...Cross_entropy: 0.12934304773807526\n",
      "Training set:...Recall: 87.72 ,...Car Recall: 69.11228942871094 ,...Dice score: 0.1601564884185791 ,...Tversky loss: 0.30383527278900146,...Cross_entropy: 0.13534539937973022\n",
      "Traing epoch: 213.............................\n"
     ]
    },
    {
     "name": "stderr",
     "output_type": "stream",
     "text": [
      "100%|██████████| 24/24 [00:30<00:00,  1.27s/it, loss=0.66]"
     ]
    },
    {
     "name": "stdout",
     "output_type": "stream",
     "text": [
      "Total Loss: 0.6603841185569763...Tversky loss: 0.4870973229408264... Cross Entropy: 0.1732867956161499\n",
      "0.1362375169992447 > 0.4870973229408264????\n",
      "Checkpoint is not in top 5 :'(\n"
     ]
    },
    {
     "name": "stderr",
     "output_type": "stream",
     "text": [
      "\n"
     ]
    },
    {
     "name": "stdout",
     "output_type": "stream",
     "text": [
      "Testing set:...Recall: 91.00 ,...Car Recall: 69.34955596923828 ,...Dice score: 0.09000188112258911 ,...Tversky loss: 0.2685716450214386,...Cross_entropy: 0.12286021560430527\n",
      "Training set:...Recall: 88.91 ,...Car Recall: 67.5772705078125 ,...Dice score: 0.15239441394805908 ,...Tversky loss: 0.29155540466308594,...Cross_entropy: 0.13457021117210388\n",
      "Traing epoch: 214.............................\n"
     ]
    },
    {
     "name": "stderr",
     "output_type": "stream",
     "text": [
      "100%|██████████| 24/24 [00:30<00:00,  1.27s/it, loss=0.191]"
     ]
    },
    {
     "name": "stdout",
     "output_type": "stream",
     "text": [
      "Total Loss: 0.19129949808120728...Tversky loss: 0.15737132728099823... Cross Entropy: 0.033928174525499344\n",
      "0.1362375169992447 > 0.15737132728099823????\n",
      "Checkpoint is not in top 5 :'(\n"
     ]
    },
    {
     "name": "stderr",
     "output_type": "stream",
     "text": [
      "\n"
     ]
    },
    {
     "name": "stdout",
     "output_type": "stream",
     "text": [
      "Testing set:...Recall: 90.31 ,...Car Recall: 75.2104721069336 ,...Dice score: 0.0968632698059082 ,...Tversky loss: 0.27178439497947693,...Cross_entropy: 0.1148686632514\n",
      "Training set:...Recall: 89.13 ,...Car Recall: 71.46712493896484 ,...Dice score: 0.1541951298713684 ,...Tversky loss: 0.29874736070632935,...Cross_entropy: 0.1217217668890953\n",
      "Traing epoch: 215.............................\n"
     ]
    },
    {
     "name": "stderr",
     "output_type": "stream",
     "text": [
      "100%|██████████| 24/24 [00:30<00:00,  1.26s/it, loss=0.328]"
     ]
    },
    {
     "name": "stdout",
     "output_type": "stream",
     "text": [
      "Total Loss: 0.32773348689079285...Tversky loss: 0.2744995951652527... Cross Entropy: 0.05323389917612076\n",
      "0.1362375169992447 > 0.2744995951652527????\n",
      "Checkpoint is not in top 5 :'(\n"
     ]
    },
    {
     "name": "stderr",
     "output_type": "stream",
     "text": [
      "\n"
     ]
    },
    {
     "name": "stdout",
     "output_type": "stream",
     "text": [
      "Testing set:...Recall: 91.66 ,...Car Recall: 72.28907775878906 ,...Dice score: 0.08344680070877075 ,...Tversky loss: 0.2502511441707611,...Cross_entropy: 0.11130328476428986\n",
      "Training set:...Recall: 87.24 ,...Car Recall: 63.12879943847656 ,...Dice score: 0.16240990161895752 ,...Tversky loss: 0.3124891519546509,...Cross_entropy: 0.1508236825466156\n",
      "Traing epoch: 216.............................\n"
     ]
    },
    {
     "name": "stderr",
     "output_type": "stream",
     "text": [
      "100%|██████████| 24/24 [00:30<00:00,  1.27s/it, loss=0.204]"
     ]
    },
    {
     "name": "stdout",
     "output_type": "stream",
     "text": [
      "Total Loss: 0.20360006392002106...Tversky loss: 0.1476457118988037... Cross Entropy: 0.05595434829592705\n",
      "0.1362375169992447 > 0.1476457118988037????\n",
      "Checkpoint is not in top 5 :'(\n"
     ]
    },
    {
     "name": "stderr",
     "output_type": "stream",
     "text": [
      "\n"
     ]
    },
    {
     "name": "stdout",
     "output_type": "stream",
     "text": [
      "Testing set:...Recall: 91.75 ,...Car Recall: 72.43517303466797 ,...Dice score: 0.08254653215408325 ,...Tversky loss: 0.2513881325721741,...Cross_entropy: 0.11104617267847061\n",
      "Training set:...Recall: 90.23 ,...Car Recall: 71.00696563720703 ,...Dice score: 0.13953542709350586 ,...Tversky loss: 0.27979719638824463,...Cross_entropy: 0.10869108140468597\n",
      "Traing epoch: 217.............................\n"
     ]
    },
    {
     "name": "stderr",
     "output_type": "stream",
     "text": [
      "100%|██████████| 24/24 [00:30<00:00,  1.26s/it, loss=0.163]\n"
     ]
    },
    {
     "name": "stdout",
     "output_type": "stream",
     "text": [
      "Total Loss: 0.16318057477474213...Tversky loss: 0.13479502499103546... Cross Entropy: 0.028385555371642113\n",
      "0.1362375169992447 > 0.13479502499103546????\n",
      "=> Saving checkpoint\n",
      "Testing set:...Recall: 90.53 ,...Car Recall: 74.83130645751953 ,...Dice score: 0.09471845626831055 ,...Tversky loss: 0.26781269907951355,...Cross_entropy: 0.11694198846817017\n",
      "Training set:...Recall: 88.70 ,...Car Recall: 73.1486587524414 ,...Dice score: 0.15107309818267822 ,...Tversky loss: 0.29415449500083923,...Cross_entropy: 0.11838160455226898\n",
      "Traing epoch: 218.............................\n"
     ]
    },
    {
     "name": "stderr",
     "output_type": "stream",
     "text": [
      "100%|██████████| 24/24 [00:30<00:00,  1.27s/it, loss=0.239]"
     ]
    },
    {
     "name": "stdout",
     "output_type": "stream",
     "text": [
      "Total Loss: 0.23881621658802032...Tversky loss: 0.20841223001480103... Cross Entropy: 0.030403992161154747\n",
      "0.13479502499103546 > 0.20841223001480103????\n",
      "Checkpoint is not in top 5 :'(\n"
     ]
    },
    {
     "name": "stderr",
     "output_type": "stream",
     "text": [
      "\n"
     ]
    },
    {
     "name": "stdout",
     "output_type": "stream",
     "text": [
      "Testing set:...Recall: 91.91 ,...Car Recall: 70.81681823730469 ,...Dice score: 0.08089244365692139 ,...Tversky loss: 0.24250967800617218,...Cross_entropy: 0.11027532070875168\n",
      "Training set:...Recall: 87.90 ,...Car Recall: 61.084503173828125 ,...Dice score: 0.1582101583480835 ,...Tversky loss: 0.32562369108200073,...Cross_entropy: 0.1525307595729828\n",
      "Traing epoch: 219.............................\n"
     ]
    },
    {
     "name": "stderr",
     "output_type": "stream",
     "text": [
      "100%|██████████| 24/24 [00:30<00:00,  1.28s/it, loss=1.17]"
     ]
    },
    {
     "name": "stdout",
     "output_type": "stream",
     "text": [
      "Total Loss: 1.1680781841278076...Tversky loss: 0.5875298380851746... Cross Entropy: 0.5805484056472778\n",
      "0.13479502499103546 > 0.5875298380851746????\n",
      "Checkpoint is not in top 5 :'(\n"
     ]
    },
    {
     "name": "stderr",
     "output_type": "stream",
     "text": [
      "\n"
     ]
    },
    {
     "name": "stdout",
     "output_type": "stream",
     "text": [
      "Testing set:...Recall: 90.61 ,...Car Recall: 68.60987854003906 ,...Dice score: 0.09390974044799805 ,...Tversky loss: 0.27445951104164124,...Cross_entropy: 0.12034408003091812\n",
      "Training set:...Recall: 87.85 ,...Car Recall: 68.43701934814453 ,...Dice score: 0.1574876308441162 ,...Tversky loss: 0.2929224967956543,...Cross_entropy: 0.1430685818195343\n",
      "Traing epoch: 220.............................\n"
     ]
    },
    {
     "name": "stderr",
     "output_type": "stream",
     "text": [
      "100%|██████████| 24/24 [00:30<00:00,  1.28s/it, loss=0.479]"
     ]
    },
    {
     "name": "stdout",
     "output_type": "stream",
     "text": [
      "Total Loss: 0.4788367450237274...Tversky loss: 0.35137951374053955... Cross Entropy: 0.12745723128318787\n",
      "0.13479502499103546 > 0.35137951374053955????\n",
      "Checkpoint is not in top 5 :'(\n"
     ]
    },
    {
     "name": "stderr",
     "output_type": "stream",
     "text": [
      "\n"
     ]
    },
    {
     "name": "stdout",
     "output_type": "stream",
     "text": [
      "Testing set:...Recall: 91.10 ,...Car Recall: 70.84519958496094 ,...Dice score: 0.0890345573425293 ,...Tversky loss: 0.2524431347846985,...Cross_entropy: 0.12670235335826874\n",
      "Training set:...Recall: 88.30 ,...Car Recall: 64.87991333007812 ,...Dice score: 0.1618332862854004 ,...Tversky loss: 0.3104917109012604,...Cross_entropy: 0.14524264633655548\n",
      "Traing epoch: 221.............................\n"
     ]
    },
    {
     "name": "stderr",
     "output_type": "stream",
     "text": [
      "100%|██████████| 24/24 [00:30<00:00,  1.28s/it, loss=0.271]"
     ]
    },
    {
     "name": "stdout",
     "output_type": "stream",
     "text": [
      "Total Loss: 0.27124524116516113...Tversky loss: 0.18803495168685913... Cross Entropy: 0.083210289478302\n",
      "0.13479502499103546 > 0.18803495168685913????\n",
      "Checkpoint is not in top 5 :'(\n"
     ]
    },
    {
     "name": "stderr",
     "output_type": "stream",
     "text": [
      "\n"
     ]
    },
    {
     "name": "stdout",
     "output_type": "stream",
     "text": [
      "Testing set:...Recall: 91.81 ,...Car Recall: 72.474853515625 ,...Dice score: 0.08189952373504639 ,...Tversky loss: 0.24754253029823303,...Cross_entropy: 0.11303307116031647\n",
      "Training set:...Recall: 87.99 ,...Car Recall: 62.97623062133789 ,...Dice score: 0.154030442237854 ,...Tversky loss: 0.3128674626350403,...Cross_entropy: 0.1516282707452774\n",
      "Traing epoch: 222.............................\n"
     ]
    },
    {
     "name": "stderr",
     "output_type": "stream",
     "text": [
      "100%|██████████| 24/24 [00:30<00:00,  1.28s/it, loss=0.439]"
     ]
    },
    {
     "name": "stdout",
     "output_type": "stream",
     "text": [
      "Total Loss: 0.43935292959213257...Tversky loss: 0.3491508960723877... Cross Entropy: 0.09020204842090607\n",
      "0.13479502499103546 > 0.3491508960723877????\n",
      "Checkpoint is not in top 5 :'(\n"
     ]
    },
    {
     "name": "stderr",
     "output_type": "stream",
     "text": [
      "\n"
     ]
    },
    {
     "name": "stdout",
     "output_type": "stream",
     "text": [
      "Testing set:...Recall: 91.32 ,...Car Recall: 74.47237396240234 ,...Dice score: 0.08683878183364868 ,...Tversky loss: 0.2521706521511078,...Cross_entropy: 0.10985448211431503\n",
      "Training set:...Recall: 87.16 ,...Car Recall: 61.823020935058594 ,...Dice score: 0.1850576400756836 ,...Tversky loss: 0.3355642259120941,...Cross_entropy: 0.19484929740428925\n",
      "Traing epoch: 223.............................\n"
     ]
    },
    {
     "name": "stderr",
     "output_type": "stream",
     "text": [
      "100%|██████████| 24/24 [00:30<00:00,  1.28s/it, loss=0.603]"
     ]
    },
    {
     "name": "stdout",
     "output_type": "stream",
     "text": [
      "Total Loss: 0.6032392382621765...Tversky loss: 0.42842739820480347... Cross Entropy: 0.17481182515621185\n",
      "0.13479502499103546 > 0.42842739820480347????\n",
      "Checkpoint is not in top 5 :'(\n"
     ]
    },
    {
     "name": "stderr",
     "output_type": "stream",
     "text": [
      "\n"
     ]
    },
    {
     "name": "stdout",
     "output_type": "stream",
     "text": [
      "Testing set:...Recall: 90.77 ,...Car Recall: 71.39122009277344 ,...Dice score: 0.09233194589614868 ,...Tversky loss: 0.26641035079956055,...Cross_entropy: 0.12403000891208649\n",
      "Training set:...Recall: 87.78 ,...Car Recall: 67.91613006591797 ,...Dice score: 0.1600072979927063 ,...Tversky loss: 0.30067580938339233,...Cross_entropy: 0.14052137732505798\n",
      "Traing epoch: 224.............................\n"
     ]
    },
    {
     "name": "stderr",
     "output_type": "stream",
     "text": [
      "100%|██████████| 24/24 [00:30<00:00,  1.28s/it, loss=0.221]"
     ]
    },
    {
     "name": "stdout",
     "output_type": "stream",
     "text": [
      "Total Loss: 0.22101537883281708...Tversky loss: 0.19341763854026794... Cross Entropy: 0.027597744017839432\n",
      "0.13479502499103546 > 0.19341763854026794????\n",
      "Checkpoint is not in top 5 :'(\n"
     ]
    },
    {
     "name": "stderr",
     "output_type": "stream",
     "text": [
      "\n"
     ]
    },
    {
     "name": "stdout",
     "output_type": "stream",
     "text": [
      "Testing set:...Recall: 90.58 ,...Car Recall: 74.9624252319336 ,...Dice score: 0.09420013427734375 ,...Tversky loss: 0.26966723799705505,...Cross_entropy: 0.1166171208024025\n",
      "Training set:...Recall: 85.42 ,...Car Recall: 69.20841979980469 ,...Dice score: 0.17989879846572876 ,...Tversky loss: 0.3222786486148834,...Cross_entropy: 0.1461583971977234\n",
      "Traing epoch: 225.............................\n"
     ]
    },
    {
     "name": "stderr",
     "output_type": "stream",
     "text": [
      "100%|██████████| 24/24 [00:30<00:00,  1.29s/it, loss=1.01]"
     ]
    },
    {
     "name": "stdout",
     "output_type": "stream",
     "text": [
      "Total Loss: 1.0137490034103394...Tversky loss: 0.5364577174186707... Cross Entropy: 0.4772912561893463\n",
      "0.13479502499103546 > 0.5364577174186707????\n",
      "Checkpoint is not in top 5 :'(\n"
     ]
    },
    {
     "name": "stderr",
     "output_type": "stream",
     "text": [
      "\n"
     ]
    },
    {
     "name": "stdout",
     "output_type": "stream",
     "text": [
      "Testing set:...Recall: 88.82 ,...Car Recall: 65.99329376220703 ,...Dice score: 0.11176908016204834 ,...Tversky loss: 0.30318620800971985,...Cross_entropy: 0.15822546184062958\n",
      "Training set:...Recall: 86.75 ,...Car Recall: 65.41706085205078 ,...Dice score: 0.17200732231140137 ,...Tversky loss: 0.3117121160030365,...Cross_entropy: 0.15345421433448792\n",
      "Traing epoch: 226.............................\n"
     ]
    },
    {
     "name": "stderr",
     "output_type": "stream",
     "text": [
      "100%|██████████| 24/24 [00:30<00:00,  1.28s/it, loss=0.265]"
     ]
    },
    {
     "name": "stdout",
     "output_type": "stream",
     "text": [
      "Total Loss: 0.2654208540916443...Tversky loss: 0.23909397423267365... Cross Entropy: 0.026326870545744896\n",
      "0.13479502499103546 > 0.23909397423267365????\n",
      "Checkpoint is not in top 5 :'(\n"
     ]
    },
    {
     "name": "stderr",
     "output_type": "stream",
     "text": [
      "\n"
     ]
    },
    {
     "name": "stdout",
     "output_type": "stream",
     "text": [
      "Testing set:...Recall: 90.73 ,...Car Recall: 72.44673919677734 ,...Dice score: 0.09265899658203125 ,...Tversky loss: 0.26706045866012573,...Cross_entropy: 0.12224357575178146\n",
      "Training set:...Recall: 87.27 ,...Car Recall: 64.39046478271484 ,...Dice score: 0.1573261022567749 ,...Tversky loss: 0.31638503074645996,...Cross_entropy: 0.15152961015701294\n",
      "Traing epoch: 227.............................\n"
     ]
    },
    {
     "name": "stderr",
     "output_type": "stream",
     "text": [
      "100%|██████████| 24/24 [00:30<00:00,  1.28s/it, loss=0.325]"
     ]
    },
    {
     "name": "stdout",
     "output_type": "stream",
     "text": [
      "Total Loss: 0.32535403966903687...Tversky loss: 0.2841944992542267... Cross Entropy: 0.04115954786539078\n",
      "0.13479502499103546 > 0.2841944992542267????\n",
      "Checkpoint is not in top 5 :'(\n"
     ]
    },
    {
     "name": "stderr",
     "output_type": "stream",
     "text": [
      "\n"
     ]
    },
    {
     "name": "stdout",
     "output_type": "stream",
     "text": [
      "Testing set:...Recall: 91.72 ,...Car Recall: 68.29798126220703 ,...Dice score: 0.08276259899139404 ,...Tversky loss: 0.2558186948299408,...Cross_entropy: 0.12442226707935333\n",
      "Training set:...Recall: 88.91 ,...Car Recall: 65.1263427734375 ,...Dice score: 0.14963090419769287 ,...Tversky loss: 0.2972058057785034,...Cross_entropy: 0.13269361853599548\n",
      "Traing epoch: 228.............................\n"
     ]
    },
    {
     "name": "stderr",
     "output_type": "stream",
     "text": [
      "100%|██████████| 24/24 [00:31<00:00,  1.29s/it, loss=0.208]"
     ]
    },
    {
     "name": "stdout",
     "output_type": "stream",
     "text": [
      "Total Loss: 0.20841941237449646...Tversky loss: 0.1708095520734787... Cross Entropy: 0.037609852850437164\n",
      "0.13479502499103546 > 0.1708095520734787????\n",
      "Checkpoint is not in top 5 :'(\n"
     ]
    },
    {
     "name": "stderr",
     "output_type": "stream",
     "text": [
      "\n"
     ]
    },
    {
     "name": "stdout",
     "output_type": "stream",
     "text": [
      "Testing set:...Recall: 90.84 ,...Car Recall: 71.1034927368164 ,...Dice score: 0.0915873646736145 ,...Tversky loss: 0.2661850154399872,...Cross_entropy: 0.12057826668024063\n",
      "Training set:...Recall: 88.90 ,...Car Recall: 68.77377319335938 ,...Dice score: 0.1574423909187317 ,...Tversky loss: 0.30431970953941345,...Cross_entropy: 0.12653879821300507\n",
      "Traing epoch: 229.............................\n"
     ]
    },
    {
     "name": "stderr",
     "output_type": "stream",
     "text": [
      "100%|██████████| 24/24 [00:30<00:00,  1.28s/it, loss=0.243]"
     ]
    },
    {
     "name": "stdout",
     "output_type": "stream",
     "text": [
      "Total Loss: 0.2426181137561798...Tversky loss: 0.1650579571723938... Cross Entropy: 0.07756014913320541\n",
      "0.13479502499103546 > 0.1650579571723938????\n",
      "Checkpoint is not in top 5 :'(\n"
     ]
    },
    {
     "name": "stderr",
     "output_type": "stream",
     "text": [
      "\n"
     ]
    },
    {
     "name": "stdout",
     "output_type": "stream",
     "text": [
      "Testing set:...Recall: 91.64 ,...Car Recall: 67.54569244384766 ,...Dice score: 0.08363848924636841 ,...Tversky loss: 0.2507879137992859,...Cross_entropy: 0.12482728809118271\n",
      "Training set:...Recall: 87.27 ,...Car Recall: 58.41094207763672 ,...Dice score: 0.1671770215034485 ,...Tversky loss: 0.32328909635543823,...Cross_entropy: 0.20745807886123657\n",
      "Traing epoch: 230.............................\n"
     ]
    },
    {
     "name": "stderr",
     "output_type": "stream",
     "text": [
      " 83%|████████▎ | 20/24 [00:26<00:05,  1.26s/it, loss=0.502]"
     ]
    }
   ],
   "source": [
    "def train_fn(loader, model, optimizer, loss_fn, scaler):\n",
    "    loop = tqdm(loader)\n",
    "\n",
    "    for batch_idx, all_data in enumerate(loop):\n",
    "        data = all_data[:, 0, :, :]\n",
    "        targets = all_data[:, 1:10, :, :]\n",
    "        data = data.float().unsqueeze(1).to(device=DEVICE)\n",
    "        targets = targets.float().to(device=DEVICE)\n",
    "\n",
    "        # forward\n",
    "        with torch.cuda.amp.autocast():\n",
    "            predictions = model(data)\n",
    "            loss = loss_fn(predictions, targets)\n",
    "\n",
    "        # backward\n",
    "        optimizer.zero_grad()\n",
    "        scaler.scale(loss).backward()\n",
    "        scaler.step(optimizer)\n",
    "        scaler.update()\n",
    "\n",
    "        # update tqdm loop\n",
    "        loop.set_postfix(loss=loss.item())\n",
    "\n",
    "    print(f\"Total Loss: {loss.item()}...Tversky loss: {loss_fn.tversky}... Cross Entropy: {loss_fn.ce}\")\n",
    "\n",
    "    # If model is on the top 5 save it\n",
    "    checkpoint = {\n",
    "        \"state_dict\": model.state_dict(),\n",
    "        \"optimizer\": optimizer.state_dict(),\n",
    "    }\n",
    "    check_top_five(path+\"/checkpoints/baseline/\", \"baseline.json\", loss_fn.tversky.item(), checkpoint)\n",
    "\n",
    "def main():\n",
    "    train_transform = torchvision.transforms.Compose([\n",
    "        Normalize(),\n",
    "        Rescale(256),\n",
    "        randomHorizontalFlip(),\n",
    "        randomShiftScaleRotate(),\n",
    "        randomHueSaturationValue(),\n",
    "        randomZoom(),\n",
    "        Grayscale(),\n",
    "        ToTensor(),\n",
    "    ])\n",
    "\n",
    "    test_transforms  = torchvision.transforms.Compose([\n",
    "        Normalize(),\n",
    "        Rescale(256),\n",
    "        Grayscale(),\n",
    "        ToTensor(),\n",
    "    ])\n",
    "\n",
    "    model = UNET(in_channels=1, out_channels=9).to(DEVICE)\n",
    "    loss_fn = Total_loss(alpha=alpha , beta=beta , sigma=sigma , theta=theta)\n",
    "    optimizer = optim.Adam(model.parameters(), lr=LEARNING_RATE , weight_decay=1e-5 , amsgrad=True )\n",
    "    scaler = torch.cuda.amp.GradScaler()\n",
    "\n",
    "    train_loader, test_loader = get_loaders(\n",
    "        TRAIN_IMG_DIR,\n",
    "        TEST_IMG_DIR,\n",
    "        BATCH_SIZE,\n",
    "        train_transform,\n",
    "        test_transforms,\n",
    "        NUM_WORKERS,\n",
    "        PIN_MEMORY,\n",
    "    )\n",
    "\n",
    "    if LOAD_MODEL:\n",
    "        load_checkpoint(torch.load(path+\"checkpoints/baseline/checkpoint_3.pth.tar\"), model)\n",
    "\n",
    "    for epoch in range(NUM_EPOCHS):\n",
    "        print(f\"Traing epoch: {epoch}.............................\")\n",
    "        train_fn(train_loader, model, optimizer, loss_fn, scaler)\n",
    "\n",
    "        # check accuracy\n",
    "        tmp_metrics = check_accuracy(train_loader ,test_loader, model, device=DEVICE)\n",
    "        #Save metrics\n",
    "        save_metrics(tmp_metrics,path+'/metrics/baseline.csv')\n",
    "\n",
    "if __name__ == '__main__':\n",
    "    main()\n"
   ]
  }
 ],
 "metadata": {
  "accelerator": "GPU",
  "colab": {
   "collapsed_sections": [],
   "name": "Untitled2.ipynb",
   "provenance": []
  },
  "kernelspec": {
   "display_name": "Python 3",
   "language": "python",
   "name": "python3"
  },
  "language_info": {
   "codemirror_mode": {
    "name": "ipython",
    "version": 3
   },
   "file_extension": ".py",
   "mimetype": "text/x-python",
   "name": "python",
   "nbconvert_exporter": "python",
   "pygments_lexer": "ipython3",
   "version": "3.8.3"
  }
 },
 "nbformat": 4,
 "nbformat_minor": 1
}
